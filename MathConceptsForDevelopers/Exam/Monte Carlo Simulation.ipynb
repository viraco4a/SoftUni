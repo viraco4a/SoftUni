{
 "cells": [
  {
   "cell_type": "code",
   "execution_count": 1,
   "metadata": {},
   "outputs": [],
   "source": [
    "%matplotlib inline"
   ]
  },
  {
   "cell_type": "code",
   "execution_count": 2,
   "metadata": {},
   "outputs": [],
   "source": [
    "import numpy as np\n",
    "import matplotlib.pyplot as plt\n",
    "import pandas as pd"
   ]
  },
  {
   "cell_type": "markdown",
   "metadata": {},
   "source": [
    "# Monte Carlo Simulation\n",
    "\n",
    "#### By Kaloyan Zlatkov\n",
    "\n",
    "## Abstract\n",
    "TODO"
   ]
  },
  {
   "cell_type": "markdown",
   "metadata": {},
   "source": [
    "## 1) What is a simulation?\n",
    "\n",
    "A simulation is is a fictitious representation of reality. A simulation is an approximate imitation of the operation of a process or system. In terms of computer simulation, it is an attempt to model a real-life or hypothetical situation on a computer so that it can be studied to see how the system works. By changing variables in the simulation, predictions may be made about the behaviour of the system. It is a tool to virtually investigate the behaviour of the system under study.\n",
    "\n",
    "![Alt text](https://cdn0.tnwcdn.com/wp-content/blogs.dir/1/files/2012/05/246005_1980289318379_1980263277728_41611_794_b.jpg)"
   ]
  },
  {
   "cell_type": "markdown",
   "metadata": {},
   "source": [
    "### 1.1) How is simulation used in science?\n",
    "\n",
    "Usually the simulation is used by creating a virtual model or smaller/cheaper replica of the studied scientific phenomena or object of interest. The closer the simulation parameters are to the real object of investigation, the more reliable the simulation will be. The simulation can be very complex or quite simple. \n",
    "\n",
    "For example drawing one pseudo-random uniform variable from the interval [0,1] can be used to simulate the tossing of a coin: If the value is less than or equal to 0.50 designate the outcome as heads, but if the value is greater than 0.50 designate the outcome as tails. The author's favourite tossing coin simulation is running his phone's chronometer. When he press the stop button (without looking at the numbers of the chronometer) he observes the figure of hundreds (miliseconds). If the number is even, the result of the simulation is heads (for example) and if it's odd - the result is tail. The simulation should yield close to fair 50/50 percent chance for either even or odd result. As does the tossing of fair coin."
   ]
  },
  {
   "cell_type": "markdown",
   "metadata": {},
   "source": [
    "### 1.2) Why is a simulation useful?\n",
    "\n",
    "In every scientific aspect of the human civilization there is place for simulation, especially if the real tests are too slow, too expensive or virtually impossible. Issues such as cost, safety, scope, time and scale can be overcome by the use of a scientific simulation. One of the primary advantages of simulators is that they are able to provide users with practical feedback when designing real world systems. This allows the designer to determine the correctness and efficiency of a design before the system is actually constructed. Consequently, the user may explore the merits of alternative designs without actually physically building the systems. By investigating the effects of specific design decisions during the design phase rather than the construction phase, the overall cost of building the system diminishes significantly.\n",
    "\n",
    "Another benefit of simulators is that they permit system designers to study a problem at several different levels of abstraction. By approaching a system at a higher level of abstraction, the designer is better able to understand the behaviours and interactions of all the high level components within the system and is therefore better equipped to counteract the complexity of the overall system. This complexity may simply overwhelm the designer if the problem had been approached from a lower level. As the designer better understands the operation of the higher level components through the use of the simulator, the lower level components may then be designed and subsequently simulated for verification and performance evaluation.\n",
    "\n",
    "Also, simulators can be used as an effective means for teaching or demonstrating concepts to students. This is particularly true of simulators that make intelligent use of computer graphics and animation. Such simulators dynamically show the behaviour and relationship of all the simulated system's components, thereby providing the user with a meaningful understanding of the system's nature. "
   ]
  },
  {
   "cell_type": "markdown",
   "metadata": {},
   "source": [
    "\n",
    "\n",
    "\n",
    "## 2) How are statistics useful in simulation? How can we simulate unknown, random processes?\n",
    "## 3) What is a Monte Carlo simulation (also known as \"Monte Carlo method\")?\n",
    "## 4) A common use of Monte Carlo methods is numeric integration\n",
    "### 4.1) Define the problem. Propose the solution. Implement it and test with some common functions\n",
    "### 4.2) How does this method compare to other methods, e.g. the trapezoidal rule? Compare the performance (accuracy and time to execute) of both methods\n",
    "## 5) Apply Monte Carlo simulation to a real-life system. There are many examples. You can see Wikipedia or some other resource for inspiration."
   ]
  },
  {
   "cell_type": "markdown",
   "metadata": {},
   "source": [
    "$$ \\int_{0}^{\\pi} sin^{2}(x)dx $$"
   ]
  },
  {
   "cell_type": "markdown",
   "metadata": {},
   "source": [
    "### Sources:\n",
    "1. https://www.youtube.com/watch?v=OgO1gpXSUzU&t=2016s\n",
    "2. https://en.wikipedia.org/wiki/Monte_Carlo_method#Applications\n",
    "3. https://www.palisade.com/risk/monte_carlo_simulation.asp\n",
    "4. https://www.wolframalpha.com/input/?i=integral+of+sin%5E2(x)\n",
    "5. https://www.mathsisfun.com/calculus/derivatives-rules.html\n",
    "6. https://sciencing.com/how-to-integrate-sin2-x-12751892.html\n",
    "7. https://en.wikipedia.org/wiki/Simulation\n",
    "8. http://etec.ctlt.ubc.ca/510wiki/Simulation_for_Science_Education\n",
    "2. http://web.cs.mun.ca/~donald/msc/node6.html"
   ]
  },
  {
   "cell_type": "code",
   "execution_count": null,
   "metadata": {},
   "outputs": [],
   "source": []
  }
 ],
 "metadata": {
  "kernelspec": {
   "display_name": "Python 3",
   "language": "python",
   "name": "python3"
  },
  "language_info": {
   "codemirror_mode": {
    "name": "ipython",
    "version": 3
   },
   "file_extension": ".py",
   "mimetype": "text/x-python",
   "name": "python",
   "nbconvert_exporter": "python",
   "pygments_lexer": "ipython3",
   "version": "3.7.1"
  }
 },
 "nbformat": 4,
 "nbformat_minor": 2
}
