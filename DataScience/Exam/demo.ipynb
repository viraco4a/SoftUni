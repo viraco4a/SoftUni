{
 "cells": [
  {
   "cell_type": "code",
   "execution_count": 1,
   "metadata": {},
   "outputs": [],
   "source": [
    "%matplotlib inline"
   ]
  },
  {
   "cell_type": "code",
   "execution_count": 2,
   "metadata": {},
   "outputs": [],
   "source": [
    "import numpy as np\n",
    "import pandas as pd\n",
    "import matplotlib.pyplot as plt\n",
    "\n",
    "from nose.tools import *\n",
    "\n",
    "from scipy.stats import ttest_ind\n",
    "\n",
    "from sklearn.preprocessing import MinMaxScaler\n",
    "from sklearn.model_selection import train_test_split\n",
    "from sklearn.linear_model import LogisticRegression"
   ]
  },
  {
   "cell_type": "markdown",
   "metadata": {},
   "source": [
    "# Unlimited POWER"
   ]
  },
  {
   "cell_type": "code",
   "execution_count": 4,
   "metadata": {},
   "outputs": [],
   "source": [
    "balansi_data_01 = pd.read_csv(\"data/MINFIN_BREACH/AEOI/AMOUNT.csv\")"
   ]
  },
  {
   "cell_type": "code",
   "execution_count": 5,
   "metadata": {},
   "outputs": [
    {
     "data": {
      "text/plain": [
       "(17603, 7)"
      ]
     },
     "execution_count": 5,
     "metadata": {},
     "output_type": "execute_result"
    }
   ],
   "source": [
    "balansi_data_01.shape"
   ]
  },
  {
   "cell_type": "code",
   "execution_count": 6,
   "metadata": {},
   "outputs": [
    {
     "data": {
      "text/html": [
       "<div>\n",
       "<style scoped>\n",
       "    .dataframe tbody tr th:only-of-type {\n",
       "        vertical-align: middle;\n",
       "    }\n",
       "\n",
       "    .dataframe tbody tr th {\n",
       "        vertical-align: top;\n",
       "    }\n",
       "\n",
       "    .dataframe thead th {\n",
       "        text-align: right;\n",
       "    }\n",
       "</style>\n",
       "<table border=\"1\" class=\"dataframe\">\n",
       "  <thead>\n",
       "    <tr style=\"text-align: right;\">\n",
       "      <th></th>\n",
       "      <th>AMOUNT_ID</th>\n",
       "      <th>CURRENCY_ID</th>\n",
       "      <th>AMOUNT</th>\n",
       "      <th>CREATED_BY</th>\n",
       "      <th>CREATED_ON</th>\n",
       "      <th>MODIFIED_BY</th>\n",
       "      <th>MODIFIED_ON</th>\n",
       "    </tr>\n",
       "  </thead>\n",
       "  <tbody>\n",
       "    <tr>\n",
       "      <th>0</th>\n",
       "      <td>441</td>\n",
       "      <td>14</td>\n",
       "      <td>1552.98</td>\n",
       "      <td>NSSI_PEN</td>\n",
       "      <td>2015-05-18 16:42:22.000000</td>\n",
       "      <td>NaN</td>\n",
       "      <td>NaN</td>\n",
       "    </tr>\n",
       "    <tr>\n",
       "      <th>1</th>\n",
       "      <td>442</td>\n",
       "      <td>14</td>\n",
       "      <td>80.00</td>\n",
       "      <td>NSSI_PEN</td>\n",
       "      <td>2015-05-18 16:42:22.000000</td>\n",
       "      <td>NaN</td>\n",
       "      <td>NaN</td>\n",
       "    </tr>\n",
       "    <tr>\n",
       "      <th>2</th>\n",
       "      <td>443</td>\n",
       "      <td>14</td>\n",
       "      <td>1827.00</td>\n",
       "      <td>NSSI_PEN</td>\n",
       "      <td>2015-05-18 16:42:22.000000</td>\n",
       "      <td>NaN</td>\n",
       "      <td>NaN</td>\n",
       "    </tr>\n",
       "    <tr>\n",
       "      <th>3</th>\n",
       "      <td>444</td>\n",
       "      <td>14</td>\n",
       "      <td>1473.18</td>\n",
       "      <td>NSSI_PEN</td>\n",
       "      <td>2015-05-18 16:42:22.000000</td>\n",
       "      <td>NaN</td>\n",
       "      <td>NaN</td>\n",
       "    </tr>\n",
       "    <tr>\n",
       "      <th>4</th>\n",
       "      <td>445</td>\n",
       "      <td>14</td>\n",
       "      <td>60.00</td>\n",
       "      <td>NSSI_PEN</td>\n",
       "      <td>2015-05-18 16:42:22.000000</td>\n",
       "      <td>NaN</td>\n",
       "      <td>NaN</td>\n",
       "    </tr>\n",
       "  </tbody>\n",
       "</table>\n",
       "</div>"
      ],
      "text/plain": [
       "   AMOUNT_ID  CURRENCY_ID   AMOUNT CREATED_BY                  CREATED_ON  \\\n",
       "0        441           14  1552.98   NSSI_PEN  2015-05-18 16:42:22.000000   \n",
       "1        442           14    80.00   NSSI_PEN  2015-05-18 16:42:22.000000   \n",
       "2        443           14  1827.00   NSSI_PEN  2015-05-18 16:42:22.000000   \n",
       "3        444           14  1473.18   NSSI_PEN  2015-05-18 16:42:22.000000   \n",
       "4        445           14    60.00   NSSI_PEN  2015-05-18 16:42:22.000000   \n",
       "\n",
       "   MODIFIED_BY  MODIFIED_ON  \n",
       "0          NaN          NaN  \n",
       "1          NaN          NaN  \n",
       "2          NaN          NaN  \n",
       "3          NaN          NaN  \n",
       "4          NaN          NaN  "
      ]
     },
     "execution_count": 6,
     "metadata": {},
     "output_type": "execute_result"
    }
   ],
   "source": [
    "balansi_data_01.head()"
   ]
  },
  {
   "cell_type": "code",
   "execution_count": 6,
   "metadata": {},
   "outputs": [
    {
     "data": {
      "image/png": "[encoded data removed]",
      "text/plain": [
       "<Figure size 432x288 with 1 Axes>"
      ]
     },
     "metadata": {
      "needs_background": "light"
     },
     "output_type": "display_data"
    }
   ],
   "source": [
    "plt.hist(balansi_data_01['AMOUNT'], bins = 20)\n",
    "plt.show()"
   ]
  },
  {
   "cell_type": "code",
   "execution_count": 7,
   "metadata": {},
   "outputs": [],
   "source": [
    "country_ids_data = pd.read_csv(\"data/MINFIN_BREACH/AEOI/COUNTRY.csv\")"
   ]
  },
  {
   "cell_type": "code",
   "execution_count": 8,
   "metadata": {},
   "outputs": [],
   "source": [
    "currency_ids_data = pd.read_csv(\"data/MINFIN_BREACH/AEOI/CURRENCY.csv\")"
   ]
  },
  {
   "cell_type": "code",
   "execution_count": 8,
   "metadata": {},
   "outputs": [],
   "source": [
    "pension_recipients = pd.read_csv(\"data/MINFIN_BREACH/AEOI/PEN_RECIPIENT.csv\")"
   ]
  },
  {
   "cell_type": "code",
   "execution_count": 9,
   "metadata": {},
   "outputs": [
    {
     "data": {
      "text/plain": [
       "(17603, 12)"
      ]
     },
     "execution_count": 9,
     "metadata": {},
     "output_type": "execute_result"
    }
   ],
   "source": [
    "pension_recipients.shape"
   ]
  },
  {
   "cell_type": "code",
   "execution_count": 10,
   "metadata": {},
   "outputs": [
    {
     "data": {
      "text/html": [
       "<div>\n",
       "<style scoped>\n",
       "    .dataframe tbody tr th:only-of-type {\n",
       "        vertical-align: middle;\n",
       "    }\n",
       "\n",
       "    .dataframe tbody tr th {\n",
       "        vertical-align: top;\n",
       "    }\n",
       "\n",
       "    .dataframe thead th {\n",
       "        text-align: right;\n",
       "    }\n",
       "</style>\n",
       "<table border=\"1\" class=\"dataframe\">\n",
       "  <thead>\n",
       "    <tr style=\"text-align: right;\">\n",
       "      <th></th>\n",
       "      <th>DOCREFID</th>\n",
       "      <th>MESSAGE_ID</th>\n",
       "      <th>CORRDOCREFID</th>\n",
       "      <th>PEN_RECIPIENT_ID</th>\n",
       "      <th>NATURAL_PERSON_ID</th>\n",
       "      <th>REPRESENTATIVE_ID</th>\n",
       "      <th>CREATED_BY</th>\n",
       "      <th>CREATED_ON</th>\n",
       "      <th>MODIFIED_BY</th>\n",
       "      <th>MODIFIED_ON</th>\n",
       "      <th>RECIPIENT_NUMBER</th>\n",
       "      <th>INFORMATION_STATUS</th>\n",
       "    </tr>\n",
       "  </thead>\n",
       "  <tbody>\n",
       "    <tr>\n",
       "      <th>0</th>\n",
       "      <td>PEN_NSSI2014-12-31536</td>\n",
       "      <td>203</td>\n",
       "      <td>NaN</td>\n",
       "      <td>203</td>\n",
       "      <td>203</td>\n",
       "      <td>NaN</td>\n",
       "      <td>NSSI_PEN</td>\n",
       "      <td>2015-05-18 16:42:19.000000</td>\n",
       "      <td>NaN</td>\n",
       "      <td>NaN</td>\n",
       "      <td>3201034369</td>\n",
       "      <td>new</td>\n",
       "    </tr>\n",
       "    <tr>\n",
       "      <th>1</th>\n",
       "      <td>PEN_NSSI2014-12-31537</td>\n",
       "      <td>204</td>\n",
       "      <td>NaN</td>\n",
       "      <td>204</td>\n",
       "      <td>204</td>\n",
       "      <td>NaN</td>\n",
       "      <td>NSSI_PEN</td>\n",
       "      <td>2015-05-18 16:42:19.000000</td>\n",
       "      <td>NaN</td>\n",
       "      <td>NaN</td>\n",
       "      <td>4807314376</td>\n",
       "      <td>new</td>\n",
       "    </tr>\n",
       "    <tr>\n",
       "      <th>2</th>\n",
       "      <td>PEN_NSSI2014-12-31538</td>\n",
       "      <td>205</td>\n",
       "      <td>NaN</td>\n",
       "      <td>205</td>\n",
       "      <td>205</td>\n",
       "      <td>NaN</td>\n",
       "      <td>NSSI_PEN</td>\n",
       "      <td>2015-05-18 16:42:19.000000</td>\n",
       "      <td>NaN</td>\n",
       "      <td>NaN</td>\n",
       "      <td>4807314376</td>\n",
       "      <td>new</td>\n",
       "    </tr>\n",
       "    <tr>\n",
       "      <th>3</th>\n",
       "      <td>PEN_NSSI2014-12-31539</td>\n",
       "      <td>206</td>\n",
       "      <td>NaN</td>\n",
       "      <td>206</td>\n",
       "      <td>206</td>\n",
       "      <td>NaN</td>\n",
       "      <td>NSSI_PEN</td>\n",
       "      <td>2015-05-18 16:42:19.000000</td>\n",
       "      <td>NaN</td>\n",
       "      <td>NaN</td>\n",
       "      <td>4807314376</td>\n",
       "      <td>new</td>\n",
       "    </tr>\n",
       "    <tr>\n",
       "      <th>4</th>\n",
       "      <td>PEN_NSSI2014-12-31540</td>\n",
       "      <td>207</td>\n",
       "      <td>NaN</td>\n",
       "      <td>207</td>\n",
       "      <td>207</td>\n",
       "      <td>NaN</td>\n",
       "      <td>NSSI_PEN</td>\n",
       "      <td>2015-05-18 16:42:19.000000</td>\n",
       "      <td>NaN</td>\n",
       "      <td>NaN</td>\n",
       "      <td>3606184474</td>\n",
       "      <td>new</td>\n",
       "    </tr>\n",
       "    <tr>\n",
       "      <th>5</th>\n",
       "      <td>PEN_NSSI2014-12-31541</td>\n",
       "      <td>208</td>\n",
       "      <td>NaN</td>\n",
       "      <td>208</td>\n",
       "      <td>208</td>\n",
       "      <td>NaN</td>\n",
       "      <td>NSSI_PEN</td>\n",
       "      <td>2015-05-18 16:42:19.000000</td>\n",
       "      <td>NaN</td>\n",
       "      <td>NaN</td>\n",
       "      <td>3606184474</td>\n",
       "      <td>new</td>\n",
       "    </tr>\n",
       "    <tr>\n",
       "      <th>6</th>\n",
       "      <td>PEN_NSSI2014-12-31542</td>\n",
       "      <td>209</td>\n",
       "      <td>NaN</td>\n",
       "      <td>209</td>\n",
       "      <td>209</td>\n",
       "      <td>NaN</td>\n",
       "      <td>NSSI_PEN</td>\n",
       "      <td>2015-05-18 16:42:19.000000</td>\n",
       "      <td>NaN</td>\n",
       "      <td>NaN</td>\n",
       "      <td>3606184474</td>\n",
       "      <td>new</td>\n",
       "    </tr>\n",
       "    <tr>\n",
       "      <th>7</th>\n",
       "      <td>PEN_NSSI2014-12-31543</td>\n",
       "      <td>210</td>\n",
       "      <td>NaN</td>\n",
       "      <td>210</td>\n",
       "      <td>210</td>\n",
       "      <td>NaN</td>\n",
       "      <td>NSSI_PEN</td>\n",
       "      <td>2015-05-18 16:42:19.000000</td>\n",
       "      <td>NaN</td>\n",
       "      <td>NaN</td>\n",
       "      <td>4403134474</td>\n",
       "      <td>new</td>\n",
       "    </tr>\n",
       "    <tr>\n",
       "      <th>8</th>\n",
       "      <td>PEN_NSSI2014-12-31544</td>\n",
       "      <td>211</td>\n",
       "      <td>NaN</td>\n",
       "      <td>211</td>\n",
       "      <td>211</td>\n",
       "      <td>NaN</td>\n",
       "      <td>NSSI_PEN</td>\n",
       "      <td>2015-05-18 16:42:19.000000</td>\n",
       "      <td>NaN</td>\n",
       "      <td>NaN</td>\n",
       "      <td>4403134474</td>\n",
       "      <td>new</td>\n",
       "    </tr>\n",
       "    <tr>\n",
       "      <th>9</th>\n",
       "      <td>PEN_NSSI2014-12-31545</td>\n",
       "      <td>212</td>\n",
       "      <td>NaN</td>\n",
       "      <td>212</td>\n",
       "      <td>212</td>\n",
       "      <td>NaN</td>\n",
       "      <td>NSSI_PEN</td>\n",
       "      <td>2015-05-18 16:42:19.000000</td>\n",
       "      <td>NaN</td>\n",
       "      <td>NaN</td>\n",
       "      <td>4403134474</td>\n",
       "      <td>new</td>\n",
       "    </tr>\n",
       "  </tbody>\n",
       "</table>\n",
       "</div>"
      ],
      "text/plain": [
       "                DOCREFID  MESSAGE_ID  CORRDOCREFID  PEN_RECIPIENT_ID  \\\n",
       "0  PEN_NSSI2014-12-31536         203           NaN               203   \n",
       "1  PEN_NSSI2014-12-31537         204           NaN               204   \n",
       "2  PEN_NSSI2014-12-31538         205           NaN               205   \n",
       "3  PEN_NSSI2014-12-31539         206           NaN               206   \n",
       "4  PEN_NSSI2014-12-31540         207           NaN               207   \n",
       "5  PEN_NSSI2014-12-31541         208           NaN               208   \n",
       "6  PEN_NSSI2014-12-31542         209           NaN               209   \n",
       "7  PEN_NSSI2014-12-31543         210           NaN               210   \n",
       "8  PEN_NSSI2014-12-31544         211           NaN               211   \n",
       "9  PEN_NSSI2014-12-31545         212           NaN               212   \n",
       "\n",
       "   NATURAL_PERSON_ID  REPRESENTATIVE_ID CREATED_BY  \\\n",
       "0                203                NaN   NSSI_PEN   \n",
       "1                204                NaN   NSSI_PEN   \n",
       "2                205                NaN   NSSI_PEN   \n",
       "3                206                NaN   NSSI_PEN   \n",
       "4                207                NaN   NSSI_PEN   \n",
       "5                208                NaN   NSSI_PEN   \n",
       "6                209                NaN   NSSI_PEN   \n",
       "7                210                NaN   NSSI_PEN   \n",
       "8                211                NaN   NSSI_PEN   \n",
       "9                212                NaN   NSSI_PEN   \n",
       "\n",
       "                   CREATED_ON  MODIFIED_BY  MODIFIED_ON  RECIPIENT_NUMBER  \\\n",
       "0  2015-05-18 16:42:19.000000          NaN          NaN        3201034369   \n",
       "1  2015-05-18 16:42:19.000000          NaN          NaN        4807314376   \n",
       "2  2015-05-18 16:42:19.000000          NaN          NaN        4807314376   \n",
       "3  2015-05-18 16:42:19.000000          NaN          NaN        4807314376   \n",
       "4  2015-05-18 16:42:19.000000          NaN          NaN        3606184474   \n",
       "5  2015-05-18 16:42:19.000000          NaN          NaN        3606184474   \n",
       "6  2015-05-18 16:42:19.000000          NaN          NaN        3606184474   \n",
       "7  2015-05-18 16:42:19.000000          NaN          NaN        4403134474   \n",
       "8  2015-05-18 16:42:19.000000          NaN          NaN        4403134474   \n",
       "9  2015-05-18 16:42:19.000000          NaN          NaN        4403134474   \n",
       "\n",
       "  INFORMATION_STATUS  \n",
       "0                new  \n",
       "1                new  \n",
       "2                new  \n",
       "3                new  \n",
       "4                new  \n",
       "5                new  \n",
       "6                new  \n",
       "7                new  \n",
       "8                new  \n",
       "9                new  "
      ]
     },
     "execution_count": 10,
     "metadata": {},
     "output_type": "execute_result"
    }
   ],
   "source": [
    "pension_recipients.head(10)"
   ]
  },
  {
   "cell_type": "code",
   "execution_count": 14,
   "metadata": {},
   "outputs": [
    {
     "data": {
      "text/plain": [
       "DOCREFID               object\n",
       "MESSAGE_ID              int64\n",
       "CORRDOCREFID          float64\n",
       "PEN_RECIPIENT_ID        int64\n",
       "NATURAL_PERSON_ID       int64\n",
       "REPRESENTATIVE_ID     float64\n",
       "CREATED_BY             object\n",
       "CREATED_ON             object\n",
       "MODIFIED_BY           float64\n",
       "MODIFIED_ON           float64\n",
       "RECIPIENT_NUMBER        int64\n",
       "INFORMATION_STATUS     object\n",
       "dtype: object"
      ]
     },
     "execution_count": 14,
     "metadata": {},
     "output_type": "execute_result"
    }
   ],
   "source": [
    "pension_recipients.dtypes"
   ]
  },
  {
   "cell_type": "code",
   "execution_count": 15,
   "metadata": {},
   "outputs": [
    {
     "data": {
      "text/plain": [
       "171171"
      ]
     },
     "execution_count": 15,
     "metadata": {},
     "output_type": "execute_result"
    }
   ],
   "source": [
    "pensii.RECIPIENT_NUMBER.min()"
   ]
  },
  {
   "cell_type": "code",
   "execution_count": 16,
   "metadata": {},
   "outputs": [
    {
     "data": {
      "image/png": "[encoded data removed]",
      "text/plain": [
       "<Figure size 432x288 with 1 Axes>"
      ]
     },
     "metadata": {
      "needs_background": "light"
     },
     "output_type": "display_data"
    }
   ],
   "source": [
    "plt.hist(pensii['RECIPIENT_NUMBER'], bins = 60)\n",
    "plt.show()"
   ]
  },
  {
   "cell_type": "code",
   "execution_count": 17,
   "metadata": {},
   "outputs": [
    {
     "name": "stderr",
     "output_type": "stream",
     "text": [
      "C:\\Users\\kalojanz\\AppData\\Local\\Continuum\\anaconda3\\lib\\site-packages\\IPython\\core\\interactiveshell.py:3020: DtypeWarning: Columns (2,11) have mixed types. Specify dtype option on import or set low_memory=False.\n",
      "  interactivity=interactivity, compiler=compiler, result=result)\n"
     ]
    }
   ],
   "source": [
    "sanction = pd.read_csv(\"data/MINFIN_BREACH/AUAN/PENALTY_NORMS.csv\")"
   ]
  },
  {
   "cell_type": "code",
   "execution_count": 18,
   "metadata": {},
   "outputs": [
    {
     "data": {
      "text/plain": [
       "(328448, 14)"
      ]
     },
     "execution_count": 18,
     "metadata": {},
     "output_type": "execute_result"
    }
   ],
   "source": [
    "sanction.shape"
   ]
  },
  {
   "cell_type": "code",
   "execution_count": 19,
   "metadata": {},
   "outputs": [
    {
     "data": {
      "text/html": [
       "<div>\n",
       "<style scoped>\n",
       "    .dataframe tbody tr th:only-of-type {\n",
       "        vertical-align: middle;\n",
       "    }\n",
       "\n",
       "    .dataframe tbody tr th {\n",
       "        vertical-align: top;\n",
       "    }\n",
       "\n",
       "    .dataframe thead th {\n",
       "        text-align: right;\n",
       "    }\n",
       "</style>\n",
       "<table border=\"1\" class=\"dataframe\">\n",
       "  <thead>\n",
       "    <tr style=\"text-align: right;\">\n",
       "      <th></th>\n",
       "      <th>ANPID</th>\n",
       "      <th>TYPESANCID</th>\n",
       "      <th>TYPESTOCKID</th>\n",
       "      <th>IDPENALTY_NORM</th>\n",
       "      <th>PENNORM</th>\n",
       "      <th>CAPTYPE</th>\n",
       "      <th>SANCSIZE</th>\n",
       "      <th>STOCKEQUIV</th>\n",
       "      <th>IMPOS_MSRE</th>\n",
       "      <th>STOCKAMOUNT</th>\n",
       "      <th>DATE_CREATED</th>\n",
       "      <th>PNORM_ADDINFO</th>\n",
       "      <th>SANC_AFTERAPP</th>\n",
       "      <th>DATE_LAST_CHANGE</th>\n",
       "    </tr>\n",
       "  </thead>\n",
       "  <tbody>\n",
       "    <tr>\n",
       "      <th>0</th>\n",
       "      <td>5</td>\n",
       "      <td>3.0</td>\n",
       "      <td>NaN</td>\n",
       "      <td>3</td>\n",
       "      <td>157.0</td>\n",
       "      <td>NaN</td>\n",
       "      <td>500.0</td>\n",
       "      <td>NaN</td>\n",
       "      <td>NaN</td>\n",
       "      <td>NaN</td>\n",
       "      <td>NaN</td>\n",
       "      <td>NaN</td>\n",
       "      <td>NaN</td>\n",
       "      <td>NaN</td>\n",
       "    </tr>\n",
       "    <tr>\n",
       "      <th>1</th>\n",
       "      <td>70</td>\n",
       "      <td>1.0</td>\n",
       "      <td>NaN</td>\n",
       "      <td>24</td>\n",
       "      <td>158.0</td>\n",
       "      <td>NaN</td>\n",
       "      <td>500.0</td>\n",
       "      <td>NaN</td>\n",
       "      <td>NaN</td>\n",
       "      <td>NaN</td>\n",
       "      <td>NaN</td>\n",
       "      <td>NaN</td>\n",
       "      <td>NaN</td>\n",
       "      <td>NaN</td>\n",
       "    </tr>\n",
       "    <tr>\n",
       "      <th>2</th>\n",
       "      <td>75</td>\n",
       "      <td>NaN</td>\n",
       "      <td>NaN</td>\n",
       "      <td>29</td>\n",
       "      <td>140.0</td>\n",
       "      <td>NaN</td>\n",
       "      <td>NaN</td>\n",
       "      <td>NaN</td>\n",
       "      <td>NaN</td>\n",
       "      <td>NaN</td>\n",
       "      <td>NaN</td>\n",
       "      <td>NaN</td>\n",
       "      <td>NaN</td>\n",
       "      <td>NaN</td>\n",
       "    </tr>\n",
       "    <tr>\n",
       "      <th>3</th>\n",
       "      <td>86</td>\n",
       "      <td>1.0</td>\n",
       "      <td>NaN</td>\n",
       "      <td>40</td>\n",
       "      <td>158.0</td>\n",
       "      <td>NaN</td>\n",
       "      <td>500.0</td>\n",
       "      <td>NaN</td>\n",
       "      <td>NaN</td>\n",
       "      <td>NaN</td>\n",
       "      <td>NaN</td>\n",
       "      <td>NaN</td>\n",
       "      <td>NaN</td>\n",
       "      <td>NaN</td>\n",
       "    </tr>\n",
       "    <tr>\n",
       "      <th>4</th>\n",
       "      <td>94</td>\n",
       "      <td>3.0</td>\n",
       "      <td>NaN</td>\n",
       "      <td>47</td>\n",
       "      <td>49.0</td>\n",
       "      <td>NaN</td>\n",
       "      <td>50.0</td>\n",
       "      <td>NaN</td>\n",
       "      <td>NaN</td>\n",
       "      <td>NaN</td>\n",
       "      <td>NaN</td>\n",
       "      <td>NaN</td>\n",
       "      <td>NaN</td>\n",
       "      <td>NaN</td>\n",
       "    </tr>\n",
       "  </tbody>\n",
       "</table>\n",
       "</div>"
      ],
      "text/plain": [
       "   ANPID  TYPESANCID TYPESTOCKID  IDPENALTY_NORM  PENNORM  CAPTYPE  SANCSIZE  \\\n",
       "0      5         3.0         NaN               3    157.0      NaN     500.0   \n",
       "1     70         1.0         NaN              24    158.0      NaN     500.0   \n",
       "2     75         NaN         NaN              29    140.0      NaN       NaN   \n",
       "3     86         1.0         NaN              40    158.0      NaN     500.0   \n",
       "4     94         3.0         NaN              47     49.0      NaN      50.0   \n",
       "\n",
       "   STOCKEQUIV  IMPOS_MSRE  STOCKAMOUNT DATE_CREATED PNORM_ADDINFO  \\\n",
       "0         NaN         NaN          NaN          NaN           NaN   \n",
       "1         NaN         NaN          NaN          NaN           NaN   \n",
       "2         NaN         NaN          NaN          NaN           NaN   \n",
       "3         NaN         NaN          NaN          NaN           NaN   \n",
       "4         NaN         NaN          NaN          NaN           NaN   \n",
       "\n",
       "   SANC_AFTERAPP DATE_LAST_CHANGE  \n",
       "0            NaN              NaN  \n",
       "1            NaN              NaN  \n",
       "2            NaN              NaN  \n",
       "3            NaN              NaN  \n",
       "4            NaN              NaN  "
      ]
     },
     "execution_count": 19,
     "metadata": {},
     "output_type": "execute_result"
    }
   ],
   "source": [
    "sanction.head()"
   ]
  },
  {
   "cell_type": "code",
   "execution_count": 20,
   "metadata": {},
   "outputs": [
    {
     "data": {
      "text/plain": [
       "ANPID                 int64\n",
       "TYPESANCID          float64\n",
       "TYPESTOCKID          object\n",
       "IDPENALTY_NORM        int64\n",
       "PENNORM             float64\n",
       "CAPTYPE             float64\n",
       "SANCSIZE            float64\n",
       "STOCKEQUIV          float64\n",
       "IMPOS_MSRE          float64\n",
       "STOCKAMOUNT         float64\n",
       "DATE_CREATED         object\n",
       "PNORM_ADDINFO        object\n",
       "SANC_AFTERAPP       float64\n",
       "DATE_LAST_CHANGE     object\n",
       "dtype: object"
      ]
     },
     "execution_count": 20,
     "metadata": {},
     "output_type": "execute_result"
    }
   ],
   "source": [
    "sanction.dtypes"
   ]
  },
  {
   "cell_type": "code",
   "execution_count": 21,
   "metadata": {},
   "outputs": [
    {
     "data": {
      "text/plain": [
       "11730000.0"
      ]
     },
     "execution_count": 21,
     "metadata": {},
     "output_type": "execute_result"
    }
   ],
   "source": [
    "sanction.SANCSIZE.max()"
   ]
  },
  {
   "cell_type": "code",
   "execution_count": 22,
   "metadata": {},
   "outputs": [
    {
     "ename": "NameError",
     "evalue": "name 'data' is not defined",
     "output_type": "error",
     "traceback": [
      "\u001b[1;31m---------------------------------------------------------------------------\u001b[0m",
      "\u001b[1;31mNameError\u001b[0m                                 Traceback (most recent call last)",
      "\u001b[1;32m<ipython-input-22-3d17ffd00b46>\u001b[0m in \u001b[0;36m<module>\u001b[1;34m\u001b[0m\n\u001b[1;32m----> 1\u001b[1;33m \u001b[0mdata\u001b[0m\u001b[1;33m.\u001b[0m\u001b[0mCOUNTRY_ID\u001b[0m\u001b[1;33m.\u001b[0m\u001b[0munique\u001b[0m\u001b[1;33m(\u001b[0m\u001b[1;33m)\u001b[0m\u001b[1;33m\u001b[0m\u001b[1;33m\u001b[0m\u001b[0m\n\u001b[0m",
      "\u001b[1;31mNameError\u001b[0m: name 'data' is not defined"
     ]
    }
   ],
   "source": [
    "data.COUNTRY_ID.unique()"
   ]
  },
  {
   "cell_type": "code",
   "execution_count": 23,
   "metadata": {},
   "outputs": [
    {
     "ename": "NameError",
     "evalue": "name 'data' is not defined",
     "output_type": "error",
     "traceback": [
      "\u001b[1;31m---------------------------------------------------------------------------\u001b[0m",
      "\u001b[1;31mNameError\u001b[0m                                 Traceback (most recent call last)",
      "\u001b[1;32m<ipython-input-23-a192a7d633fd>\u001b[0m in \u001b[0;36m<module>\u001b[1;34m\u001b[0m\n\u001b[1;32m----> 1\u001b[1;33m \u001b[0msanction\u001b[0m\u001b[1;33m[\u001b[0m\u001b[0mdata\u001b[0m\u001b[1;33m.\u001b[0m\u001b[0mSANCSIZE\u001b[0m \u001b[1;33m==\u001b[0m \u001b[1;36m11730000.0\u001b[0m\u001b[1;33m]\u001b[0m\u001b[1;33m\u001b[0m\u001b[1;33m\u001b[0m\u001b[0m\n\u001b[0m",
      "\u001b[1;31mNameError\u001b[0m: name 'data' is not defined"
     ]
    }
   ],
   "source": [
    "sanction[data.SANCSIZE == 11730000.0]"
   ]
  },
  {
   "cell_type": "code",
   "execution_count": 42,
   "metadata": {},
   "outputs": [
    {
     "ename": "AttributeError",
     "evalue": "'DataFrame' object has no attribute 'RECIPIENT_NUMBER'",
     "output_type": "error",
     "traceback": [
      "\u001b[1;31m---------------------------------------------------------------------------\u001b[0m",
      "\u001b[1;31mAttributeError\u001b[0m                            Traceback (most recent call last)",
      "\u001b[1;32m<ipython-input-42-1692d15fb591>\u001b[0m in \u001b[0;36m<module>\u001b[1;34m\u001b[0m\n\u001b[1;32m----> 1\u001b[1;33m \u001b[0mdata\u001b[0m\u001b[1;33m.\u001b[0m\u001b[0mRECIPIENT_NUMBER\u001b[0m\u001b[1;33m.\u001b[0m\u001b[0mmax\u001b[0m\u001b[1;33m(\u001b[0m\u001b[1;33m)\u001b[0m\u001b[1;33m\u001b[0m\u001b[1;33m\u001b[0m\u001b[0m\n\u001b[0m",
      "\u001b[1;32m~\\AppData\\Local\\Continuum\\anaconda3\\lib\\site-packages\\pandas\\core\\generic.py\u001b[0m in \u001b[0;36m__getattr__\u001b[1;34m(self, name)\u001b[0m\n\u001b[0;32m   4374\u001b[0m             \u001b[1;32mif\u001b[0m \u001b[0mself\u001b[0m\u001b[1;33m.\u001b[0m\u001b[0m_info_axis\u001b[0m\u001b[1;33m.\u001b[0m\u001b[0m_can_hold_identifiers_and_holds_name\u001b[0m\u001b[1;33m(\u001b[0m\u001b[0mname\u001b[0m\u001b[1;33m)\u001b[0m\u001b[1;33m:\u001b[0m\u001b[1;33m\u001b[0m\u001b[1;33m\u001b[0m\u001b[0m\n\u001b[0;32m   4375\u001b[0m                 \u001b[1;32mreturn\u001b[0m \u001b[0mself\u001b[0m\u001b[1;33m[\u001b[0m\u001b[0mname\u001b[0m\u001b[1;33m]\u001b[0m\u001b[1;33m\u001b[0m\u001b[1;33m\u001b[0m\u001b[0m\n\u001b[1;32m-> 4376\u001b[1;33m             \u001b[1;32mreturn\u001b[0m \u001b[0mobject\u001b[0m\u001b[1;33m.\u001b[0m\u001b[0m__getattribute__\u001b[0m\u001b[1;33m(\u001b[0m\u001b[0mself\u001b[0m\u001b[1;33m,\u001b[0m \u001b[0mname\u001b[0m\u001b[1;33m)\u001b[0m\u001b[1;33m\u001b[0m\u001b[1;33m\u001b[0m\u001b[0m\n\u001b[0m\u001b[0;32m   4377\u001b[0m \u001b[1;33m\u001b[0m\u001b[0m\n\u001b[0;32m   4378\u001b[0m     \u001b[1;32mdef\u001b[0m \u001b[0m__setattr__\u001b[0m\u001b[1;33m(\u001b[0m\u001b[0mself\u001b[0m\u001b[1;33m,\u001b[0m \u001b[0mname\u001b[0m\u001b[1;33m,\u001b[0m \u001b[0mvalue\u001b[0m\u001b[1;33m)\u001b[0m\u001b[1;33m:\u001b[0m\u001b[1;33m\u001b[0m\u001b[1;33m\u001b[0m\u001b[0m\n",
      "\u001b[1;31mAttributeError\u001b[0m: 'DataFrame' object has no attribute 'RECIPIENT_NUMBER'"
     ]
    }
   ],
   "source": [
    "data.RECIPIENT_NUMBER.max()"
   ]
  },
  {
   "cell_type": "code",
   "execution_count": 249,
   "metadata": {},
   "outputs": [
    {
     "name": "stderr",
     "output_type": "stream",
     "text": [
      "C:\\Users\\kalojanz\\AppData\\Local\\Continuum\\anaconda3\\lib\\site-packages\\IPython\\core\\interactiveshell.py:3020: DtypeWarning: Columns (2) have mixed types. Specify dtype option on import or set low_memory=False.\n",
      "  interactivity=interactivity, compiler=compiler, result=result)\n"
     ]
    }
   ],
   "source": [
    "data = pd.read_csv(\"data/MINFIN_BREACH/AUAN/AUANREPRESS.csv\")"
   ]
  },
  {
   "cell_type": "code",
   "execution_count": 250,
   "metadata": {},
   "outputs": [
    {
     "data": {
      "text/plain": [
       "(561846, 6)"
      ]
     },
     "execution_count": 250,
     "metadata": {},
     "output_type": "execute_result"
    }
   ],
   "source": [
    "data.shape"
   ]
  },
  {
   "cell_type": "code",
   "execution_count": 252,
   "metadata": {},
   "outputs": [
    {
     "data": {
      "text/plain": [
       "AUANID           0.000000\n",
       "IDREPRES         0.000000\n",
       "REPRESEGN       27.677513\n",
       "REPRESNAME      27.527472\n",
       "REPRCODETYPE     0.000000\n",
       "REPR_CHECKED     1.769702\n",
       "dtype: float64"
      ]
     },
     "execution_count": 252,
     "metadata": {},
     "output_type": "execute_result"
    }
   ],
   "source": [
    "data.isna().sum() / len(data) * 100"
   ]
  },
  {
   "cell_type": "code",
   "execution_count": 212,
   "metadata": {},
   "outputs": [
    {
     "data": {
      "text/html": [
       "<div>\n",
       "<style scoped>\n",
       "    .dataframe tbody tr th:only-of-type {\n",
       "        vertical-align: middle;\n",
       "    }\n",
       "\n",
       "    .dataframe tbody tr th {\n",
       "        vertical-align: top;\n",
       "    }\n",
       "\n",
       "    .dataframe thead th {\n",
       "        text-align: right;\n",
       "    }\n",
       "</style>\n",
       "<table border=\"1\" class=\"dataframe\">\n",
       "  <thead>\n",
       "    <tr style=\"text-align: right;\">\n",
       "      <th></th>\n",
       "      <th>AUANID</th>\n",
       "      <th>IDREPRES</th>\n",
       "      <th>REPRESEGN</th>\n",
       "      <th>REPRESNAME</th>\n",
       "      <th>REPRCODETYPE</th>\n",
       "      <th>REPR_CHECKED</th>\n",
       "    </tr>\n",
       "  </thead>\n",
       "  <tbody>\n",
       "    <tr>\n",
       "      <th>0</th>\n",
       "      <td>182</td>\n",
       "      <td>103</td>\n",
       "      <td>6211045366</td>\n",
       "      <td>КИРИЛ ПАНАЙОТОВ ПАНАЙОТОВ с ЕГН 6211045366</td>\n",
       "      <td>1</td>\n",
       "      <td>NaN</td>\n",
       "    </tr>\n",
       "    <tr>\n",
       "      <th>1</th>\n",
       "      <td>183</td>\n",
       "      <td>104</td>\n",
       "      <td>7803313588</td>\n",
       "      <td>ХРИСТО НИКОЛОВ КИТАНОВ</td>\n",
       "      <td>1</td>\n",
       "      <td>NaN</td>\n",
       "    </tr>\n",
       "    <tr>\n",
       "      <th>2</th>\n",
       "      <td>191</td>\n",
       "      <td>105</td>\n",
       "      <td>6111204660</td>\n",
       "      <td>ДИМИТЪР НИКОЛАЕВ ВЕЛИКОВ ЕГН 6111204660</td>\n",
       "      <td>1</td>\n",
       "      <td>1.0</td>\n",
       "    </tr>\n",
       "    <tr>\n",
       "      <th>3</th>\n",
       "      <td>156</td>\n",
       "      <td>106</td>\n",
       "      <td>7108174474</td>\n",
       "      <td>Ангелина Йорданова Земярска</td>\n",
       "      <td>1</td>\n",
       "      <td>NaN</td>\n",
       "    </tr>\n",
       "    <tr>\n",
       "      <th>4</th>\n",
       "      <td>158</td>\n",
       "      <td>107</td>\n",
       "      <td>3907043492</td>\n",
       "      <td>ТАМАРА  ЛИЛОВА</td>\n",
       "      <td>1</td>\n",
       "      <td>NaN</td>\n",
       "    </tr>\n",
       "  </tbody>\n",
       "</table>\n",
       "</div>"
      ],
      "text/plain": [
       "   AUANID  IDREPRES   REPRESEGN                                  REPRESNAME  \\\n",
       "0     182       103  6211045366  КИРИЛ ПАНАЙОТОВ ПАНАЙОТОВ с ЕГН 6211045366   \n",
       "1     183       104  7803313588                      ХРИСТО НИКОЛОВ КИТАНОВ   \n",
       "2     191       105  6111204660     ДИМИТЪР НИКОЛАЕВ ВЕЛИКОВ ЕГН 6111204660   \n",
       "3     156       106  7108174474                 Ангелина Йорданова Земярска   \n",
       "4     158       107  3907043492                              ТАМАРА  ЛИЛОВА   \n",
       "\n",
       "   REPRCODETYPE  REPR_CHECKED  \n",
       "0             1           NaN  \n",
       "1             1           NaN  \n",
       "2             1           1.0  \n",
       "3             1           NaN  \n",
       "4             1           NaN  "
      ]
     },
     "execution_count": 212,
     "metadata": {},
     "output_type": "execute_result"
    }
   ],
   "source": [
    "data.head()"
   ]
  },
  {
   "cell_type": "code",
   "execution_count": 213,
   "metadata": {},
   "outputs": [
    {
     "data": {
      "text/plain": [
       "AUANID            int64\n",
       "IDREPRES          int64\n",
       "REPRESEGN        object\n",
       "REPRESNAME       object\n",
       "REPRCODETYPE      int64\n",
       "REPR_CHECKED    float64\n",
       "dtype: object"
      ]
     },
     "execution_count": 213,
     "metadata": {},
     "output_type": "execute_result"
    }
   ],
   "source": [
    "data.dtypes"
   ]
  },
  {
   "cell_type": "code",
   "execution_count": 247,
   "metadata": {},
   "outputs": [],
   "source": [
    "data = data[pd.notnull(data['REPRESEGN'])]"
   ]
  },
  {
   "cell_type": "code",
   "execution_count": 248,
   "metadata": {},
   "outputs": [
    {
     "data": {
      "text/plain": [
       "(394856, 6)"
      ]
     },
     "execution_count": 248,
     "metadata": {},
     "output_type": "execute_result"
    }
   ],
   "source": [
    "data.shape"
   ]
  },
  {
   "cell_type": "code",
   "execution_count": 216,
   "metadata": {},
   "outputs": [],
   "source": [
    "data['REPRESEGN'] = pd.to_numeric(data['REPRESEGN'], errors=\"coerce\")\n",
    "data.dropna(how=\"any\", inplace=True)"
   ]
  },
  {
   "cell_type": "code",
   "execution_count": 217,
   "metadata": {},
   "outputs": [],
   "source": [
    "data['REPRESEGN'] = data['REPRESEGN'].astype('int64')"
   ]
  },
  {
   "cell_type": "code",
   "execution_count": 218,
   "metadata": {},
   "outputs": [],
   "source": [
    "data = data[data['REPRESEGN'] >= 1000000000]"
   ]
  },
  {
   "cell_type": "code",
   "execution_count": 219,
   "metadata": {},
   "outputs": [],
   "source": [
    "data = data[data['REPRESEGN'] < 9999999999]"
   ]
  },
  {
   "cell_type": "code",
   "execution_count": 221,
   "metadata": {},
   "outputs": [
    {
     "data": {
      "text/plain": [
       "1000025875"
      ]
     },
     "execution_count": 221,
     "metadata": {},
     "output_type": "execute_result"
    }
   ],
   "source": [
    "data['REPRESEGN'].min()"
   ]
  },
  {
   "cell_type": "code",
   "execution_count": 222,
   "metadata": {},
   "outputs": [
    {
     "data": {
      "image/png": "[encoded data removed]",
      "text/plain": [
       "<Figure size 432x288 with 1 Axes>"
      ]
     },
     "metadata": {
      "needs_background": "light"
     },
     "output_type": "display_data"
    }
   ],
   "source": [
    "plt.hist(data['REPRESEGN'], bins = 40)\n",
    "plt.show()"
   ]
  },
  {
   "cell_type": "code",
   "execution_count": 223,
   "metadata": {},
   "outputs": [
    {
     "data": {
      "image/png": "[encoded data removed]",
      "text/plain": [
       "<Figure size 432x288 with 1 Axes>"
      ]
     },
     "metadata": {
      "needs_background": "light"
     },
     "output_type": "display_data"
    }
   ],
   "source": [
    "plt.hist(data['REPRESEGN'], bins = 1000, range = (0.2e10, 0.4e10))\n",
    "plt.show()"
   ]
  },
  {
   "cell_type": "code",
   "execution_count": null,
   "metadata": {},
   "outputs": [],
   "source": []
  },
  {
   "cell_type": "code",
   "execution_count": 224,
   "metadata": {},
   "outputs": [],
   "source": [
    "scammers_egn = data['REPRESEGN'].groupby(data['REPRESEGN']).count()"
   ]
  },
  {
   "cell_type": "code",
   "execution_count": 238,
   "metadata": {
    "scrolled": true
   },
   "outputs": [],
   "source": [
    "cleaned_data = data.loc[(data['REPRESEGN']/10000 < 301231) | (data['REPRESEGN']/10000 > 310101)]"
   ]
  },
  {
   "cell_type": "code",
   "execution_count": 239,
   "metadata": {},
   "outputs": [
    {
     "data": {
      "text/plain": [
       "(362284, 6)"
      ]
     },
     "execution_count": 239,
     "metadata": {},
     "output_type": "execute_result"
    }
   ],
   "source": [
    "cleaned_data.shape"
   ]
  },
  {
   "cell_type": "code",
   "execution_count": 241,
   "metadata": {},
   "outputs": [
    {
     "data": {
      "text/plain": [
       "AUANID            int64\n",
       "IDREPRES          int64\n",
       "REPRESEGN         int64\n",
       "REPRESNAME       object\n",
       "REPRCODETYPE      int64\n",
       "REPR_CHECKED    float64\n",
       "dtype: object"
      ]
     },
     "execution_count": 241,
     "metadata": {},
     "output_type": "execute_result"
    }
   ],
   "source": [
    "cleaned_data.dtypes"
   ]
  },
  {
   "cell_type": "code",
   "execution_count": 244,
   "metadata": {},
   "outputs": [
    {
     "data": {
      "image/png": "[encoded data removed]",
      "text/plain": [
       "<Figure size 432x288 with 1 Axes>"
      ]
     },
     "metadata": {
      "needs_background": "light"
     },
     "output_type": "display_data"
    }
   ],
   "source": [
    "plt.hist(cleaned_data['REPRESEGN'], bins = 40)\n",
    "# plt.yscale('log')\n",
    "plt.show()"
   ]
  },
  {
   "cell_type": "code",
   "execution_count": 245,
   "metadata": {},
   "outputs": [
    {
     "data": {
      "text/html": [
       "<div>\n",
       "<style scoped>\n",
       "    .dataframe tbody tr th:only-of-type {\n",
       "        vertical-align: middle;\n",
       "    }\n",
       "\n",
       "    .dataframe tbody tr th {\n",
       "        vertical-align: top;\n",
       "    }\n",
       "\n",
       "    .dataframe thead th {\n",
       "        text-align: right;\n",
       "    }\n",
       "</style>\n",
       "<table border=\"1\" class=\"dataframe\">\n",
       "  <thead>\n",
       "    <tr style=\"text-align: right;\">\n",
       "      <th></th>\n",
       "      <th>count</th>\n",
       "      <th>mean</th>\n",
       "      <th>std</th>\n",
       "      <th>min</th>\n",
       "      <th>25%</th>\n",
       "      <th>50%</th>\n",
       "      <th>75%</th>\n",
       "      <th>max</th>\n",
       "    </tr>\n",
       "  </thead>\n",
       "  <tbody>\n",
       "    <tr>\n",
       "      <th>AUANID</th>\n",
       "      <td>362284.0</td>\n",
       "      <td>2.696425e+05</td>\n",
       "      <td>1.456687e+05</td>\n",
       "      <td>2.000000e+00</td>\n",
       "      <td>1.476158e+05</td>\n",
       "      <td>2.699850e+05</td>\n",
       "      <td>3.936142e+05</td>\n",
       "      <td>5.319650e+05</td>\n",
       "    </tr>\n",
       "    <tr>\n",
       "      <th>IDREPRES</th>\n",
       "      <td>362284.0</td>\n",
       "      <td>2.873565e+05</td>\n",
       "      <td>1.574899e+05</td>\n",
       "      <td>1.500000e+01</td>\n",
       "      <td>1.551695e+05</td>\n",
       "      <td>2.879605e+05</td>\n",
       "      <td>4.214822e+05</td>\n",
       "      <td>5.694170e+05</td>\n",
       "    </tr>\n",
       "    <tr>\n",
       "      <th>REPRESEGN</th>\n",
       "      <td>362284.0</td>\n",
       "      <td>6.772791e+09</td>\n",
       "      <td>1.511437e+09</td>\n",
       "      <td>1.000026e+09</td>\n",
       "      <td>5.907176e+09</td>\n",
       "      <td>7.001271e+09</td>\n",
       "      <td>7.807121e+09</td>\n",
       "      <td>9.999710e+09</td>\n",
       "    </tr>\n",
       "    <tr>\n",
       "      <th>REPRCODETYPE</th>\n",
       "      <td>362284.0</td>\n",
       "      <td>1.038439e+00</td>\n",
       "      <td>2.724844e-01</td>\n",
       "      <td>1.000000e+00</td>\n",
       "      <td>1.000000e+00</td>\n",
       "      <td>1.000000e+00</td>\n",
       "      <td>1.000000e+00</td>\n",
       "      <td>3.000000e+00</td>\n",
       "    </tr>\n",
       "    <tr>\n",
       "      <th>REPR_CHECKED</th>\n",
       "      <td>362284.0</td>\n",
       "      <td>5.273708e-01</td>\n",
       "      <td>4.992510e-01</td>\n",
       "      <td>0.000000e+00</td>\n",
       "      <td>0.000000e+00</td>\n",
       "      <td>1.000000e+00</td>\n",
       "      <td>1.000000e+00</td>\n",
       "      <td>1.000000e+00</td>\n",
       "    </tr>\n",
       "  </tbody>\n",
       "</table>\n",
       "</div>"
      ],
      "text/plain": [
       "                 count          mean           std           min  \\\n",
       "AUANID        362284.0  2.696425e+05  1.456687e+05  2.000000e+00   \n",
       "IDREPRES      362284.0  2.873565e+05  1.574899e+05  1.500000e+01   \n",
       "REPRESEGN     362284.0  6.772791e+09  1.511437e+09  1.000026e+09   \n",
       "REPRCODETYPE  362284.0  1.038439e+00  2.724844e-01  1.000000e+00   \n",
       "REPR_CHECKED  362284.0  5.273708e-01  4.992510e-01  0.000000e+00   \n",
       "\n",
       "                       25%           50%           75%           max  \n",
       "AUANID        1.476158e+05  2.699850e+05  3.936142e+05  5.319650e+05  \n",
       "IDREPRES      1.551695e+05  2.879605e+05  4.214822e+05  5.694170e+05  \n",
       "REPRESEGN     5.907176e+09  7.001271e+09  7.807121e+09  9.999710e+09  \n",
       "REPRCODETYPE  1.000000e+00  1.000000e+00  1.000000e+00  3.000000e+00  \n",
       "REPR_CHECKED  0.000000e+00  1.000000e+00  1.000000e+00  1.000000e+00  "
      ]
     },
     "execution_count": 245,
     "metadata": {},
     "output_type": "execute_result"
    }
   ],
   "source": [
    "cleaned_data.describe().T"
   ]
  },
  {
   "cell_type": "code",
   "execution_count": 246,
   "metadata": {},
   "outputs": [
    {
     "data": {
      "text/plain": [
       "AUANID          False\n",
       "IDREPRES        False\n",
       "REPRESEGN       False\n",
       "REPRESNAME      False\n",
       "REPRCODETYPE    False\n",
       "REPR_CHECKED    False\n",
       "dtype: bool"
      ]
     },
     "execution_count": 246,
     "metadata": {},
     "output_type": "execute_result"
    }
   ],
   "source": [
    "cleaned_data.isna().any()"
   ]
  },
  {
   "cell_type": "code",
   "execution_count": 253,
   "metadata": {},
   "outputs": [
    {
     "data": {
      "image/png": "[encoded data removed]",
      "text/plain": [
       "<Figure size 432x288 with 1 Axes>"
      ]
     },
     "metadata": {
      "needs_background": "light"
     },
     "output_type": "display_data"
    }
   ],
   "source": [
    "plt.hist(cleaned_data['REPRESEGN'], bins = 'fd')\n",
    "plt.show()"
   ]
  },
  {
   "cell_type": "code",
   "execution_count": 254,
   "metadata": {},
   "outputs": [
    {
     "data": {
      "text/plain": [
       "160715"
      ]
     },
     "execution_count": 254,
     "metadata": {},
     "output_type": "execute_result"
    }
   ],
   "source": [
    "len(cleaned_data['REPRESEGN'].unique())"
   ]
  },
  {
   "cell_type": "markdown",
   "metadata": {},
   "source": [
    "https://bg.wikipedia.org/wiki/%D0%95%D0%B4%D0%B8%D0%BD%D0%B5%D0%BD_%D0%B3%D1%80%D0%B0%D0%B6%D0%B4%D0%B0%D0%BD%D1%81%D0%BA%D0%B8_%D0%BD%D0%BE%D0%BC%D0%B5%D1%80 "
   ]
  }
 ],
 "metadata": {
  "kernelspec": {
   "display_name": "Python 3",
   "language": "python",
   "name": "python3"
  },
  "language_info": {
   "codemirror_mode": {
    "name": "ipython",
    "version": 3
   },
   "file_extension": ".py",
   "mimetype": "text/x-python",
   "name": "python",
   "nbconvert_exporter": "python",
   "pygments_lexer": "ipython3",
   "version": "3.7.1"
  }
 },
 "nbformat": 4,
 "nbformat_minor": 2
}
