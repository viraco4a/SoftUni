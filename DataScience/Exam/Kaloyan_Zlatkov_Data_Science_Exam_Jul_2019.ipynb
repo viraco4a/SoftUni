{
 "cells": [
  {
   "cell_type": "code",
   "execution_count": 1,
   "metadata": {},
   "outputs": [],
   "source": [
    "%matplotlib inline"
   ]
  },
  {
   "cell_type": "code",
   "execution_count": 2,
   "metadata": {},
   "outputs": [],
   "source": [
    "import numpy as np\n",
    "import pandas as pd\n",
    "import matplotlib.pyplot as plt\n",
    "\n",
    "from nose.tools import *\n",
    "\n",
    "from scipy.stats import ttest_ind\n",
    "\n",
    "from sklearn.preprocessing import MinMaxScaler\n",
    "from sklearn.model_selection import train_test_split\n",
    "from sklearn.linear_model import LogisticRegression"
   ]
  },
  {
   "cell_type": "markdown",
   "metadata": {},
   "source": [
    "# Retiring people in Bulgaria\n",
    "\n",
    "### According to the leaked data from NAP\n",
    "\n",
    "#### By Kaloyan Zlatkov"
   ]
  },
  {
   "cell_type": "markdown",
   "metadata": {},
   "source": [
    "## Abstract\n",
    "In this study, the reader will find detailed analysis of few tables from the leaked data from NAP. The data is about retiring people that have been added to the database of NAP on a single day. There is analysis of their age, gender and salary distribution. There are both expected and unexpected results based on the data. Both men and women tend to delay their retirement for as much as they can. However, it turns out that there is no correlation between people's salary and their gender."
   ]
  },
  {
   "cell_type": "markdown",
   "metadata": {},
   "source": [
    "###  Disclaimer\n",
    "I think that this NAP leakage is outrageous and far from funny so even though I like funny pictures and memes, I don't think that anything like this is appropriate. This data is very, very sad not only because of the data itself, but also when you think that these are real people, who's private data is everywhere on the Internet. Therefore, I am asking the reader not to distribute any private data he might find in this study. I tried to keep the dignity of the people as much as I could and hope that the reader will do the same."
   ]
  },
  {
   "cell_type": "markdown",
   "metadata": {},
   "source": [
    "### 1) Definition of hypothesis\n",
    "My hypothesis is that there is some non-uniform and interesting distribution among the people, their income, their gender, their age in relation to their retirement process. I expect some relation between people's salary and their gender as well as some very narrow distribution around the permitted retiring age (or in other words - the people retire as soon as they can)"
   ]
  },
  {
   "cell_type": "markdown",
   "metadata": {},
   "source": [
    "### 2) Analysis of retiring people\n",
    "The law states that there are some conditions regarding the retirement rights of each person, depending on its years of labour service, its age and sex. Each person gets some points (the sum of his/her age and his/her labour service years) and in accordance of his /her gender, he/she has rights to retire or not. Of course, the points may not be enough. For example if the person is working from very early and has huge amount of labour service years, he/she might still not be liable to retire if he/she doesn't have enough age. Because of that one can assume that retirements that are too early should not be a lot and because in our poor country a lot of retired people continue to work even after retirement - there should be some shifting toward more older people, retiring at some point of time (older than those who complete the requirements of the law). Therefore, my prediction is that there will be some highly shifted Gaussian distribution towards older people. If we take for example year 2015, according to the law, the women needed 95.7 points from which 60 years and 8 months age and 35 years labour years. For the men the points are 101.7, with 63 years and 8 months age and 38 years labour years."
   ]
  },
  {
   "cell_type": "markdown",
   "metadata": {},
   "source": [
    "### 3) Analysis of the table with the salaries\n",
    "According to the data from NAP, on 2015-05-18, 17603 retiring people were written down in the database. Here are their monthly incomes/salaries:"
   ]
  },
  {
   "cell_type": "code",
   "execution_count": 3,
   "metadata": {},
   "outputs": [],
   "source": [
    "retiring_income_data = pd.read_csv(\"data/MINFIN_BREACH/AEOI/AMOUNT.csv\")"
   ]
  },
  {
   "cell_type": "code",
   "execution_count": 4,
   "metadata": {},
   "outputs": [
    {
     "data": {
      "text/plain": [
       "(17603, 7)"
      ]
     },
     "execution_count": 4,
     "metadata": {},
     "output_type": "execute_result"
    }
   ],
   "source": [
    "retiring_income_data.shape"
   ]
  },
  {
   "cell_type": "code",
   "execution_count": 5,
   "metadata": {},
   "outputs": [
    {
     "data": {
      "text/plain": [
       "AMOUNT_ID        int64\n",
       "CURRENCY_ID      int64\n",
       "AMOUNT         float64\n",
       "CREATED_BY      object\n",
       "CREATED_ON      object\n",
       "MODIFIED_BY    float64\n",
       "MODIFIED_ON    float64\n",
       "dtype: object"
      ]
     },
     "execution_count": 5,
     "metadata": {},
     "output_type": "execute_result"
    }
   ],
   "source": [
    "retiring_income_data.dtypes"
   ]
  },
  {
   "cell_type": "code",
   "execution_count": 6,
   "metadata": {},
   "outputs": [
    {
     "data": {
      "text/html": [
       "<div>\n",
       "<style scoped>\n",
       "    .dataframe tbody tr th:only-of-type {\n",
       "        vertical-align: middle;\n",
       "    }\n",
       "\n",
       "    .dataframe tbody tr th {\n",
       "        vertical-align: top;\n",
       "    }\n",
       "\n",
       "    .dataframe thead th {\n",
       "        text-align: right;\n",
       "    }\n",
       "</style>\n",
       "<table border=\"1\" class=\"dataframe\">\n",
       "  <thead>\n",
       "    <tr style=\"text-align: right;\">\n",
       "      <th></th>\n",
       "      <th>AMOUNT_ID</th>\n",
       "      <th>CURRENCY_ID</th>\n",
       "      <th>AMOUNT</th>\n",
       "      <th>CREATED_BY</th>\n",
       "      <th>CREATED_ON</th>\n",
       "      <th>MODIFIED_BY</th>\n",
       "      <th>MODIFIED_ON</th>\n",
       "    </tr>\n",
       "  </thead>\n",
       "  <tbody>\n",
       "    <tr>\n",
       "      <th>0</th>\n",
       "      <td>441</td>\n",
       "      <td>14</td>\n",
       "      <td>1552.98</td>\n",
       "      <td>NSSI_PEN</td>\n",
       "      <td>2015-05-18 16:42:22.000000</td>\n",
       "      <td>NaN</td>\n",
       "      <td>NaN</td>\n",
       "    </tr>\n",
       "    <tr>\n",
       "      <th>1</th>\n",
       "      <td>442</td>\n",
       "      <td>14</td>\n",
       "      <td>80.00</td>\n",
       "      <td>NSSI_PEN</td>\n",
       "      <td>2015-05-18 16:42:22.000000</td>\n",
       "      <td>NaN</td>\n",
       "      <td>NaN</td>\n",
       "    </tr>\n",
       "    <tr>\n",
       "      <th>2</th>\n",
       "      <td>443</td>\n",
       "      <td>14</td>\n",
       "      <td>1827.00</td>\n",
       "      <td>NSSI_PEN</td>\n",
       "      <td>2015-05-18 16:42:22.000000</td>\n",
       "      <td>NaN</td>\n",
       "      <td>NaN</td>\n",
       "    </tr>\n",
       "    <tr>\n",
       "      <th>3</th>\n",
       "      <td>444</td>\n",
       "      <td>14</td>\n",
       "      <td>1473.18</td>\n",
       "      <td>NSSI_PEN</td>\n",
       "      <td>2015-05-18 16:42:22.000000</td>\n",
       "      <td>NaN</td>\n",
       "      <td>NaN</td>\n",
       "    </tr>\n",
       "    <tr>\n",
       "      <th>4</th>\n",
       "      <td>445</td>\n",
       "      <td>14</td>\n",
       "      <td>60.00</td>\n",
       "      <td>NSSI_PEN</td>\n",
       "      <td>2015-05-18 16:42:22.000000</td>\n",
       "      <td>NaN</td>\n",
       "      <td>NaN</td>\n",
       "    </tr>\n",
       "  </tbody>\n",
       "</table>\n",
       "</div>"
      ],
      "text/plain": [
       "   AMOUNT_ID  CURRENCY_ID   AMOUNT CREATED_BY                  CREATED_ON  \\\n",
       "0        441           14  1552.98   NSSI_PEN  2015-05-18 16:42:22.000000   \n",
       "1        442           14    80.00   NSSI_PEN  2015-05-18 16:42:22.000000   \n",
       "2        443           14  1827.00   NSSI_PEN  2015-05-18 16:42:22.000000   \n",
       "3        444           14  1473.18   NSSI_PEN  2015-05-18 16:42:22.000000   \n",
       "4        445           14    60.00   NSSI_PEN  2015-05-18 16:42:22.000000   \n",
       "\n",
       "   MODIFIED_BY  MODIFIED_ON  \n",
       "0          NaN          NaN  \n",
       "1          NaN          NaN  \n",
       "2          NaN          NaN  \n",
       "3          NaN          NaN  \n",
       "4          NaN          NaN  "
      ]
     },
     "execution_count": 6,
     "metadata": {},
     "output_type": "execute_result"
    }
   ],
   "source": [
    "retiring_income_data.head()"
   ]
  },
  {
   "cell_type": "markdown",
   "metadata": {},
   "source": [
    "From all these columns the interesting ones are: \n",
    "- AMOUNT_ID - this will be the connection between this table and the other ones, maybе getting the real names and other information about these people. I will rename it as \"amount_id\"\n",
    "- AMOUNT - it is not specified what amount that might be (as there is not column information in the leaked data obviously) but my guess is that this is the amount of monthly income (the official income, over which the pension and health payments were made). Usually this income is the last salary of the person, so I will rename it as \"salary\"\n",
    "- CURRENCY_ID - this is obviously the currency of the described salary. I will check how many currencies are there:"
   ]
  },
  {
   "cell_type": "code",
   "execution_count": 7,
   "metadata": {},
   "outputs": [
    {
     "data": {
      "text/plain": [
       "array([14], dtype=int64)"
      ]
     },
     "execution_count": 7,
     "metadata": {},
     "output_type": "execute_result"
    }
   ],
   "source": [
    "retiring_income_data.CURRENCY_ID.unique()"
   ]
  },
  {
   "cell_type": "markdown",
   "metadata": {},
   "source": [
    "It seems that there is only one currency in this table with CURRENCY_ID == 14. The chances that this is not BGN is very low, but I will check in one of the other tables, named \"CURRENCY\":"
   ]
  },
  {
   "cell_type": "code",
   "execution_count": 8,
   "metadata": {},
   "outputs": [],
   "source": [
    "currencies_data = pd.read_csv(\"data/MINFIN_BREACH/AEOI/CURRENCY.csv\")"
   ]
  },
  {
   "cell_type": "code",
   "execution_count": 9,
   "metadata": {},
   "outputs": [
    {
     "data": {
      "text/html": [
       "<div>\n",
       "<style scoped>\n",
       "    .dataframe tbody tr th:only-of-type {\n",
       "        vertical-align: middle;\n",
       "    }\n",
       "\n",
       "    .dataframe tbody tr th {\n",
       "        vertical-align: top;\n",
       "    }\n",
       "\n",
       "    .dataframe thead th {\n",
       "        text-align: right;\n",
       "    }\n",
       "</style>\n",
       "<table border=\"1\" class=\"dataframe\">\n",
       "  <thead>\n",
       "    <tr style=\"text-align: right;\">\n",
       "      <th></th>\n",
       "      <th>CURRENCY_ID</th>\n",
       "      <th>CODE</th>\n",
       "      <th>CREATED_BY</th>\n",
       "      <th>CREATED_ON</th>\n",
       "      <th>MODIFIED_BY</th>\n",
       "      <th>MODIFIED_ON</th>\n",
       "    </tr>\n",
       "  </thead>\n",
       "  <tbody>\n",
       "    <tr>\n",
       "      <th>0</th>\n",
       "      <td>1</td>\n",
       "      <td>AED</td>\n",
       "      <td>init</td>\n",
       "      <td>2014-11-07 09:16:51.000000</td>\n",
       "      <td>init</td>\n",
       "      <td>2014-11-07 09:16:51.000000</td>\n",
       "    </tr>\n",
       "    <tr>\n",
       "      <th>1</th>\n",
       "      <td>2</td>\n",
       "      <td>AFN</td>\n",
       "      <td>init</td>\n",
       "      <td>2014-11-07 09:16:51.000000</td>\n",
       "      <td>init</td>\n",
       "      <td>2014-11-07 09:16:51.000000</td>\n",
       "    </tr>\n",
       "    <tr>\n",
       "      <th>2</th>\n",
       "      <td>3</td>\n",
       "      <td>ALL</td>\n",
       "      <td>init</td>\n",
       "      <td>2014-11-07 09:16:51.000000</td>\n",
       "      <td>init</td>\n",
       "      <td>2014-11-07 09:16:51.000000</td>\n",
       "    </tr>\n",
       "    <tr>\n",
       "      <th>3</th>\n",
       "      <td>4</td>\n",
       "      <td>AMD</td>\n",
       "      <td>init</td>\n",
       "      <td>2014-11-07 09:16:51.000000</td>\n",
       "      <td>init</td>\n",
       "      <td>2014-11-07 09:16:51.000000</td>\n",
       "    </tr>\n",
       "    <tr>\n",
       "      <th>4</th>\n",
       "      <td>5</td>\n",
       "      <td>ANG</td>\n",
       "      <td>init</td>\n",
       "      <td>2014-11-07 09:16:51.000000</td>\n",
       "      <td>init</td>\n",
       "      <td>2014-11-07 09:16:51.000000</td>\n",
       "    </tr>\n",
       "  </tbody>\n",
       "</table>\n",
       "</div>"
      ],
      "text/plain": [
       "   CURRENCY_ID CODE CREATED_BY                  CREATED_ON MODIFIED_BY  \\\n",
       "0            1  AED       init  2014-11-07 09:16:51.000000        init   \n",
       "1            2  AFN       init  2014-11-07 09:16:51.000000        init   \n",
       "2            3  ALL       init  2014-11-07 09:16:51.000000        init   \n",
       "3            4  AMD       init  2014-11-07 09:16:51.000000        init   \n",
       "4            5  ANG       init  2014-11-07 09:16:51.000000        init   \n",
       "\n",
       "                  MODIFIED_ON  \n",
       "0  2014-11-07 09:16:51.000000  \n",
       "1  2014-11-07 09:16:51.000000  \n",
       "2  2014-11-07 09:16:51.000000  \n",
       "3  2014-11-07 09:16:51.000000  \n",
       "4  2014-11-07 09:16:51.000000  "
      ]
     },
     "execution_count": 9,
     "metadata": {},
     "output_type": "execute_result"
    }
   ],
   "source": [
    "currencies_data.head()"
   ]
  },
  {
   "cell_type": "code",
   "execution_count": 10,
   "metadata": {},
   "outputs": [
    {
     "data": {
      "text/html": [
       "<div>\n",
       "<style scoped>\n",
       "    .dataframe tbody tr th:only-of-type {\n",
       "        vertical-align: middle;\n",
       "    }\n",
       "\n",
       "    .dataframe tbody tr th {\n",
       "        vertical-align: top;\n",
       "    }\n",
       "\n",
       "    .dataframe thead th {\n",
       "        text-align: right;\n",
       "    }\n",
       "</style>\n",
       "<table border=\"1\" class=\"dataframe\">\n",
       "  <thead>\n",
       "    <tr style=\"text-align: right;\">\n",
       "      <th></th>\n",
       "      <th>CURRENCY_ID</th>\n",
       "      <th>CODE</th>\n",
       "      <th>CREATED_BY</th>\n",
       "      <th>CREATED_ON</th>\n",
       "      <th>MODIFIED_BY</th>\n",
       "      <th>MODIFIED_ON</th>\n",
       "    </tr>\n",
       "  </thead>\n",
       "  <tbody>\n",
       "    <tr>\n",
       "      <th>13</th>\n",
       "      <td>14</td>\n",
       "      <td>BGN</td>\n",
       "      <td>init</td>\n",
       "      <td>2014-11-07 09:16:51.000000</td>\n",
       "      <td>init</td>\n",
       "      <td>2014-11-07 09:16:51.000000</td>\n",
       "    </tr>\n",
       "  </tbody>\n",
       "</table>\n",
       "</div>"
      ],
      "text/plain": [
       "    CURRENCY_ID CODE CREATED_BY                  CREATED_ON MODIFIED_BY  \\\n",
       "13           14  BGN       init  2014-11-07 09:16:51.000000        init   \n",
       "\n",
       "                   MODIFIED_ON  \n",
       "13  2014-11-07 09:16:51.000000  "
      ]
     },
     "execution_count": 10,
     "metadata": {},
     "output_type": "execute_result"
    }
   ],
   "source": [
    "currencies_data[currencies_data['CURRENCY_ID'] == 14]"
   ]
  },
  {
   "cell_type": "markdown",
   "metadata": {},
   "source": [
    "After I confirmed that the currency is BGN and that there are not any other currencies, I will remove the CURRENCY_ID column and just rename the AMOUNT column \"salary_BGN\". In addition, the rest of the columns (CREATED_BY, CREATED_ON, MODIFIED_BY, MODIFIED_ON) are not interesting for me (the modified date is the same as the created date, the MODIFIED_BY column is full only of NaN"
   ]
  },
  {
   "cell_type": "code",
   "execution_count": 11,
   "metadata": {},
   "outputs": [
    {
     "data": {
      "text/plain": [
       "array(['NSSI_PEN'], dtype=object)"
      ]
     },
     "execution_count": 11,
     "metadata": {},
     "output_type": "execute_result"
    }
   ],
   "source": [
    "retiring_income_data.CREATED_BY.unique()"
   ]
  },
  {
   "cell_type": "code",
   "execution_count": 12,
   "metadata": {},
   "outputs": [
    {
     "data": {
      "text/plain": [
       "array([nan])"
      ]
     },
     "execution_count": 12,
     "metadata": {},
     "output_type": "execute_result"
    }
   ],
   "source": [
    "retiring_income_data.MODIFIED_BY.unique()"
   ]
  },
  {
   "cell_type": "code",
   "execution_count": 13,
   "metadata": {},
   "outputs": [],
   "source": [
    "retiring_income_data_renamed = retiring_income_data.drop(['CURRENCY_ID', 'CREATED_BY', 'MODIFIED_BY', 'MODIFIED_ON'], axis=1)"
   ]
  },
  {
   "cell_type": "code",
   "execution_count": 14,
   "metadata": {},
   "outputs": [],
   "source": [
    "retiring_income_data_renamed.columns = [\"amount_id\", \"salary_BGN\", \"created_on\"]"
   ]
  },
  {
   "cell_type": "code",
   "execution_count": 15,
   "metadata": {},
   "outputs": [
    {
     "data": {
      "text/html": [
       "<div>\n",
       "<style scoped>\n",
       "    .dataframe tbody tr th:only-of-type {\n",
       "        vertical-align: middle;\n",
       "    }\n",
       "\n",
       "    .dataframe tbody tr th {\n",
       "        vertical-align: top;\n",
       "    }\n",
       "\n",
       "    .dataframe thead th {\n",
       "        text-align: right;\n",
       "    }\n",
       "</style>\n",
       "<table border=\"1\" class=\"dataframe\">\n",
       "  <thead>\n",
       "    <tr style=\"text-align: right;\">\n",
       "      <th></th>\n",
       "      <th>amount_id</th>\n",
       "      <th>salary_BGN</th>\n",
       "      <th>created_on</th>\n",
       "    </tr>\n",
       "  </thead>\n",
       "  <tbody>\n",
       "    <tr>\n",
       "      <th>0</th>\n",
       "      <td>441</td>\n",
       "      <td>1552.98</td>\n",
       "      <td>2015-05-18 16:42:22.000000</td>\n",
       "    </tr>\n",
       "    <tr>\n",
       "      <th>1</th>\n",
       "      <td>442</td>\n",
       "      <td>80.00</td>\n",
       "      <td>2015-05-18 16:42:22.000000</td>\n",
       "    </tr>\n",
       "    <tr>\n",
       "      <th>2</th>\n",
       "      <td>443</td>\n",
       "      <td>1827.00</td>\n",
       "      <td>2015-05-18 16:42:22.000000</td>\n",
       "    </tr>\n",
       "    <tr>\n",
       "      <th>3</th>\n",
       "      <td>444</td>\n",
       "      <td>1473.18</td>\n",
       "      <td>2015-05-18 16:42:22.000000</td>\n",
       "    </tr>\n",
       "    <tr>\n",
       "      <th>4</th>\n",
       "      <td>445</td>\n",
       "      <td>60.00</td>\n",
       "      <td>2015-05-18 16:42:22.000000</td>\n",
       "    </tr>\n",
       "  </tbody>\n",
       "</table>\n",
       "</div>"
      ],
      "text/plain": [
       "   amount_id  salary_BGN                  created_on\n",
       "0        441     1552.98  2015-05-18 16:42:22.000000\n",
       "1        442       80.00  2015-05-18 16:42:22.000000\n",
       "2        443     1827.00  2015-05-18 16:42:22.000000\n",
       "3        444     1473.18  2015-05-18 16:42:22.000000\n",
       "4        445       60.00  2015-05-18 16:42:22.000000"
      ]
     },
     "execution_count": 15,
     "metadata": {},
     "output_type": "execute_result"
    }
   ],
   "source": [
    "retiring_income_data_renamed.head()"
   ]
  },
  {
   "cell_type": "code",
   "execution_count": 16,
   "metadata": {},
   "outputs": [
    {
     "data": {
      "text/plain": [
       "amount_id     False\n",
       "salary_BGN    False\n",
       "created_on    False\n",
       "dtype: bool"
      ]
     },
     "execution_count": 16,
     "metadata": {},
     "output_type": "execute_result"
    }
   ],
   "source": [
    "retiring_income_data_renamed.isna().any()"
   ]
  },
  {
   "cell_type": "code",
   "execution_count": 17,
   "metadata": {},
   "outputs": [
    {
     "data": {
      "image/png": "[encoded data removed]",
      "text/plain": [
       "<Figure size 432x288 with 1 Axes>"
      ]
     },
     "metadata": {
      "needs_background": "light"
     },
     "output_type": "display_data"
    }
   ],
   "source": [
    "plt.hist(retiring_income_data_renamed.salary_BGN, bins = 20)\n",
    "plt.show()"
   ]
  },
  {
   "cell_type": "markdown",
   "metadata": {},
   "source": [
    "It is clear and expected - that the income of the retiring people in Bulgaria is very low and that the poor people are majority :( \n",
    "\n",
    "OK now I will leave this table and look at the next one"
   ]
  },
  {
   "cell_type": "markdown",
   "metadata": {},
   "source": [
    "### 4) Analysis of the table with the EGNs\n",
    "According to NAP the same 17603 retired people have the following additional data:"
   ]
  },
  {
   "cell_type": "code",
   "execution_count": 18,
   "metadata": {},
   "outputs": [],
   "source": [
    "pension_recipients = pd.read_csv(\"data/MINFIN_BREACH/AEOI/PEN_RECIPIENT.csv\")"
   ]
  },
  {
   "cell_type": "code",
   "execution_count": 19,
   "metadata": {},
   "outputs": [
    {
     "data": {
      "text/plain": [
       "(17603, 12)"
      ]
     },
     "execution_count": 19,
     "metadata": {},
     "output_type": "execute_result"
    }
   ],
   "source": [
    "pension_recipients.shape"
   ]
  },
  {
   "cell_type": "code",
   "execution_count": 20,
   "metadata": {},
   "outputs": [
    {
     "data": {
      "text/html": [
       "<div>\n",
       "<style scoped>\n",
       "    .dataframe tbody tr th:only-of-type {\n",
       "        vertical-align: middle;\n",
       "    }\n",
       "\n",
       "    .dataframe tbody tr th {\n",
       "        vertical-align: top;\n",
       "    }\n",
       "\n",
       "    .dataframe thead th {\n",
       "        text-align: right;\n",
       "    }\n",
       "</style>\n",
       "<table border=\"1\" class=\"dataframe\">\n",
       "  <thead>\n",
       "    <tr style=\"text-align: right;\">\n",
       "      <th></th>\n",
       "      <th>DOCREFID</th>\n",
       "      <th>MESSAGE_ID</th>\n",
       "      <th>CORRDOCREFID</th>\n",
       "      <th>PEN_RECIPIENT_ID</th>\n",
       "      <th>NATURAL_PERSON_ID</th>\n",
       "      <th>REPRESENTATIVE_ID</th>\n",
       "      <th>CREATED_BY</th>\n",
       "      <th>CREATED_ON</th>\n",
       "      <th>MODIFIED_BY</th>\n",
       "      <th>MODIFIED_ON</th>\n",
       "      <th>RECIPIENT_NUMBER</th>\n",
       "      <th>INFORMATION_STATUS</th>\n",
       "    </tr>\n",
       "  </thead>\n",
       "  <tbody>\n",
       "    <tr>\n",
       "      <th>0</th>\n",
       "      <td>PEN_NSSI2014-12-31536</td>\n",
       "      <td>203</td>\n",
       "      <td>NaN</td>\n",
       "      <td>203</td>\n",
       "      <td>203</td>\n",
       "      <td>NaN</td>\n",
       "      <td>NSSI_PEN</td>\n",
       "      <td>2015-05-18 16:42:19.000000</td>\n",
       "      <td>NaN</td>\n",
       "      <td>NaN</td>\n",
       "      <td>3201034369</td>\n",
       "      <td>new</td>\n",
       "    </tr>\n",
       "    <tr>\n",
       "      <th>1</th>\n",
       "      <td>PEN_NSSI2014-12-31537</td>\n",
       "      <td>204</td>\n",
       "      <td>NaN</td>\n",
       "      <td>204</td>\n",
       "      <td>204</td>\n",
       "      <td>NaN</td>\n",
       "      <td>NSSI_PEN</td>\n",
       "      <td>2015-05-18 16:42:19.000000</td>\n",
       "      <td>NaN</td>\n",
       "      <td>NaN</td>\n",
       "      <td>4807314376</td>\n",
       "      <td>new</td>\n",
       "    </tr>\n",
       "    <tr>\n",
       "      <th>2</th>\n",
       "      <td>PEN_NSSI2014-12-31538</td>\n",
       "      <td>205</td>\n",
       "      <td>NaN</td>\n",
       "      <td>205</td>\n",
       "      <td>205</td>\n",
       "      <td>NaN</td>\n",
       "      <td>NSSI_PEN</td>\n",
       "      <td>2015-05-18 16:42:19.000000</td>\n",
       "      <td>NaN</td>\n",
       "      <td>NaN</td>\n",
       "      <td>4807314376</td>\n",
       "      <td>new</td>\n",
       "    </tr>\n",
       "    <tr>\n",
       "      <th>3</th>\n",
       "      <td>PEN_NSSI2014-12-31539</td>\n",
       "      <td>206</td>\n",
       "      <td>NaN</td>\n",
       "      <td>206</td>\n",
       "      <td>206</td>\n",
       "      <td>NaN</td>\n",
       "      <td>NSSI_PEN</td>\n",
       "      <td>2015-05-18 16:42:19.000000</td>\n",
       "      <td>NaN</td>\n",
       "      <td>NaN</td>\n",
       "      <td>4807314376</td>\n",
       "      <td>new</td>\n",
       "    </tr>\n",
       "    <tr>\n",
       "      <th>4</th>\n",
       "      <td>PEN_NSSI2014-12-31540</td>\n",
       "      <td>207</td>\n",
       "      <td>NaN</td>\n",
       "      <td>207</td>\n",
       "      <td>207</td>\n",
       "      <td>NaN</td>\n",
       "      <td>NSSI_PEN</td>\n",
       "      <td>2015-05-18 16:42:19.000000</td>\n",
       "      <td>NaN</td>\n",
       "      <td>NaN</td>\n",
       "      <td>3606184474</td>\n",
       "      <td>new</td>\n",
       "    </tr>\n",
       "  </tbody>\n",
       "</table>\n",
       "</div>"
      ],
      "text/plain": [
       "                DOCREFID  MESSAGE_ID  CORRDOCREFID  PEN_RECIPIENT_ID  \\\n",
       "0  PEN_NSSI2014-12-31536         203           NaN               203   \n",
       "1  PEN_NSSI2014-12-31537         204           NaN               204   \n",
       "2  PEN_NSSI2014-12-31538         205           NaN               205   \n",
       "3  PEN_NSSI2014-12-31539         206           NaN               206   \n",
       "4  PEN_NSSI2014-12-31540         207           NaN               207   \n",
       "\n",
       "   NATURAL_PERSON_ID  REPRESENTATIVE_ID CREATED_BY  \\\n",
       "0                203                NaN   NSSI_PEN   \n",
       "1                204                NaN   NSSI_PEN   \n",
       "2                205                NaN   NSSI_PEN   \n",
       "3                206                NaN   NSSI_PEN   \n",
       "4                207                NaN   NSSI_PEN   \n",
       "\n",
       "                   CREATED_ON  MODIFIED_BY  MODIFIED_ON  RECIPIENT_NUMBER  \\\n",
       "0  2015-05-18 16:42:19.000000          NaN          NaN        3201034369   \n",
       "1  2015-05-18 16:42:19.000000          NaN          NaN        4807314376   \n",
       "2  2015-05-18 16:42:19.000000          NaN          NaN        4807314376   \n",
       "3  2015-05-18 16:42:19.000000          NaN          NaN        4807314376   \n",
       "4  2015-05-18 16:42:19.000000          NaN          NaN        3606184474   \n",
       "\n",
       "  INFORMATION_STATUS  \n",
       "0                new  \n",
       "1                new  \n",
       "2                new  \n",
       "3                new  \n",
       "4                new  "
      ]
     },
     "execution_count": 20,
     "metadata": {},
     "output_type": "execute_result"
    }
   ],
   "source": [
    "pension_recipients.head()"
   ]
  },
  {
   "cell_type": "code",
   "execution_count": 21,
   "metadata": {},
   "outputs": [
    {
     "data": {
      "text/plain": [
       "DOCREFID               object\n",
       "MESSAGE_ID              int64\n",
       "CORRDOCREFID          float64\n",
       "PEN_RECIPIENT_ID        int64\n",
       "NATURAL_PERSON_ID       int64\n",
       "REPRESENTATIVE_ID     float64\n",
       "CREATED_BY             object\n",
       "CREATED_ON             object\n",
       "MODIFIED_BY           float64\n",
       "MODIFIED_ON           float64\n",
       "RECIPIENT_NUMBER        int64\n",
       "INFORMATION_STATUS     object\n",
       "dtype: object"
      ]
     },
     "execution_count": 21,
     "metadata": {},
     "output_type": "execute_result"
    }
   ],
   "source": [
    "pension_recipients.dtypes"
   ]
  },
  {
   "cell_type": "code",
   "execution_count": 22,
   "metadata": {},
   "outputs": [
    {
     "data": {
      "text/plain": [
       "DOCREFID              False\n",
       "MESSAGE_ID            False\n",
       "CORRDOCREFID           True\n",
       "PEN_RECIPIENT_ID      False\n",
       "NATURAL_PERSON_ID     False\n",
       "REPRESENTATIVE_ID      True\n",
       "CREATED_BY            False\n",
       "CREATED_ON            False\n",
       "MODIFIED_BY            True\n",
       "MODIFIED_ON            True\n",
       "RECIPIENT_NUMBER      False\n",
       "INFORMATION_STATUS    False\n",
       "dtype: bool"
      ]
     },
     "execution_count": 22,
     "metadata": {},
     "output_type": "execute_result"
    }
   ],
   "source": [
    "pension_recipients.isna().any()"
   ]
  },
  {
   "cell_type": "code",
   "execution_count": 23,
   "metadata": {},
   "outputs": [
    {
     "data": {
      "text/plain": [
       "array([nan])"
      ]
     },
     "execution_count": 23,
     "metadata": {},
     "output_type": "execute_result"
    }
   ],
   "source": [
    "pension_recipients.CORRDOCREFID.unique()"
   ]
  },
  {
   "cell_type": "code",
   "execution_count": 24,
   "metadata": {},
   "outputs": [
    {
     "data": {
      "text/plain": [
       "array([nan])"
      ]
     },
     "execution_count": 24,
     "metadata": {},
     "output_type": "execute_result"
    }
   ],
   "source": [
    "pension_recipients.REPRESENTATIVE_ID.unique()"
   ]
  },
  {
   "cell_type": "code",
   "execution_count": 25,
   "metadata": {},
   "outputs": [
    {
     "data": {
      "text/plain": [
       "array([nan])"
      ]
     },
     "execution_count": 25,
     "metadata": {},
     "output_type": "execute_result"
    }
   ],
   "source": [
    "pension_recipients.MODIFIED_BY.unique()"
   ]
  },
  {
   "cell_type": "code",
   "execution_count": 26,
   "metadata": {},
   "outputs": [
    {
     "data": {
      "text/plain": [
       "array([nan])"
      ]
     },
     "execution_count": 26,
     "metadata": {},
     "output_type": "execute_result"
    }
   ],
   "source": [
    "pension_recipients.MODIFIED_ON.unique()"
   ]
  },
  {
   "cell_type": "code",
   "execution_count": 27,
   "metadata": {},
   "outputs": [
    {
     "data": {
      "text/plain": [
       "array(['new'], dtype=object)"
      ]
     },
     "execution_count": 27,
     "metadata": {},
     "output_type": "execute_result"
    }
   ],
   "source": [
    "pension_recipients.INFORMATION_STATUS.unique()"
   ]
  },
  {
   "cell_type": "code",
   "execution_count": 28,
   "metadata": {},
   "outputs": [
    {
     "data": {
      "text/plain": [
       "array(['NSSI_PEN'], dtype=object)"
      ]
     },
     "execution_count": 28,
     "metadata": {},
     "output_type": "execute_result"
    }
   ],
   "source": [
    "pension_recipients.CREATED_BY.unique()"
   ]
  },
  {
   "cell_type": "markdown",
   "metadata": {},
   "source": [
    "It seems that many of the columns are either full with NaN values only or with just a single value which is not relevant to our study. In addition, I will not use the column DOCREFID as I don't have access to the docs send. Also the columns MESSAGE_ID, PEN_RECIPIENT_ID and NATURAL_PERSON_ID are with the same value and can be combined into one feature:"
   ]
  },
  {
   "cell_type": "code",
   "execution_count": 29,
   "metadata": {},
   "outputs": [
    {
     "data": {
      "image/png": "[encoded data removed]",
      "text/plain": [
       "<Figure size 432x288 with 1 Axes>"
      ]
     },
     "metadata": {
      "needs_background": "light"
     },
     "output_type": "display_data"
    }
   ],
   "source": [
    "plt.plot(pension_recipients.NATURAL_PERSON_ID, pension_recipients.REPRESENTATIVE_ID, pension_recipients.MESSAGE_ID)\n",
    "plt.title(\"Checking if there are any differences between the 3 columns\")\n",
    "plt.xlabel(\"person_id\")\n",
    "plt.ylabel(\"person_id\")\n",
    "plt.show()"
   ]
  },
  {
   "cell_type": "code",
   "execution_count": 30,
   "metadata": {},
   "outputs": [],
   "source": [
    "pension_recipients_renamed = pension_recipients.drop(['MESSAGE_ID', 'DOCREFID', 'CORRDOCREFID', 'NATURAL_PERSON_ID', 'REPRESENTATIVE_ID', 'CREATED_BY', 'MODIFIED_BY', 'MODIFIED_ON', 'INFORMATION_STATUS'], axis=1)"
   ]
  },
  {
   "cell_type": "code",
   "execution_count": 31,
   "metadata": {},
   "outputs": [
    {
     "data": {
      "text/plain": [
       "Index(['PEN_RECIPIENT_ID', 'CREATED_ON', 'RECIPIENT_NUMBER'], dtype='object')"
      ]
     },
     "execution_count": 31,
     "metadata": {},
     "output_type": "execute_result"
    }
   ],
   "source": [
    "pension_recipients_renamed.columns"
   ]
  },
  {
   "cell_type": "code",
   "execution_count": 32,
   "metadata": {},
   "outputs": [],
   "source": [
    "pension_recipients_renamed.columns = [\"retiring_person_id\", \"created_on\", \"EGN\"]"
   ]
  },
  {
   "cell_type": "code",
   "execution_count": 33,
   "metadata": {},
   "outputs": [
    {
     "data": {
      "text/html": [
       "<div>\n",
       "<style scoped>\n",
       "    .dataframe tbody tr th:only-of-type {\n",
       "        vertical-align: middle;\n",
       "    }\n",
       "\n",
       "    .dataframe tbody tr th {\n",
       "        vertical-align: top;\n",
       "    }\n",
       "\n",
       "    .dataframe thead th {\n",
       "        text-align: right;\n",
       "    }\n",
       "</style>\n",
       "<table border=\"1\" class=\"dataframe\">\n",
       "  <thead>\n",
       "    <tr style=\"text-align: right;\">\n",
       "      <th></th>\n",
       "      <th>retiring_person_id</th>\n",
       "      <th>created_on</th>\n",
       "      <th>EGN</th>\n",
       "    </tr>\n",
       "  </thead>\n",
       "  <tbody>\n",
       "    <tr>\n",
       "      <th>0</th>\n",
       "      <td>203</td>\n",
       "      <td>2015-05-18 16:42:19.000000</td>\n",
       "      <td>3201034369</td>\n",
       "    </tr>\n",
       "    <tr>\n",
       "      <th>1</th>\n",
       "      <td>204</td>\n",
       "      <td>2015-05-18 16:42:19.000000</td>\n",
       "      <td>4807314376</td>\n",
       "    </tr>\n",
       "    <tr>\n",
       "      <th>2</th>\n",
       "      <td>205</td>\n",
       "      <td>2015-05-18 16:42:19.000000</td>\n",
       "      <td>4807314376</td>\n",
       "    </tr>\n",
       "    <tr>\n",
       "      <th>3</th>\n",
       "      <td>206</td>\n",
       "      <td>2015-05-18 16:42:19.000000</td>\n",
       "      <td>4807314376</td>\n",
       "    </tr>\n",
       "    <tr>\n",
       "      <th>4</th>\n",
       "      <td>207</td>\n",
       "      <td>2015-05-18 16:42:19.000000</td>\n",
       "      <td>3606184474</td>\n",
       "    </tr>\n",
       "  </tbody>\n",
       "</table>\n",
       "</div>"
      ],
      "text/plain": [
       "   retiring_person_id                  created_on         EGN\n",
       "0                 203  2015-05-18 16:42:19.000000  3201034369\n",
       "1                 204  2015-05-18 16:42:19.000000  4807314376\n",
       "2                 205  2015-05-18 16:42:19.000000  4807314376\n",
       "3                 206  2015-05-18 16:42:19.000000  4807314376\n",
       "4                 207  2015-05-18 16:42:19.000000  3606184474"
      ]
     },
     "execution_count": 33,
     "metadata": {},
     "output_type": "execute_result"
    }
   ],
   "source": [
    "pension_recipients_renamed.head()"
   ]
  },
  {
   "cell_type": "markdown",
   "metadata": {},
   "source": [
    "According to the laws and rules in Bulgaria regarding the citizen's unique id number (the so called EGN) the numbers are formulated like this:\n",
    "- the first 2 digits are the year of birth. Both 1900 and 2000 are with digits 00\n",
    "- the 3rd and 4th digits are the month of birth. If you're born before 1st of January 1900, the number 20 is added to your month digits (i.e. if you're born on April 1890, you get 9025 as starting 4 digits of your EGN). If you're born after 31th of Deceber 1999, the number 40 is added to your month digits (i.e. if you're born on April 2008, you get 0845 as starting 4 digits of your EGN))\n",
    "- the 5th and the 6th digits are the day of birth.\n",
    "- the 7th, 8th and 9th digits are holding information about the region in Bulgaria where the birth took place. The 7th and the 8th digits are randomly generated and the 9th digit is even for boys and odd for girls.\n",
    "- the last 10th number is \"control number\" and is calculated following this algorithm:\n",
    "    - there is a weighted number for each 9 positions previously explained. Each of this weighted number is multiplied with the number of a concrete person (on the concrete positions). The result is divided by 11 and the remainder is taken (like n % 11 in most coding languages). If the result is < 10, it is taken as a control number; otherwise, the number 0 is taken. Because I'm working with real people's data and EGN I feel morally obligated to test and demonstrate this number with my own EGN, which is 8504027065:\n",
    "\n",
    "| Position | Weight | My EGN numbers | Multiplication result |\n",
    "|----------|--------|----------------|-----------------------|\n",
    "| 1        | 2      | 8              | 16                    |\n",
    "| 2        | 4      | 5              | 20                    |\n",
    "| 3        | 8      | 0              | 0                     |\n",
    "| 4        | 5      | 4              | 20                    |\n",
    "| 5        | 10     | 0              | 0                     |\n",
    "| 6        | 9      | 2              | 18                    |\n",
    "| 7        | 7      | 7              | 49                    |\n",
    "| 8        | 3      | 0              | 0                     |\n",
    "| 9        | 6      | 6              | 36                    |\n",
    "\n",
    "        The sum is 159 and:"
   ]
  },
  {
   "cell_type": "code",
   "execution_count": 34,
   "metadata": {},
   "outputs": [
    {
     "data": {
      "text/plain": [
       "5"
      ]
     },
     "execution_count": 34,
     "metadata": {},
     "output_type": "execute_result"
    }
   ],
   "source": [
    "159 % 11"
   ]
  },
  {
   "cell_type": "markdown",
   "metadata": {},
   "source": [
    "Moreover, it turns out that my EGN in relation to this algorithm is correct, thanks god! In addition, there are strange EGN values as min and max. Maybe the max value is for some kid with health problems that gets some pension - I don't have any other explanation. Regarding the min value - it is some mistake in my opinion - there cannot be 6-digit EGNs:"
   ]
  },
  {
   "cell_type": "code",
   "execution_count": 35,
   "metadata": {},
   "outputs": [
    {
     "data": {
      "text/plain": [
       "9911264386"
      ]
     },
     "execution_count": 35,
     "metadata": {},
     "output_type": "execute_result"
    }
   ],
   "source": [
    "pension_recipients_renamed.EGN.max()"
   ]
  },
  {
   "cell_type": "code",
   "execution_count": 36,
   "metadata": {},
   "outputs": [
    {
     "data": {
      "text/plain": [
       "171171"
      ]
     },
     "execution_count": 36,
     "metadata": {},
     "output_type": "execute_result"
    }
   ],
   "source": [
    "pension_recipients_renamed.EGN.min()"
   ]
  },
  {
   "cell_type": "code",
   "execution_count": 37,
   "metadata": {},
   "outputs": [
    {
     "data": {
      "text/plain": [
       "4600648945.152133"
      ]
     },
     "execution_count": 37,
     "metadata": {},
     "output_type": "execute_result"
    }
   ],
   "source": [
    "pension_recipients_renamed.EGN.mean()"
   ]
  },
  {
   "cell_type": "code",
   "execution_count": 38,
   "metadata": {},
   "outputs": [
    {
     "data": {
      "text/plain": [
       "4610176249.0"
      ]
     },
     "execution_count": 38,
     "metadata": {},
     "output_type": "execute_result"
    }
   ],
   "source": [
    "pension_recipients_renamed.EGN.median()"
   ]
  },
  {
   "cell_type": "code",
   "execution_count": 39,
   "metadata": {},
   "outputs": [
    {
     "data": {
      "text/plain": [
       "0    4001160079\n",
       "dtype: int64"
      ]
     },
     "execution_count": 39,
     "metadata": {},
     "output_type": "execute_result"
    }
   ],
   "source": [
    "pension_recipients_renamed.EGN.mode()"
   ]
  },
  {
   "cell_type": "code",
   "execution_count": 40,
   "metadata": {},
   "outputs": [
    {
     "data": {
      "text/plain": [
       "0.5181221263498235"
      ]
     },
     "execution_count": 40,
     "metadata": {},
     "output_type": "execute_result"
    }
   ],
   "source": [
    "pension_recipients_renamed.EGN.skew()"
   ]
  },
  {
   "cell_type": "code",
   "execution_count": 41,
   "metadata": {},
   "outputs": [],
   "source": [
    "def show_histogram(dataframe, column, binZ):\n",
    "    plt.figure(figsize = (12, 6))\n",
    "    plt.hist(dataframe[column], bins = binZ)\n",
    "    plt.title(\"{} distribution amongst the retired people on 18.05.2015\".format(column))\n",
    "    plt.xlabel(\"{} as a real number\".format(column))\n",
    "    plt.ylabel(\"Count\")\n",
    "    plt.show()"
   ]
  },
  {
   "cell_type": "code",
   "execution_count": 42,
   "metadata": {},
   "outputs": [
    {
     "data": {
      "image/png": "[encoded data removed]",
      "text/plain": [
       "<Figure size 864x432 with 1 Axes>"
      ]
     },
     "metadata": {
      "needs_background": "light"
     },
     "output_type": "display_data"
    }
   ],
   "source": [
    "show_histogram(pension_recipients_renamed, \"EGN\", 100)"
   ]
  },
  {
   "cell_type": "markdown",
   "metadata": {},
   "source": [
    "The results are very interesting for me.\n",
    "- First: there are obviously more wrong data in the left part of the distribution (EGNs with number of digits < 10) I will try to filter them\n",
    "- Second: there are some pensions for very young people (with EGN starting with 90) - maybe I have to make further investigation on that fact\n",
    "- Third: there is very small skew and this distribution is very close to normal distribution.\n",
    "- I never thought before but actually, the left shift is very logical. The people to the right are maybe people from category 1 and 2 that can retire at much younger age. There are some but not so far away. On the left side however there are much more people. This means that people, much older than 60/63 years old have made a decision for late retirement (later than their age requirement). This could be because they were missing points (they had the age but were missing the labour service years) OR they have the points and everything but just decided not to retire and continue working for much higher income. We can check this second theory by looking at the income from the first table and making connection between the two tables.\n",
    "\n",
    "However, before mixing tables I will try to extract the gender and make some function for birth year extraction as well as it is the most relevant for me. I plan to ignore the rest of the EGN data later on"
   ]
  },
  {
   "cell_type": "code",
   "execution_count": 43,
   "metadata": {},
   "outputs": [],
   "source": [
    "MINIMUM_EGN_VALUE = 1000000000"
   ]
  },
  {
   "cell_type": "code",
   "execution_count": 44,
   "metadata": {},
   "outputs": [],
   "source": [
    "pension_recipients_filtered = pension_recipients_renamed.loc[pension_recipients_renamed.EGN >= MINIMUM_EGN_VALUE]"
   ]
  },
  {
   "cell_type": "code",
   "execution_count": 45,
   "metadata": {},
   "outputs": [
    {
     "data": {
      "text/plain": [
       "(17603, 3)"
      ]
     },
     "execution_count": 45,
     "metadata": {},
     "output_type": "execute_result"
    }
   ],
   "source": [
    "pension_recipients_renamed.shape"
   ]
  },
  {
   "cell_type": "code",
   "execution_count": 46,
   "metadata": {},
   "outputs": [
    {
     "data": {
      "text/plain": [
       "(17475, 3)"
      ]
     },
     "execution_count": 46,
     "metadata": {},
     "output_type": "execute_result"
    }
   ],
   "source": [
    "pension_recipients_filtered.shape"
   ]
  },
  {
   "cell_type": "code",
   "execution_count": 47,
   "metadata": {},
   "outputs": [
    {
     "data": {
      "image/png": "[encoded data removed]",
      "text/plain": [
       "<Figure size 864x432 with 1 Axes>"
      ]
     },
     "metadata": {
      "needs_background": "light"
     },
     "output_type": "display_data"
    }
   ],
   "source": [
    "show_histogram(pension_recipients_filtered, \"EGN\", 90)"
   ]
  },
  {
   "cell_type": "code",
   "execution_count": 48,
   "metadata": {},
   "outputs": [
    {
     "name": "stdout",
     "output_type": "stream",
     "text": [
      "The deleted data by filtered wrong EGNs is 0.73%\n"
     ]
    }
   ],
   "source": [
    "filtered_data = 100 * (pension_recipients_renamed.shape[0] - pension_recipients_filtered.shape[0]) / pension_recipients_renamed.shape[0]\n",
    "print(\"The deleted data by filtered wrong EGNs is {:.2f}%\".format(filtered_data))"
   ]
  },
  {
   "cell_type": "markdown",
   "metadata": {},
   "source": [
    "Ok, after filtering the wrong data we can take a closer look at the younger people (I will take the threshold 80's because this means 35 years in 2015, maybe reasonable for some miners or other people with category 1):"
   ]
  },
  {
   "cell_type": "code",
   "execution_count": 49,
   "metadata": {},
   "outputs": [],
   "source": [
    "THRESHOLD_FOR_RIGHT_OUTLIERS = 8000000000\n",
    "young_retired_people = pension_recipients_filtered[pension_recipients_filtered.EGN > THRESHOLD_FOR_RIGHT_OUTLIERS]\n",
    "retired_with_regular_age = pension_recipients_filtered[pension_recipients_filtered.EGN <= THRESHOLD_FOR_RIGHT_OUTLIERS]"
   ]
  },
  {
   "cell_type": "code",
   "execution_count": 50,
   "metadata": {},
   "outputs": [
    {
     "data": {
      "image/png": "[encoded data removed]",
      "text/plain": [
       "<Figure size 864x432 with 1 Axes>"
      ]
     },
     "metadata": {
      "needs_background": "light"
     },
     "output_type": "display_data"
    }
   ],
   "source": [
    "show_histogram(young_retired_people, \"EGN\", 'fd')"
   ]
  },
  {
   "cell_type": "code",
   "execution_count": 51,
   "metadata": {},
   "outputs": [
    {
     "data": {
      "text/plain": [
       "(128, 3)"
      ]
     },
     "execution_count": 51,
     "metadata": {},
     "output_type": "execute_result"
    }
   ],
   "source": [
    "pension_recipients_renamed[pension_recipients_renamed.EGN <= MINIMUM_EGN_VALUE].shape"
   ]
  },
  {
   "cell_type": "markdown",
   "metadata": {},
   "source": [
    "So my theory is that these 128 entries with EGN with number of digits < 10 are not incorrect, but are rather with leading zeroes (and from NAP did not take adequate decision making the EGN values int64 and losing these leading digits). So I will try to modify the EGN column by leaving only years"
   ]
  },
  {
   "cell_type": "code",
   "execution_count": 52,
   "metadata": {},
   "outputs": [],
   "source": [
    "def calculate_year(EGN, century):\n",
    "    return century + np.floor(EGN / 100000000)"
   ]
  },
  {
   "cell_type": "code",
   "execution_count": 53,
   "metadata": {},
   "outputs": [],
   "source": [
    "def get_year_from_EGN(EGN):\n",
    "    months = np.floor(EGN / 1000000) % 100\n",
    "    if months < 20:\n",
    "        year = calculate_year(EGN, 1900)\n",
    "    elif months > 40:\n",
    "        year = calculate_year(EGN, 2000)\n",
    "    else:\n",
    "        year = calculate_year(EGN, 1800)\n",
    "    return year"
   ]
  },
  {
   "cell_type": "code",
   "execution_count": 54,
   "metadata": {},
   "outputs": [],
   "source": [
    "assert_equal(1985, get_year_from_EGN(8504027065))\n",
    "assert_equal(1885, get_year_from_EGN(8524027065))\n",
    "assert_equal(2085, get_year_from_EGN(8544027065))\n",
    "assert_equal(1905, get_year_from_EGN(510027065))\n",
    "assert_equal(1805, get_year_from_EGN(530027065))\n",
    "assert_equal(2005, get_year_from_EGN(550027065))\n",
    "assert_equal(1900, get_year_from_EGN(10027065))\n",
    "assert_equal(1900, get_year_from_EGN(4027065))\n",
    "assert_equal(2000, get_year_from_EGN(44027065))"
   ]
  },
  {
   "cell_type": "markdown",
   "metadata": {},
   "source": [
    "It seems that I have mistaken and these 128 entries are correct and valid EGNs but with bad interpretation (mainly lost leading zeroes). "
   ]
  },
  {
   "cell_type": "code",
   "execution_count": 55,
   "metadata": {},
   "outputs": [],
   "source": [
    "pension_recipients_cleaned = pension_recipients_renamed"
   ]
  },
  {
   "cell_type": "code",
   "execution_count": 56,
   "metadata": {},
   "outputs": [],
   "source": [
    "pension_recipients_cleaned.EGN = pension_recipients_cleaned.EGN.apply(lambda x: get_year_from_EGN(x))"
   ]
  },
  {
   "cell_type": "code",
   "execution_count": 57,
   "metadata": {},
   "outputs": [],
   "source": [
    "pension_recipients_cleaned.rename(columns={'EGN':'birth_year'}, inplace=True)"
   ]
  },
  {
   "cell_type": "code",
   "execution_count": 58,
   "metadata": {},
   "outputs": [
    {
     "data": {
      "text/html": [
       "<div>\n",
       "<style scoped>\n",
       "    .dataframe tbody tr th:only-of-type {\n",
       "        vertical-align: middle;\n",
       "    }\n",
       "\n",
       "    .dataframe tbody tr th {\n",
       "        vertical-align: top;\n",
       "    }\n",
       "\n",
       "    .dataframe thead th {\n",
       "        text-align: right;\n",
       "    }\n",
       "</style>\n",
       "<table border=\"1\" class=\"dataframe\">\n",
       "  <thead>\n",
       "    <tr style=\"text-align: right;\">\n",
       "      <th></th>\n",
       "      <th>retiring_person_id</th>\n",
       "      <th>created_on</th>\n",
       "      <th>birth_year</th>\n",
       "    </tr>\n",
       "  </thead>\n",
       "  <tbody>\n",
       "    <tr>\n",
       "      <th>0</th>\n",
       "      <td>203</td>\n",
       "      <td>2015-05-18 16:42:19.000000</td>\n",
       "      <td>1932.0</td>\n",
       "    </tr>\n",
       "    <tr>\n",
       "      <th>1</th>\n",
       "      <td>204</td>\n",
       "      <td>2015-05-18 16:42:19.000000</td>\n",
       "      <td>1948.0</td>\n",
       "    </tr>\n",
       "    <tr>\n",
       "      <th>2</th>\n",
       "      <td>205</td>\n",
       "      <td>2015-05-18 16:42:19.000000</td>\n",
       "      <td>1948.0</td>\n",
       "    </tr>\n",
       "    <tr>\n",
       "      <th>3</th>\n",
       "      <td>206</td>\n",
       "      <td>2015-05-18 16:42:19.000000</td>\n",
       "      <td>1948.0</td>\n",
       "    </tr>\n",
       "    <tr>\n",
       "      <th>4</th>\n",
       "      <td>207</td>\n",
       "      <td>2015-05-18 16:42:19.000000</td>\n",
       "      <td>1936.0</td>\n",
       "    </tr>\n",
       "  </tbody>\n",
       "</table>\n",
       "</div>"
      ],
      "text/plain": [
       "   retiring_person_id                  created_on  birth_year\n",
       "0                 203  2015-05-18 16:42:19.000000      1932.0\n",
       "1                 204  2015-05-18 16:42:19.000000      1948.0\n",
       "2                 205  2015-05-18 16:42:19.000000      1948.0\n",
       "3                 206  2015-05-18 16:42:19.000000      1948.0\n",
       "4                 207  2015-05-18 16:42:19.000000      1936.0"
      ]
     },
     "execution_count": 58,
     "metadata": {},
     "output_type": "execute_result"
    }
   ],
   "source": [
    "pension_recipients_cleaned.head()"
   ]
  },
  {
   "cell_type": "code",
   "execution_count": 59,
   "metadata": {},
   "outputs": [
    {
     "data": {
      "text/plain": [
       "(17603, 3)"
      ]
     },
     "execution_count": 59,
     "metadata": {},
     "output_type": "execute_result"
    }
   ],
   "source": [
    "pension_recipients_cleaned.shape"
   ]
  },
  {
   "cell_type": "code",
   "execution_count": 60,
   "metadata": {},
   "outputs": [
    {
     "data": {
      "text/plain": [
       "retiring_person_id      int64\n",
       "created_on             object\n",
       "birth_year            float64\n",
       "dtype: object"
      ]
     },
     "execution_count": 60,
     "metadata": {},
     "output_type": "execute_result"
    }
   ],
   "source": [
    "pension_recipients_cleaned.dtypes"
   ]
  },
  {
   "cell_type": "code",
   "execution_count": 61,
   "metadata": {},
   "outputs": [
    {
     "data": {
      "image/png": "[encoded data removed]",
      "text/plain": [
       "<Figure size 864x432 with 1 Axes>"
      ]
     },
     "metadata": {
      "needs_background": "light"
     },
     "output_type": "display_data"
    }
   ],
   "source": [
    "show_histogram(pension_recipients_cleaned, \"birth_year\", 90)"
   ]
  },
  {
   "cell_type": "code",
   "execution_count": 62,
   "metadata": {},
   "outputs": [
    {
     "data": {
      "text/plain": [
       "2030.0"
      ]
     },
     "execution_count": 62,
     "metadata": {},
     "output_type": "execute_result"
    }
   ],
   "source": [
    "pension_recipients_cleaned.birth_year.max()"
   ]
  },
  {
   "cell_type": "code",
   "execution_count": 63,
   "metadata": {},
   "outputs": [
    {
     "data": {
      "text/plain": [
       "1842.0"
      ]
     },
     "execution_count": 63,
     "metadata": {},
     "output_type": "execute_result"
    }
   ],
   "source": [
    "pension_recipients_cleaned.birth_year.min()"
   ]
  },
  {
   "cell_type": "code",
   "execution_count": 64,
   "metadata": {},
   "outputs": [
    {
     "data": {
      "text/plain": [
       "1946.755609839232"
      ]
     },
     "execution_count": 64,
     "metadata": {},
     "output_type": "execute_result"
    }
   ],
   "source": [
    "pension_recipients_cleaned.birth_year.mean()"
   ]
  },
  {
   "cell_type": "code",
   "execution_count": 65,
   "metadata": {},
   "outputs": [
    {
     "data": {
      "text/plain": [
       "1946.0"
      ]
     },
     "execution_count": 65,
     "metadata": {},
     "output_type": "execute_result"
    }
   ],
   "source": [
    "pension_recipients_cleaned.birth_year.median()"
   ]
  },
  {
   "cell_type": "code",
   "execution_count": 66,
   "metadata": {},
   "outputs": [
    {
     "data": {
      "text/plain": [
       "0    1948.0\n",
       "dtype: float64"
      ]
     },
     "execution_count": 66,
     "metadata": {},
     "output_type": "execute_result"
    }
   ],
   "source": [
    "pension_recipients_cleaned.birth_year.mode()"
   ]
  },
  {
   "cell_type": "code",
   "execution_count": 67,
   "metadata": {},
   "outputs": [
    {
     "data": {
      "text/plain": [
       "1.679749984479715"
      ]
     },
     "execution_count": 67,
     "metadata": {},
     "output_type": "execute_result"
    }
   ],
   "source": [
    "pension_recipients_cleaned.birth_year.skew()"
   ]
  },
  {
   "cell_type": "code",
   "execution_count": 68,
   "metadata": {},
   "outputs": [],
   "source": [
    "THRESHOLD_FOR_RIGHT_OUTLIERS = 1980\n",
    "THRESHOLD_FOR_LEFT_OUTLIERS = 1915\n",
    "regular_age = (pension_recipients_cleaned.birth_year <= THRESHOLD_FOR_RIGHT_OUTLIERS) & (pension_recipients_cleaned.birth_year >= THRESHOLD_FOR_LEFT_OUTLIERS)\n",
    "young_retired_people = pension_recipients_cleaned[pension_recipients_cleaned.birth_year > THRESHOLD_FOR_RIGHT_OUTLIERS]\n",
    "retired_with_regular_age = pension_recipients_cleaned[regular_age]\n",
    "old_retired_people = pension_recipients_cleaned[pension_recipients_cleaned.birth_year < THRESHOLD_FOR_LEFT_OUTLIERS]"
   ]
  },
  {
   "cell_type": "code",
   "execution_count": 69,
   "metadata": {
    "scrolled": false
   },
   "outputs": [
    {
     "data": {
      "image/png": "[encoded data removed]",
      "text/plain": [
       "<Figure size 864x432 with 1 Axes>"
      ]
     },
     "metadata": {
      "needs_background": "light"
     },
     "output_type": "display_data"
    }
   ],
   "source": [
    "show_histogram(young_retired_people, \"birth_year\", 'fd')"
   ]
  },
  {
   "cell_type": "markdown",
   "metadata": {},
   "source": [
    "Therefore, as I have suspected, there is a secondary distribution with normal distribution around year 1998. What does that date means? Maybe the fact that 2015 (the year of this data) minus 1998 == 17. I.e. maybe this maximum is related to the children that enter adulthood (become 18 years old) and get their social/illness retirement as soon as they can. Maybe before that their parents took for them these social payments. Nevertheless, if that is the case - I have no explanation why there are people with age less than 18.\n",
    "\n",
    "I cannot stop thinking that there might be also another explanation. The people born in the end of the Communist regime and in the following years of the transition towards the democracy are a total minority. I cannot find any reason why there is such a drop in the retiring people in between these years. Maybe they are too young to get regular pension and too old to start taking social/illness pension yet. Or maybe the raw reality of the transition towards the democracy made them expect less from the social system of the country? This is a research on its own and is out of the scope of this study. However, I will compare this result with some data about the total births in Bulgaria during that period looking for some correlation"
   ]
  },
  {
   "cell_type": "code",
   "execution_count": 70,
   "metadata": {},
   "outputs": [
    {
     "data": {
      "text/plain": [
       "retiring_person_id    11063.867209\n",
       "birth_year             1998.308943\n",
       "dtype: float64"
      ]
     },
     "execution_count": 70,
     "metadata": {},
     "output_type": "execute_result"
    }
   ],
   "source": [
    "young_retired_people.mean()"
   ]
  },
  {
   "cell_type": "markdown",
   "metadata": {},
   "source": [
    "Of course, there are some wrong data like the years 1842 and 2030 but maybe they are the result of bad birth year parsing from the EGN or just wrong EGN data"
   ]
  },
  {
   "cell_type": "code",
   "execution_count": 71,
   "metadata": {},
   "outputs": [
    {
     "data": {
      "image/png": "[encoded data removed]",
      "text/plain": [
       "<Figure size 864x432 with 1 Axes>"
      ]
     },
     "metadata": {
      "needs_background": "light"
     },
     "output_type": "display_data"
    }
   ],
   "source": [
    "show_histogram(old_retired_people, \"birth_year\", 15)"
   ]
  },
  {
   "cell_type": "markdown",
   "metadata": {},
   "source": [
    "So the people 100 and more years old are quite suspicious, especially those 70+ that are "
   ]
  },
  {
   "cell_type": "code",
   "execution_count": 72,
   "metadata": {},
   "outputs": [],
   "source": [
    "pension_recipients_renamed = pension_recipients.drop(['MESSAGE_ID', 'DOCREFID', 'CORRDOCREFID', 'NATURAL_PERSON_ID', 'REPRESENTATIVE_ID', 'CREATED_BY', 'MODIFIED_BY', 'MODIFIED_ON', 'INFORMATION_STATUS'], axis=1)\n",
    "pension_recipients_renamed.columns = [\"retiring_person_id\", \"created_on\", \"EGN\"]"
   ]
  },
  {
   "cell_type": "code",
   "execution_count": 73,
   "metadata": {},
   "outputs": [],
   "source": [
    "old_retired_people_egn = pd.merge(old_retired_people, pension_recipients_renamed, left_index=True, right_index=True)"
   ]
  },
  {
   "cell_type": "code",
   "execution_count": 74,
   "metadata": {},
   "outputs": [
    {
     "data": {
      "text/html": [
       "<div>\n",
       "<style scoped>\n",
       "    .dataframe tbody tr th:only-of-type {\n",
       "        vertical-align: middle;\n",
       "    }\n",
       "\n",
       "    .dataframe tbody tr th {\n",
       "        vertical-align: top;\n",
       "    }\n",
       "\n",
       "    .dataframe thead th {\n",
       "        text-align: right;\n",
       "    }\n",
       "</style>\n",
       "<table border=\"1\" class=\"dataframe\">\n",
       "  <thead>\n",
       "    <tr style=\"text-align: right;\">\n",
       "      <th></th>\n",
       "      <th>retiring_person_id_x</th>\n",
       "      <th>created_on_x</th>\n",
       "      <th>birth_year</th>\n",
       "      <th>retiring_person_id_y</th>\n",
       "      <th>created_on_y</th>\n",
       "      <th>EGN</th>\n",
       "    </tr>\n",
       "  </thead>\n",
       "  <tbody>\n",
       "    <tr>\n",
       "      <th>3397</th>\n",
       "      <td>3202</td>\n",
       "      <td>2015-05-18 16:42:58.000000</td>\n",
       "      <td>1910.0</td>\n",
       "      <td>3202</td>\n",
       "      <td>2015-05-18 16:42:58.000000</td>\n",
       "      <td>1000268793</td>\n",
       "    </tr>\n",
       "    <tr>\n",
       "      <th>3398</th>\n",
       "      <td>3203</td>\n",
       "      <td>2015-05-18 16:42:58.000000</td>\n",
       "      <td>1910.0</td>\n",
       "      <td>3203</td>\n",
       "      <td>2015-05-18 16:42:58.000000</td>\n",
       "      <td>1000268793</td>\n",
       "    </tr>\n",
       "    <tr>\n",
       "      <th>4421</th>\n",
       "      <td>4912</td>\n",
       "      <td>2015-05-18 16:44:59.000000</td>\n",
       "      <td>1910.0</td>\n",
       "      <td>4912</td>\n",
       "      <td>2015-05-18 16:44:59.000000</td>\n",
       "      <td>1001774600</td>\n",
       "    </tr>\n",
       "    <tr>\n",
       "      <th>4422</th>\n",
       "      <td>4913</td>\n",
       "      <td>2015-05-18 16:44:59.000000</td>\n",
       "      <td>1910.0</td>\n",
       "      <td>4913</td>\n",
       "      <td>2015-05-18 16:44:59.000000</td>\n",
       "      <td>1001774600</td>\n",
       "    </tr>\n",
       "    <tr>\n",
       "      <th>4748</th>\n",
       "      <td>4555</td>\n",
       "      <td>2015-05-18 16:43:40.000000</td>\n",
       "      <td>1910.0</td>\n",
       "      <td>4555</td>\n",
       "      <td>2015-05-18 16:43:40.000000</td>\n",
       "      <td>1001123875</td>\n",
       "    </tr>\n",
       "  </tbody>\n",
       "</table>\n",
       "</div>"
      ],
      "text/plain": [
       "      retiring_person_id_x                created_on_x  birth_year  \\\n",
       "3397                  3202  2015-05-18 16:42:58.000000      1910.0   \n",
       "3398                  3203  2015-05-18 16:42:58.000000      1910.0   \n",
       "4421                  4912  2015-05-18 16:44:59.000000      1910.0   \n",
       "4422                  4913  2015-05-18 16:44:59.000000      1910.0   \n",
       "4748                  4555  2015-05-18 16:43:40.000000      1910.0   \n",
       "\n",
       "      retiring_person_id_y                created_on_y         EGN  \n",
       "3397                  3202  2015-05-18 16:42:58.000000  1000268793  \n",
       "3398                  3203  2015-05-18 16:42:58.000000  1000268793  \n",
       "4421                  4912  2015-05-18 16:44:59.000000  1001774600  \n",
       "4422                  4913  2015-05-18 16:44:59.000000  1001774600  \n",
       "4748                  4555  2015-05-18 16:43:40.000000  1001123875  "
      ]
     },
     "execution_count": 74,
     "metadata": {},
     "output_type": "execute_result"
    }
   ],
   "source": [
    "old_retired_people_egn.head()"
   ]
  },
  {
   "cell_type": "code",
   "execution_count": 75,
   "metadata": {},
   "outputs": [
    {
     "data": {
      "image/png": "[encoded data removed]",
      "text/plain": [
       "<Figure size 864x432 with 1 Axes>"
      ]
     },
     "metadata": {
      "needs_background": "light"
     },
     "output_type": "display_data"
    }
   ],
   "source": [
    "show_histogram(old_retired_people_egn, \"EGN\", 15)"
   ]
  },
  {
   "cell_type": "markdown",
   "metadata": {},
   "source": [
    "As it seems that these EGNs are correctly calculated I will just ignore them."
   ]
  },
  {
   "cell_type": "code",
   "execution_count": 76,
   "metadata": {},
   "outputs": [
    {
     "data": {
      "image/png": "[encoded data removed]",
      "text/plain": [
       "<Figure size 864x432 with 1 Axes>"
      ]
     },
     "metadata": {
      "needs_background": "light"
     },
     "output_type": "display_data"
    }
   ],
   "source": [
    "show_histogram(retired_with_regular_age, \"birth_year\", 65)"
   ]
  },
  {
   "cell_type": "code",
   "execution_count": 77,
   "metadata": {},
   "outputs": [],
   "source": [
    "def print_stat_data(dataframe, message):\n",
    "    regular_max = dataframe.birth_year.max()\n",
    "    regular_min = dataframe.birth_year.min()\n",
    "    regular_mean = dataframe.birth_year.mean()\n",
    "    regular_median = dataframe.birth_year.median()\n",
    "    regular_mode = dataframe.birth_year.mode()\n",
    "    regular_skew = dataframe.birth_year.skew()\n",
    "    print(\"For the {}, the data is: max = {}, min = {}, mean = {}, median = {}, mode = {}, skew = {}\"\n",
    "      .format(message, regular_max, regular_min, regular_mean, regular_median, regular_mode, regular_skew))"
   ]
  },
  {
   "cell_type": "code",
   "execution_count": 78,
   "metadata": {},
   "outputs": [
    {
     "name": "stdout",
     "output_type": "stream",
     "text": [
      "For the people with regular age, the data is: max = 1980.0, min = 1915.0, mean = 1945.8336637126865, median = 1946.0, mode = 0    1948.0\n",
      "dtype: float64, skew = 0.1360776311658835\n"
     ]
    }
   ],
   "source": [
    "print_stat_data(retired_with_regular_age, \"people with regular age\")"
   ]
  },
  {
   "cell_type": "markdown",
   "metadata": {},
   "source": [
    "Obviously, this is something very close to Gaussian distribution with small skew to the left. The mean is 1945, the median is 1946 and the mode is 1948. The theoretical age for people who retire as soon as they complete their age requirement are 2015-60 = 1955 for women and 2015-63 = 1953 for men. Therefore, it seems that most of the people retire at actually much older age - between 67 and 70 years old. Of course, it is very strange 17 hundred people to go and retire on the same date and maybe these are accumulated for some time and a officer from NAP just filled the database with them on that date - we'll never know. Nevertheless, as I see my colleagues in my work and the fact that almost all of them try to work and delay retiring as much as they can and the fact that most of them retire at age of 70 I think that there is no shifting in this data.\n",
    "\n",
    "It will be good if the men are separated from the women, as there could be interesting differences. As we already know, the women are with EGNs with odd 9th number, and the men with even 9th number:"
   ]
  },
  {
   "cell_type": "code",
   "execution_count": 79,
   "metadata": {},
   "outputs": [],
   "source": [
    "def define_is_man(EGN):\n",
    "    nine_num = np.floor(EGN / 10) % 2 == 0\n",
    "    return nine_num"
   ]
  },
  {
   "cell_type": "code",
   "execution_count": 80,
   "metadata": {},
   "outputs": [],
   "source": [
    "assert_equal(True, define_is_man(8504027065))\n",
    "assert_equal(False, define_is_man(8504027015))"
   ]
  },
  {
   "cell_type": "code",
   "execution_count": 81,
   "metadata": {},
   "outputs": [],
   "source": [
    "retired_with_regular_age_egn = pd.merge(retired_with_regular_age, pension_recipients_renamed, left_index=True, right_index=True)"
   ]
  },
  {
   "cell_type": "code",
   "execution_count": 82,
   "metadata": {},
   "outputs": [],
   "source": [
    "retired_with_regular_age_egn = retired_with_regular_age_egn.drop(['created_on_y', 'retiring_person_id_y'], axis=1)"
   ]
  },
  {
   "cell_type": "code",
   "execution_count": 83,
   "metadata": {},
   "outputs": [],
   "source": [
    "retired_with_regular_age_egn.columns = [\"retiring_person_id\", \"created_on\", \"birth_year\", \"male\"]"
   ]
  },
  {
   "cell_type": "code",
   "execution_count": 84,
   "metadata": {},
   "outputs": [
    {
     "data": {
      "text/html": [
       "<div>\n",
       "<style scoped>\n",
       "    .dataframe tbody tr th:only-of-type {\n",
       "        vertical-align: middle;\n",
       "    }\n",
       "\n",
       "    .dataframe tbody tr th {\n",
       "        vertical-align: top;\n",
       "    }\n",
       "\n",
       "    .dataframe thead th {\n",
       "        text-align: right;\n",
       "    }\n",
       "</style>\n",
       "<table border=\"1\" class=\"dataframe\">\n",
       "  <thead>\n",
       "    <tr style=\"text-align: right;\">\n",
       "      <th></th>\n",
       "      <th>retiring_person_id</th>\n",
       "      <th>created_on</th>\n",
       "      <th>birth_year</th>\n",
       "      <th>male</th>\n",
       "    </tr>\n",
       "  </thead>\n",
       "  <tbody>\n",
       "    <tr>\n",
       "      <th>0</th>\n",
       "      <td>203</td>\n",
       "      <td>2015-05-18 16:42:19.000000</td>\n",
       "      <td>1932.0</td>\n",
       "      <td>3201034369</td>\n",
       "    </tr>\n",
       "    <tr>\n",
       "      <th>1</th>\n",
       "      <td>204</td>\n",
       "      <td>2015-05-18 16:42:19.000000</td>\n",
       "      <td>1948.0</td>\n",
       "      <td>4807314376</td>\n",
       "    </tr>\n",
       "    <tr>\n",
       "      <th>2</th>\n",
       "      <td>205</td>\n",
       "      <td>2015-05-18 16:42:19.000000</td>\n",
       "      <td>1948.0</td>\n",
       "      <td>4807314376</td>\n",
       "    </tr>\n",
       "    <tr>\n",
       "      <th>3</th>\n",
       "      <td>206</td>\n",
       "      <td>2015-05-18 16:42:19.000000</td>\n",
       "      <td>1948.0</td>\n",
       "      <td>4807314376</td>\n",
       "    </tr>\n",
       "    <tr>\n",
       "      <th>4</th>\n",
       "      <td>207</td>\n",
       "      <td>2015-05-18 16:42:19.000000</td>\n",
       "      <td>1936.0</td>\n",
       "      <td>3606184474</td>\n",
       "    </tr>\n",
       "  </tbody>\n",
       "</table>\n",
       "</div>"
      ],
      "text/plain": [
       "   retiring_person_id                  created_on  birth_year        male\n",
       "0                 203  2015-05-18 16:42:19.000000      1932.0  3201034369\n",
       "1                 204  2015-05-18 16:42:19.000000      1948.0  4807314376\n",
       "2                 205  2015-05-18 16:42:19.000000      1948.0  4807314376\n",
       "3                 206  2015-05-18 16:42:19.000000      1948.0  4807314376\n",
       "4                 207  2015-05-18 16:42:19.000000      1936.0  3606184474"
      ]
     },
     "execution_count": 84,
     "metadata": {},
     "output_type": "execute_result"
    }
   ],
   "source": [
    "retired_with_regular_age_egn.head()"
   ]
  },
  {
   "cell_type": "code",
   "execution_count": 85,
   "metadata": {},
   "outputs": [
    {
     "data": {
      "text/plain": [
       "(17152, 4)"
      ]
     },
     "execution_count": 85,
     "metadata": {},
     "output_type": "execute_result"
    }
   ],
   "source": [
    "retired_with_regular_age_egn.shape"
   ]
  },
  {
   "cell_type": "code",
   "execution_count": 86,
   "metadata": {},
   "outputs": [],
   "source": [
    "retired_with_regular_age_egn.male = retired_with_regular_age_egn.male.apply(lambda x: define_is_man(x))"
   ]
  },
  {
   "cell_type": "code",
   "execution_count": 87,
   "metadata": {},
   "outputs": [
    {
     "data": {
      "text/plain": [
       "retiring_person_id      int64\n",
       "created_on             object\n",
       "birth_year            float64\n",
       "male                     bool\n",
       "dtype: object"
      ]
     },
     "execution_count": 87,
     "metadata": {},
     "output_type": "execute_result"
    }
   ],
   "source": [
    "retired_with_regular_age_egn.dtypes"
   ]
  },
  {
   "cell_type": "code",
   "execution_count": 88,
   "metadata": {},
   "outputs": [
    {
     "data": {
      "text/html": [
       "<div>\n",
       "<style scoped>\n",
       "    .dataframe tbody tr th:only-of-type {\n",
       "        vertical-align: middle;\n",
       "    }\n",
       "\n",
       "    .dataframe tbody tr th {\n",
       "        vertical-align: top;\n",
       "    }\n",
       "\n",
       "    .dataframe thead th {\n",
       "        text-align: right;\n",
       "    }\n",
       "</style>\n",
       "<table border=\"1\" class=\"dataframe\">\n",
       "  <thead>\n",
       "    <tr style=\"text-align: right;\">\n",
       "      <th></th>\n",
       "      <th>retiring_person_id</th>\n",
       "      <th>created_on</th>\n",
       "      <th>birth_year</th>\n",
       "      <th>male</th>\n",
       "    </tr>\n",
       "  </thead>\n",
       "  <tbody>\n",
       "    <tr>\n",
       "      <th>0</th>\n",
       "      <td>203</td>\n",
       "      <td>2015-05-18 16:42:19.000000</td>\n",
       "      <td>1932.0</td>\n",
       "      <td>True</td>\n",
       "    </tr>\n",
       "    <tr>\n",
       "      <th>1</th>\n",
       "      <td>204</td>\n",
       "      <td>2015-05-18 16:42:19.000000</td>\n",
       "      <td>1948.0</td>\n",
       "      <td>False</td>\n",
       "    </tr>\n",
       "    <tr>\n",
       "      <th>2</th>\n",
       "      <td>205</td>\n",
       "      <td>2015-05-18 16:42:19.000000</td>\n",
       "      <td>1948.0</td>\n",
       "      <td>False</td>\n",
       "    </tr>\n",
       "    <tr>\n",
       "      <th>3</th>\n",
       "      <td>206</td>\n",
       "      <td>2015-05-18 16:42:19.000000</td>\n",
       "      <td>1948.0</td>\n",
       "      <td>False</td>\n",
       "    </tr>\n",
       "    <tr>\n",
       "      <th>4</th>\n",
       "      <td>207</td>\n",
       "      <td>2015-05-18 16:42:19.000000</td>\n",
       "      <td>1936.0</td>\n",
       "      <td>False</td>\n",
       "    </tr>\n",
       "  </tbody>\n",
       "</table>\n",
       "</div>"
      ],
      "text/plain": [
       "   retiring_person_id                  created_on  birth_year   male\n",
       "0                 203  2015-05-18 16:42:19.000000      1932.0   True\n",
       "1                 204  2015-05-18 16:42:19.000000      1948.0  False\n",
       "2                 205  2015-05-18 16:42:19.000000      1948.0  False\n",
       "3                 206  2015-05-18 16:42:19.000000      1948.0  False\n",
       "4                 207  2015-05-18 16:42:19.000000      1936.0  False"
      ]
     },
     "execution_count": 88,
     "metadata": {},
     "output_type": "execute_result"
    }
   ],
   "source": [
    "retired_with_regular_age_egn.head()"
   ]
  },
  {
   "cell_type": "code",
   "execution_count": 89,
   "metadata": {},
   "outputs": [
    {
     "data": {
      "text/plain": [
       "(17152, 4)"
      ]
     },
     "execution_count": 89,
     "metadata": {},
     "output_type": "execute_result"
    }
   ],
   "source": [
    "retired_with_regular_age_egn.shape"
   ]
  },
  {
   "cell_type": "code",
   "execution_count": 90,
   "metadata": {},
   "outputs": [],
   "source": [
    "retired_with_regular_age_male = retired_with_regular_age_egn[retired_with_regular_age_egn.male]\n",
    "retired_with_regular_age_female = retired_with_regular_age_egn[~retired_with_regular_age_egn.male]"
   ]
  },
  {
   "cell_type": "code",
   "execution_count": 91,
   "metadata": {},
   "outputs": [
    {
     "data": {
      "text/plain": [
       "(10748, 4)"
      ]
     },
     "execution_count": 91,
     "metadata": {},
     "output_type": "execute_result"
    }
   ],
   "source": [
    "retired_with_regular_age_female.shape"
   ]
  },
  {
   "cell_type": "code",
   "execution_count": 92,
   "metadata": {},
   "outputs": [
    {
     "data": {
      "text/plain": [
       "(6404, 4)"
      ]
     },
     "execution_count": 92,
     "metadata": {},
     "output_type": "execute_result"
    }
   ],
   "source": [
    "retired_with_regular_age_male.shape"
   ]
  },
  {
   "cell_type": "markdown",
   "metadata": {},
   "source": [
    "It turns out that there are 6404 men and 10748 women."
   ]
  },
  {
   "cell_type": "code",
   "execution_count": 93,
   "metadata": {},
   "outputs": [
    {
     "data": {
      "image/png": "[encoded data removed]",
      "text/plain": [
       "<Figure size 864x432 with 1 Axes>"
      ]
     },
     "metadata": {
      "needs_background": "light"
     },
     "output_type": "display_data"
    }
   ],
   "source": [
    "show_histogram(retired_with_regular_age_female, \"birth_year\", 60)"
   ]
  },
  {
   "cell_type": "code",
   "execution_count": 94,
   "metadata": {},
   "outputs": [
    {
     "name": "stdout",
     "output_type": "stream",
     "text": [
      "For the women with regular age, the data is: max = 1980.0, min = 1917.0, mean = 1946.3231298846297, median = 1947.0, mode = 0    1948.0\n",
      "dtype: float64, skew = 0.030993121398071404\n"
     ]
    }
   ],
   "source": [
    "print_stat_data(retired_with_regular_age_female, \"women with regular age\")"
   ]
  },
  {
   "cell_type": "code",
   "execution_count": 95,
   "metadata": {},
   "outputs": [
    {
     "data": {
      "image/png": "[encoded data removed]",
      "text/plain": [
       "<Figure size 864x432 with 1 Axes>"
      ]
     },
     "metadata": {
      "needs_background": "light"
     },
     "output_type": "display_data"
    }
   ],
   "source": [
    "show_histogram(retired_with_regular_age_male, \"birth_year\", 'fd')"
   ]
  },
  {
   "cell_type": "code",
   "execution_count": 96,
   "metadata": {},
   "outputs": [
    {
     "name": "stdout",
     "output_type": "stream",
     "text": [
      "For the men with regular age, the data is: max = 1979.0, min = 1915.0, mean = 1945.0121798875703, median = 1945.0, mode = 0    1946.0\n",
      "dtype: float64, skew = 0.31874766919950215\n"
     ]
    }
   ],
   "source": [
    "print_stat_data(retired_with_regular_age_male, \"men with regular age\")"
   ]
  },
  {
   "cell_type": "markdown",
   "metadata": {},
   "source": [
    "Therefore, the difference between men and women is expected - the men are 1-2 years older than the women when they retire"
   ]
  },
  {
   "cell_type": "markdown",
   "metadata": {},
   "source": [
    "### 5) Combining the table with the EGN and age and the table with salaries\n",
    "Now I will merge the two columns "
   ]
  },
  {
   "cell_type": "code",
   "execution_count": 97,
   "metadata": {},
   "outputs": [],
   "source": [
    "retired_with_regular_age_salary = pd.merge(retired_with_regular_age_egn, retiring_income_data_renamed, left_index=True, right_index=True)"
   ]
  },
  {
   "cell_type": "code",
   "execution_count": 98,
   "metadata": {},
   "outputs": [
    {
     "data": {
      "text/html": [
       "<div>\n",
       "<style scoped>\n",
       "    .dataframe tbody tr th:only-of-type {\n",
       "        vertical-align: middle;\n",
       "    }\n",
       "\n",
       "    .dataframe tbody tr th {\n",
       "        vertical-align: top;\n",
       "    }\n",
       "\n",
       "    .dataframe thead th {\n",
       "        text-align: right;\n",
       "    }\n",
       "</style>\n",
       "<table border=\"1\" class=\"dataframe\">\n",
       "  <thead>\n",
       "    <tr style=\"text-align: right;\">\n",
       "      <th></th>\n",
       "      <th>retiring_person_id</th>\n",
       "      <th>created_on_x</th>\n",
       "      <th>birth_year</th>\n",
       "      <th>male</th>\n",
       "      <th>amount_id</th>\n",
       "      <th>salary_BGN</th>\n",
       "      <th>created_on_y</th>\n",
       "    </tr>\n",
       "  </thead>\n",
       "  <tbody>\n",
       "    <tr>\n",
       "      <th>0</th>\n",
       "      <td>203</td>\n",
       "      <td>2015-05-18 16:42:19.000000</td>\n",
       "      <td>1932.0</td>\n",
       "      <td>True</td>\n",
       "      <td>441</td>\n",
       "      <td>1552.98</td>\n",
       "      <td>2015-05-18 16:42:22.000000</td>\n",
       "    </tr>\n",
       "    <tr>\n",
       "      <th>1</th>\n",
       "      <td>204</td>\n",
       "      <td>2015-05-18 16:42:19.000000</td>\n",
       "      <td>1948.0</td>\n",
       "      <td>False</td>\n",
       "      <td>442</td>\n",
       "      <td>80.00</td>\n",
       "      <td>2015-05-18 16:42:22.000000</td>\n",
       "    </tr>\n",
       "    <tr>\n",
       "      <th>2</th>\n",
       "      <td>205</td>\n",
       "      <td>2015-05-18 16:42:19.000000</td>\n",
       "      <td>1948.0</td>\n",
       "      <td>False</td>\n",
       "      <td>443</td>\n",
       "      <td>1827.00</td>\n",
       "      <td>2015-05-18 16:42:22.000000</td>\n",
       "    </tr>\n",
       "    <tr>\n",
       "      <th>3</th>\n",
       "      <td>206</td>\n",
       "      <td>2015-05-18 16:42:19.000000</td>\n",
       "      <td>1948.0</td>\n",
       "      <td>False</td>\n",
       "      <td>444</td>\n",
       "      <td>1473.18</td>\n",
       "      <td>2015-05-18 16:42:22.000000</td>\n",
       "    </tr>\n",
       "    <tr>\n",
       "      <th>4</th>\n",
       "      <td>207</td>\n",
       "      <td>2015-05-18 16:42:19.000000</td>\n",
       "      <td>1936.0</td>\n",
       "      <td>False</td>\n",
       "      <td>445</td>\n",
       "      <td>60.00</td>\n",
       "      <td>2015-05-18 16:42:22.000000</td>\n",
       "    </tr>\n",
       "  </tbody>\n",
       "</table>\n",
       "</div>"
      ],
      "text/plain": [
       "   retiring_person_id                created_on_x  birth_year   male  \\\n",
       "0                 203  2015-05-18 16:42:19.000000      1932.0   True   \n",
       "1                 204  2015-05-18 16:42:19.000000      1948.0  False   \n",
       "2                 205  2015-05-18 16:42:19.000000      1948.0  False   \n",
       "3                 206  2015-05-18 16:42:19.000000      1948.0  False   \n",
       "4                 207  2015-05-18 16:42:19.000000      1936.0  False   \n",
       "\n",
       "   amount_id  salary_BGN                created_on_y  \n",
       "0        441     1552.98  2015-05-18 16:42:22.000000  \n",
       "1        442       80.00  2015-05-18 16:42:22.000000  \n",
       "2        443     1827.00  2015-05-18 16:42:22.000000  \n",
       "3        444     1473.18  2015-05-18 16:42:22.000000  \n",
       "4        445       60.00  2015-05-18 16:42:22.000000  "
      ]
     },
     "execution_count": 98,
     "metadata": {},
     "output_type": "execute_result"
    }
   ],
   "source": [
    "retired_with_regular_age_salary.head()"
   ]
  },
  {
   "cell_type": "code",
   "execution_count": 99,
   "metadata": {},
   "outputs": [],
   "source": [
    "retired_with_regular_age_salary = retired_with_regular_age_salary.drop(['created_on_y', 'amount_id'], axis=1)"
   ]
  },
  {
   "cell_type": "code",
   "execution_count": 100,
   "metadata": {},
   "outputs": [],
   "source": [
    "retired_with_regular_age_salary.columns = [\"retiring_person_id\", \"created_on\", \"birth_year\", \"male\", \"salary_BGN\"]"
   ]
  },
  {
   "cell_type": "code",
   "execution_count": 101,
   "metadata": {},
   "outputs": [
    {
     "data": {
      "text/html": [
       "<div>\n",
       "<style scoped>\n",
       "    .dataframe tbody tr th:only-of-type {\n",
       "        vertical-align: middle;\n",
       "    }\n",
       "\n",
       "    .dataframe tbody tr th {\n",
       "        vertical-align: top;\n",
       "    }\n",
       "\n",
       "    .dataframe thead th {\n",
       "        text-align: right;\n",
       "    }\n",
       "</style>\n",
       "<table border=\"1\" class=\"dataframe\">\n",
       "  <thead>\n",
       "    <tr style=\"text-align: right;\">\n",
       "      <th></th>\n",
       "      <th>retiring_person_id</th>\n",
       "      <th>created_on</th>\n",
       "      <th>birth_year</th>\n",
       "      <th>male</th>\n",
       "      <th>salary_BGN</th>\n",
       "    </tr>\n",
       "  </thead>\n",
       "  <tbody>\n",
       "    <tr>\n",
       "      <th>0</th>\n",
       "      <td>203</td>\n",
       "      <td>2015-05-18 16:42:19.000000</td>\n",
       "      <td>1932.0</td>\n",
       "      <td>True</td>\n",
       "      <td>1552.98</td>\n",
       "    </tr>\n",
       "    <tr>\n",
       "      <th>1</th>\n",
       "      <td>204</td>\n",
       "      <td>2015-05-18 16:42:19.000000</td>\n",
       "      <td>1948.0</td>\n",
       "      <td>False</td>\n",
       "      <td>80.00</td>\n",
       "    </tr>\n",
       "    <tr>\n",
       "      <th>2</th>\n",
       "      <td>205</td>\n",
       "      <td>2015-05-18 16:42:19.000000</td>\n",
       "      <td>1948.0</td>\n",
       "      <td>False</td>\n",
       "      <td>1827.00</td>\n",
       "    </tr>\n",
       "    <tr>\n",
       "      <th>3</th>\n",
       "      <td>206</td>\n",
       "      <td>2015-05-18 16:42:19.000000</td>\n",
       "      <td>1948.0</td>\n",
       "      <td>False</td>\n",
       "      <td>1473.18</td>\n",
       "    </tr>\n",
       "    <tr>\n",
       "      <th>4</th>\n",
       "      <td>207</td>\n",
       "      <td>2015-05-18 16:42:19.000000</td>\n",
       "      <td>1936.0</td>\n",
       "      <td>False</td>\n",
       "      <td>60.00</td>\n",
       "    </tr>\n",
       "  </tbody>\n",
       "</table>\n",
       "</div>"
      ],
      "text/plain": [
       "   retiring_person_id                  created_on  birth_year   male  \\\n",
       "0                 203  2015-05-18 16:42:19.000000      1932.0   True   \n",
       "1                 204  2015-05-18 16:42:19.000000      1948.0  False   \n",
       "2                 205  2015-05-18 16:42:19.000000      1948.0  False   \n",
       "3                 206  2015-05-18 16:42:19.000000      1948.0  False   \n",
       "4                 207  2015-05-18 16:42:19.000000      1936.0  False   \n",
       "\n",
       "   salary_BGN  \n",
       "0     1552.98  \n",
       "1       80.00  \n",
       "2     1827.00  \n",
       "3     1473.18  \n",
       "4       60.00  "
      ]
     },
     "execution_count": 101,
     "metadata": {},
     "output_type": "execute_result"
    }
   ],
   "source": [
    "retired_with_regular_age_salary.head()"
   ]
  },
  {
   "cell_type": "code",
   "execution_count": 102,
   "metadata": {},
   "outputs": [
    {
     "data": {
      "text/html": [
       "<div>\n",
       "<style scoped>\n",
       "    .dataframe tbody tr th:only-of-type {\n",
       "        vertical-align: middle;\n",
       "    }\n",
       "\n",
       "    .dataframe tbody tr th {\n",
       "        vertical-align: top;\n",
       "    }\n",
       "\n",
       "    .dataframe thead th {\n",
       "        text-align: right;\n",
       "    }\n",
       "</style>\n",
       "<table border=\"1\" class=\"dataframe\">\n",
       "  <thead>\n",
       "    <tr style=\"text-align: right;\">\n",
       "      <th></th>\n",
       "      <th>birth_year</th>\n",
       "      <th>male</th>\n",
       "      <th>salary_BGN</th>\n",
       "    </tr>\n",
       "  </thead>\n",
       "  <tbody>\n",
       "    <tr>\n",
       "      <th>birth_year</th>\n",
       "      <td>1.000000</td>\n",
       "      <td>-0.075426</td>\n",
       "      <td>0.001322</td>\n",
       "    </tr>\n",
       "    <tr>\n",
       "      <th>male</th>\n",
       "      <td>-0.075426</td>\n",
       "      <td>1.000000</td>\n",
       "      <td>-0.024459</td>\n",
       "    </tr>\n",
       "    <tr>\n",
       "      <th>salary_BGN</th>\n",
       "      <td>0.001322</td>\n",
       "      <td>-0.024459</td>\n",
       "      <td>1.000000</td>\n",
       "    </tr>\n",
       "  </tbody>\n",
       "</table>\n",
       "</div>"
      ],
      "text/plain": [
       "            birth_year      male  salary_BGN\n",
       "birth_year    1.000000 -0.075426    0.001322\n",
       "male         -0.075426  1.000000   -0.024459\n",
       "salary_BGN    0.001322 -0.024459    1.000000"
      ]
     },
     "execution_count": 102,
     "metadata": {},
     "output_type": "execute_result"
    }
   ],
   "source": [
    "retired_with_regular_age_salary[[\"birth_year\", \"male\", \"salary_BGN\"]].corr()"
   ]
  },
  {
   "cell_type": "markdown",
   "metadata": {},
   "source": [
    "It seems there is no connection between the people's salary/income their gender or their birth year"
   ]
  },
  {
   "cell_type": "markdown",
   "metadata": {},
   "source": [
    "## Conclusions\n",
    "Taking a small sample from some retiring people in Bulgaria, which were filled on a same date in 2015 yields very interesting results. There is a normal distribution of the age of these people with mean value around 70 years old for men and 68 years old for women, which are 7 years more work time for both groups that the age needed for retiring. This fact may be due to lower labour service years or just because most of the people want to delay the moment of their retirement as much as possible. In addition, a second very small distribution of people has just reached lawful age of 18 years old - maybe people with social and/or illness pensions.\n",
    "\n",
    "There are no evidence whatsoever or even indication for connection between the people's salary and their gender, or the people's salary and their age of retirement based on the data. Maybe this fact is due to the small size of the sample."
   ]
  },
  {
   "cell_type": "markdown",
   "metadata": {},
   "source": [
    "### Resources:\n",
    "- https://anonfile.com/K73a8dzan7/minfin_leak_zip?fbclid=IwAR3AXZ3T2cRILfQQaF4Vf_NGJZ90c-qN_uSNMFW2FEPUbkwjWXsBpMlShCU pass: \"bulgaria\"\n",
    "- http://trudipravo.bg/index.php/znanie-za-vas/1053-tablitzi-za-usloviyata-za-pridobivane-pravo-na-pensiya-za-osiguritelen-stazh-i-vazrast \n",
    "- https://bg.wikipedia.org/wiki/%D0%95%D0%B4%D0%B8%D0%BD%D0%B5%D0%BD_%D0%B3%D1%80%D0%B0%D0%B6%D0%B4%D0%B0%D0%BD%D1%81%D0%BA%D0%B8_%D0%BD%D0%BE%D0%BC%D0%B5%D1%80"
   ]
  }
 ],
 "metadata": {
  "kernelspec": {
   "display_name": "Python 3",
   "language": "python",
   "name": "python3"
  },
  "language_info": {
   "codemirror_mode": {
    "name": "ipython",
    "version": 3
   },
   "file_extension": ".py",
   "mimetype": "text/x-python",
   "name": "python",
   "nbconvert_exporter": "python",
   "pygments_lexer": "ipython3",
   "version": "3.7.1"
  }
 },
 "nbformat": 4,
 "nbformat_minor": 2
}
