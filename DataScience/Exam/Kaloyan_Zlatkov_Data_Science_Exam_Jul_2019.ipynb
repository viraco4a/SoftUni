{
 "cells": [
  {
   "cell_type": "code",
   "execution_count": 1,
   "metadata": {},
   "outputs": [],
   "source": [
    "%matplotlib inline"
   ]
  },
  {
   "cell_type": "code",
   "execution_count": 2,
   "metadata": {},
   "outputs": [],
   "source": [
    "import numpy as np\n",
    "import pandas as pd\n",
    "import matplotlib.pyplot as plt\n",
    "\n",
    "from nose.tools import *\n",
    "\n",
    "from scipy.stats import ttest_ind\n",
    "\n",
    "from sklearn.preprocessing import MinMaxScaler\n",
    "from sklearn.model_selection import train_test_split\n",
    "from sklearn.linear_model import LogisticRegression"
   ]
  },
  {
   "cell_type": "markdown",
   "metadata": {},
   "source": [
    "# People's activity in Bulgaria\n",
    "\n",
    "### According to the leaked data from NAP\n",
    "\n",
    "#### By Kaloyan Zlatkov"
   ]
  },
  {
   "cell_type": "markdown",
   "metadata": {},
   "source": [
    "## Abstract\n",
    "\n",
    "TODO"
   ]
  },
  {
   "cell_type": "markdown",
   "metadata": {},
   "source": [
    "### 1) Definition of hypothesis\n",
    "\n",
    "My hypothesis is that there is some non-uniform and interesting distribution among the people, their income, their gender, their age in relation to different activities. I think that this NAP leakage is autrageous and far from funny so even though I like funny pictures and memes, I don't think that anything like this is appropriate. This data is very very sad not only because of the data itself, but also when you think that these are real people, who's private data is everywhere on the Internet. So I'm asking the reader not to distribute any private data he might find in this study. I tried to keep the dignity of the people as much as I could and hope that the reader will do the same."
   ]
  },
  {
   "cell_type": "markdown",
   "metadata": {},
   "source": [
    "### 2) Analysis of retiring people\n",
    "The law states that there are some conditions regarding the retirement rights of each person, depending on it's years of labor service, it's age and sex. Each person gets some points (the sum of his/her age and his/her labor service years) and in accordance of his/her gender he/she has rights to retire or not. Of course the points may not be enough. For example if the person is working from very early and has huge amount of labor service years, he/she might still not be liable to retire if he/she doesn't have enough age. Because of that one can assume that retirements that are too early should not be a lot and because in our poor country a lot of retired people continue to work even after retirement - there should be some shifting towared more older people, retiring at some point of time (older than those who complete the requirements of the law). So my prediction is that there will be some highly shifted gaussian distribution towards older people. \n",
    "If we take for example year 2015, according to the law, the womnen needed 95.7 points from which 60 years and 8 months age and 35 years labour years. For the men the poins are 101.7, with 63 years and 8 months age and 38 years labor years.\n",
    "\n",
    "#### 2.1) Analysis of the table with the salaries\n",
    "According to the data from NAP, on 2015-05-18, 17603 retiring people were written down in the database. Here are their montly incomes/salaries:"
   ]
  },
  {
   "cell_type": "code",
   "execution_count": 3,
   "metadata": {},
   "outputs": [],
   "source": [
    "retiring_income_data = pd.read_csv(\"data/MINFIN_BREACH/AEOI/AMOUNT.csv\")"
   ]
  },
  {
   "cell_type": "code",
   "execution_count": 4,
   "metadata": {},
   "outputs": [
    {
     "data": {
      "text/plain": [
       "(17603, 7)"
      ]
     },
     "execution_count": 4,
     "metadata": {},
     "output_type": "execute_result"
    }
   ],
   "source": [
    "retiring_income_data.shape"
   ]
  },
  {
   "cell_type": "code",
   "execution_count": 5,
   "metadata": {},
   "outputs": [
    {
     "data": {
      "text/plain": [
       "AMOUNT_ID        int64\n",
       "CURRENCY_ID      int64\n",
       "AMOUNT         float64\n",
       "CREATED_BY      object\n",
       "CREATED_ON      object\n",
       "MODIFIED_BY    float64\n",
       "MODIFIED_ON    float64\n",
       "dtype: object"
      ]
     },
     "execution_count": 5,
     "metadata": {},
     "output_type": "execute_result"
    }
   ],
   "source": [
    "retiring_income_data.dtypes"
   ]
  },
  {
   "cell_type": "code",
   "execution_count": 6,
   "metadata": {},
   "outputs": [
    {
     "data": {
      "text/html": [
       "<div>\n",
       "<style scoped>\n",
       "    .dataframe tbody tr th:only-of-type {\n",
       "        vertical-align: middle;\n",
       "    }\n",
       "\n",
       "    .dataframe tbody tr th {\n",
       "        vertical-align: top;\n",
       "    }\n",
       "\n",
       "    .dataframe thead th {\n",
       "        text-align: right;\n",
       "    }\n",
       "</style>\n",
       "<table border=\"1\" class=\"dataframe\">\n",
       "  <thead>\n",
       "    <tr style=\"text-align: right;\">\n",
       "      <th></th>\n",
       "      <th>AMOUNT_ID</th>\n",
       "      <th>CURRENCY_ID</th>\n",
       "      <th>AMOUNT</th>\n",
       "      <th>CREATED_BY</th>\n",
       "      <th>CREATED_ON</th>\n",
       "      <th>MODIFIED_BY</th>\n",
       "      <th>MODIFIED_ON</th>\n",
       "    </tr>\n",
       "  </thead>\n",
       "  <tbody>\n",
       "    <tr>\n",
       "      <th>0</th>\n",
       "      <td>441</td>\n",
       "      <td>14</td>\n",
       "      <td>1552.98</td>\n",
       "      <td>NSSI_PEN</td>\n",
       "      <td>2015-05-18 16:42:22.000000</td>\n",
       "      <td>NaN</td>\n",
       "      <td>NaN</td>\n",
       "    </tr>\n",
       "    <tr>\n",
       "      <th>1</th>\n",
       "      <td>442</td>\n",
       "      <td>14</td>\n",
       "      <td>80.00</td>\n",
       "      <td>NSSI_PEN</td>\n",
       "      <td>2015-05-18 16:42:22.000000</td>\n",
       "      <td>NaN</td>\n",
       "      <td>NaN</td>\n",
       "    </tr>\n",
       "    <tr>\n",
       "      <th>2</th>\n",
       "      <td>443</td>\n",
       "      <td>14</td>\n",
       "      <td>1827.00</td>\n",
       "      <td>NSSI_PEN</td>\n",
       "      <td>2015-05-18 16:42:22.000000</td>\n",
       "      <td>NaN</td>\n",
       "      <td>NaN</td>\n",
       "    </tr>\n",
       "    <tr>\n",
       "      <th>3</th>\n",
       "      <td>444</td>\n",
       "      <td>14</td>\n",
       "      <td>1473.18</td>\n",
       "      <td>NSSI_PEN</td>\n",
       "      <td>2015-05-18 16:42:22.000000</td>\n",
       "      <td>NaN</td>\n",
       "      <td>NaN</td>\n",
       "    </tr>\n",
       "    <tr>\n",
       "      <th>4</th>\n",
       "      <td>445</td>\n",
       "      <td>14</td>\n",
       "      <td>60.00</td>\n",
       "      <td>NSSI_PEN</td>\n",
       "      <td>2015-05-18 16:42:22.000000</td>\n",
       "      <td>NaN</td>\n",
       "      <td>NaN</td>\n",
       "    </tr>\n",
       "  </tbody>\n",
       "</table>\n",
       "</div>"
      ],
      "text/plain": [
       "   AMOUNT_ID  CURRENCY_ID   AMOUNT CREATED_BY                  CREATED_ON  \\\n",
       "0        441           14  1552.98   NSSI_PEN  2015-05-18 16:42:22.000000   \n",
       "1        442           14    80.00   NSSI_PEN  2015-05-18 16:42:22.000000   \n",
       "2        443           14  1827.00   NSSI_PEN  2015-05-18 16:42:22.000000   \n",
       "3        444           14  1473.18   NSSI_PEN  2015-05-18 16:42:22.000000   \n",
       "4        445           14    60.00   NSSI_PEN  2015-05-18 16:42:22.000000   \n",
       "\n",
       "   MODIFIED_BY  MODIFIED_ON  \n",
       "0          NaN          NaN  \n",
       "1          NaN          NaN  \n",
       "2          NaN          NaN  \n",
       "3          NaN          NaN  \n",
       "4          NaN          NaN  "
      ]
     },
     "execution_count": 6,
     "metadata": {},
     "output_type": "execute_result"
    }
   ],
   "source": [
    "retiring_income_data.head()"
   ]
  },
  {
   "cell_type": "markdown",
   "metadata": {},
   "source": [
    "From all these columns the interesting ones are: \n",
    "- AMOUNT_ID - this will be the connection between this table and the other ones, maybе getting the real names and other information about these people. I will rename it as \"amount_id\"\n",
    "- AMOUNT - it is not specified what amout that might be (as there is not column information in the leaked data obviously) but my guess is that this is the amount of monthly income (the official income, over which the pension and health payments were made). Usually this income is the last salary of the person, so I will rename it as \"salary\"\n",
    "- CURRENCY_ID - this is obviously the currency of the described salary. I will check how many currecnies are there:"
   ]
  },
  {
   "cell_type": "code",
   "execution_count": 7,
   "metadata": {},
   "outputs": [
    {
     "data": {
      "text/plain": [
       "array([14], dtype=int64)"
      ]
     },
     "execution_count": 7,
     "metadata": {},
     "output_type": "execute_result"
    }
   ],
   "source": [
    "retiring_income_data.CURRENCY_ID.unique()"
   ]
  },
  {
   "cell_type": "markdown",
   "metadata": {},
   "source": [
    "It seems that there is only one currency in this table with CURRENCY_ID == 14. The chances that this is not BGN is very low, but I will check in one of the other tables, named \"CURRENCY\":"
   ]
  },
  {
   "cell_type": "code",
   "execution_count": 8,
   "metadata": {},
   "outputs": [],
   "source": [
    "currencies_data = pd.read_csv(\"data/MINFIN_BREACH/AEOI/CURRENCY.csv\")"
   ]
  },
  {
   "cell_type": "code",
   "execution_count": 9,
   "metadata": {},
   "outputs": [
    {
     "data": {
      "text/html": [
       "<div>\n",
       "<style scoped>\n",
       "    .dataframe tbody tr th:only-of-type {\n",
       "        vertical-align: middle;\n",
       "    }\n",
       "\n",
       "    .dataframe tbody tr th {\n",
       "        vertical-align: top;\n",
       "    }\n",
       "\n",
       "    .dataframe thead th {\n",
       "        text-align: right;\n",
       "    }\n",
       "</style>\n",
       "<table border=\"1\" class=\"dataframe\">\n",
       "  <thead>\n",
       "    <tr style=\"text-align: right;\">\n",
       "      <th></th>\n",
       "      <th>CURRENCY_ID</th>\n",
       "      <th>CODE</th>\n",
       "      <th>CREATED_BY</th>\n",
       "      <th>CREATED_ON</th>\n",
       "      <th>MODIFIED_BY</th>\n",
       "      <th>MODIFIED_ON</th>\n",
       "    </tr>\n",
       "  </thead>\n",
       "  <tbody>\n",
       "    <tr>\n",
       "      <th>0</th>\n",
       "      <td>1</td>\n",
       "      <td>AED</td>\n",
       "      <td>init</td>\n",
       "      <td>2014-11-07 09:16:51.000000</td>\n",
       "      <td>init</td>\n",
       "      <td>2014-11-07 09:16:51.000000</td>\n",
       "    </tr>\n",
       "    <tr>\n",
       "      <th>1</th>\n",
       "      <td>2</td>\n",
       "      <td>AFN</td>\n",
       "      <td>init</td>\n",
       "      <td>2014-11-07 09:16:51.000000</td>\n",
       "      <td>init</td>\n",
       "      <td>2014-11-07 09:16:51.000000</td>\n",
       "    </tr>\n",
       "    <tr>\n",
       "      <th>2</th>\n",
       "      <td>3</td>\n",
       "      <td>ALL</td>\n",
       "      <td>init</td>\n",
       "      <td>2014-11-07 09:16:51.000000</td>\n",
       "      <td>init</td>\n",
       "      <td>2014-11-07 09:16:51.000000</td>\n",
       "    </tr>\n",
       "    <tr>\n",
       "      <th>3</th>\n",
       "      <td>4</td>\n",
       "      <td>AMD</td>\n",
       "      <td>init</td>\n",
       "      <td>2014-11-07 09:16:51.000000</td>\n",
       "      <td>init</td>\n",
       "      <td>2014-11-07 09:16:51.000000</td>\n",
       "    </tr>\n",
       "    <tr>\n",
       "      <th>4</th>\n",
       "      <td>5</td>\n",
       "      <td>ANG</td>\n",
       "      <td>init</td>\n",
       "      <td>2014-11-07 09:16:51.000000</td>\n",
       "      <td>init</td>\n",
       "      <td>2014-11-07 09:16:51.000000</td>\n",
       "    </tr>\n",
       "  </tbody>\n",
       "</table>\n",
       "</div>"
      ],
      "text/plain": [
       "   CURRENCY_ID CODE CREATED_BY                  CREATED_ON MODIFIED_BY  \\\n",
       "0            1  AED       init  2014-11-07 09:16:51.000000        init   \n",
       "1            2  AFN       init  2014-11-07 09:16:51.000000        init   \n",
       "2            3  ALL       init  2014-11-07 09:16:51.000000        init   \n",
       "3            4  AMD       init  2014-11-07 09:16:51.000000        init   \n",
       "4            5  ANG       init  2014-11-07 09:16:51.000000        init   \n",
       "\n",
       "                  MODIFIED_ON  \n",
       "0  2014-11-07 09:16:51.000000  \n",
       "1  2014-11-07 09:16:51.000000  \n",
       "2  2014-11-07 09:16:51.000000  \n",
       "3  2014-11-07 09:16:51.000000  \n",
       "4  2014-11-07 09:16:51.000000  "
      ]
     },
     "execution_count": 9,
     "metadata": {},
     "output_type": "execute_result"
    }
   ],
   "source": [
    "currencies_data.head()"
   ]
  },
  {
   "cell_type": "code",
   "execution_count": 10,
   "metadata": {},
   "outputs": [
    {
     "data": {
      "text/html": [
       "<div>\n",
       "<style scoped>\n",
       "    .dataframe tbody tr th:only-of-type {\n",
       "        vertical-align: middle;\n",
       "    }\n",
       "\n",
       "    .dataframe tbody tr th {\n",
       "        vertical-align: top;\n",
       "    }\n",
       "\n",
       "    .dataframe thead th {\n",
       "        text-align: right;\n",
       "    }\n",
       "</style>\n",
       "<table border=\"1\" class=\"dataframe\">\n",
       "  <thead>\n",
       "    <tr style=\"text-align: right;\">\n",
       "      <th></th>\n",
       "      <th>CURRENCY_ID</th>\n",
       "      <th>CODE</th>\n",
       "      <th>CREATED_BY</th>\n",
       "      <th>CREATED_ON</th>\n",
       "      <th>MODIFIED_BY</th>\n",
       "      <th>MODIFIED_ON</th>\n",
       "    </tr>\n",
       "  </thead>\n",
       "  <tbody>\n",
       "    <tr>\n",
       "      <th>13</th>\n",
       "      <td>14</td>\n",
       "      <td>BGN</td>\n",
       "      <td>init</td>\n",
       "      <td>2014-11-07 09:16:51.000000</td>\n",
       "      <td>init</td>\n",
       "      <td>2014-11-07 09:16:51.000000</td>\n",
       "    </tr>\n",
       "  </tbody>\n",
       "</table>\n",
       "</div>"
      ],
      "text/plain": [
       "    CURRENCY_ID CODE CREATED_BY                  CREATED_ON MODIFIED_BY  \\\n",
       "13           14  BGN       init  2014-11-07 09:16:51.000000        init   \n",
       "\n",
       "                   MODIFIED_ON  \n",
       "13  2014-11-07 09:16:51.000000  "
      ]
     },
     "execution_count": 10,
     "metadata": {},
     "output_type": "execute_result"
    }
   ],
   "source": [
    "currencies_data[currencies_data['CURRENCY_ID'] == 14]"
   ]
  },
  {
   "cell_type": "markdown",
   "metadata": {},
   "source": [
    "After I confirmed that the currency is BGN and that there aren't any other currencies, I will remove the CURRENCY_ID column and just rename the AMOUNT column \"salary_BGN\". Also the rest of the columns (CREATED_BY, CREATED_ON, MODIFIED_BY, MODIFIED_ON) are not interesting for me (the modified date is the same as the created date, the MODIFIED_BY column is full only of NaN:"
   ]
  },
  {
   "cell_type": "code",
   "execution_count": 11,
   "metadata": {},
   "outputs": [
    {
     "data": {
      "text/plain": [
       "array(['NSSI_PEN'], dtype=object)"
      ]
     },
     "execution_count": 11,
     "metadata": {},
     "output_type": "execute_result"
    }
   ],
   "source": [
    "retiring_income_data.CREATED_BY.unique()"
   ]
  },
  {
   "cell_type": "code",
   "execution_count": 12,
   "metadata": {},
   "outputs": [
    {
     "data": {
      "text/plain": [
       "array([nan])"
      ]
     },
     "execution_count": 12,
     "metadata": {},
     "output_type": "execute_result"
    }
   ],
   "source": [
    "retiring_income_data.MODIFIED_BY.unique()"
   ]
  },
  {
   "cell_type": "code",
   "execution_count": 13,
   "metadata": {},
   "outputs": [],
   "source": [
    "retiring_income_data_renamed = retiring_income_data.drop(['CURRENCY_ID', 'CREATED_BY', 'MODIFIED_BY', 'MODIFIED_ON'], axis=1)"
   ]
  },
  {
   "cell_type": "code",
   "execution_count": 14,
   "metadata": {},
   "outputs": [],
   "source": [
    "retiring_income_data_renamed.columns = [\"amount_id\", \"salary_BGN\", \"created_on\"]"
   ]
  },
  {
   "cell_type": "code",
   "execution_count": 15,
   "metadata": {},
   "outputs": [
    {
     "data": {
      "text/html": [
       "<div>\n",
       "<style scoped>\n",
       "    .dataframe tbody tr th:only-of-type {\n",
       "        vertical-align: middle;\n",
       "    }\n",
       "\n",
       "    .dataframe tbody tr th {\n",
       "        vertical-align: top;\n",
       "    }\n",
       "\n",
       "    .dataframe thead th {\n",
       "        text-align: right;\n",
       "    }\n",
       "</style>\n",
       "<table border=\"1\" class=\"dataframe\">\n",
       "  <thead>\n",
       "    <tr style=\"text-align: right;\">\n",
       "      <th></th>\n",
       "      <th>amount_id</th>\n",
       "      <th>salary_BGN</th>\n",
       "      <th>created_on</th>\n",
       "    </tr>\n",
       "  </thead>\n",
       "  <tbody>\n",
       "    <tr>\n",
       "      <th>0</th>\n",
       "      <td>441</td>\n",
       "      <td>1552.98</td>\n",
       "      <td>2015-05-18 16:42:22.000000</td>\n",
       "    </tr>\n",
       "    <tr>\n",
       "      <th>1</th>\n",
       "      <td>442</td>\n",
       "      <td>80.00</td>\n",
       "      <td>2015-05-18 16:42:22.000000</td>\n",
       "    </tr>\n",
       "    <tr>\n",
       "      <th>2</th>\n",
       "      <td>443</td>\n",
       "      <td>1827.00</td>\n",
       "      <td>2015-05-18 16:42:22.000000</td>\n",
       "    </tr>\n",
       "    <tr>\n",
       "      <th>3</th>\n",
       "      <td>444</td>\n",
       "      <td>1473.18</td>\n",
       "      <td>2015-05-18 16:42:22.000000</td>\n",
       "    </tr>\n",
       "    <tr>\n",
       "      <th>4</th>\n",
       "      <td>445</td>\n",
       "      <td>60.00</td>\n",
       "      <td>2015-05-18 16:42:22.000000</td>\n",
       "    </tr>\n",
       "  </tbody>\n",
       "</table>\n",
       "</div>"
      ],
      "text/plain": [
       "   amount_id  salary_BGN                  created_on\n",
       "0        441     1552.98  2015-05-18 16:42:22.000000\n",
       "1        442       80.00  2015-05-18 16:42:22.000000\n",
       "2        443     1827.00  2015-05-18 16:42:22.000000\n",
       "3        444     1473.18  2015-05-18 16:42:22.000000\n",
       "4        445       60.00  2015-05-18 16:42:22.000000"
      ]
     },
     "execution_count": 15,
     "metadata": {},
     "output_type": "execute_result"
    }
   ],
   "source": [
    "retiring_income_data_renamed.head()"
   ]
  },
  {
   "cell_type": "code",
   "execution_count": 16,
   "metadata": {},
   "outputs": [
    {
     "data": {
      "text/plain": [
       "amount_id     False\n",
       "salary_BGN    False\n",
       "created_on    False\n",
       "dtype: bool"
      ]
     },
     "execution_count": 16,
     "metadata": {},
     "output_type": "execute_result"
    }
   ],
   "source": [
    "retiring_income_data_renamed.isna().any()"
   ]
  },
  {
   "cell_type": "code",
   "execution_count": 17,
   "metadata": {},
   "outputs": [
    {
     "data": {
      "image/png": "[encoded data removed]",
      "text/plain": [
       "<Figure size 432x288 with 1 Axes>"
      ]
     },
     "metadata": {
      "needs_background": "light"
     },
     "output_type": "display_data"
    }
   ],
   "source": [
    "plt.hist(retiring_income_data_renamed.salary_BGN, bins = 20)\n",
    "plt.show()"
   ]
  },
  {
   "cell_type": "markdown",
   "metadata": {},
   "source": [
    "It is clear and expected - that the income of the retiring people in Bulgaria is very low and that the poor people are majority :( \n",
    "\n",
    "OK now I will leave this table and take a look at the next one"
   ]
  },
  {
   "cell_type": "markdown",
   "metadata": {},
   "source": [
    "#### 2. 2) Analysis of the table with the EGNs\n",
    "According to NAP the same 17603 retired people have the following additional data:"
   ]
  },
  {
   "cell_type": "code",
   "execution_count": 18,
   "metadata": {},
   "outputs": [],
   "source": [
    "pension_recipients = pd.read_csv(\"data/MINFIN_BREACH/AEOI/PEN_RECIPIENT.csv\")"
   ]
  },
  {
   "cell_type": "code",
   "execution_count": 19,
   "metadata": {},
   "outputs": [
    {
     "data": {
      "text/plain": [
       "(17603, 12)"
      ]
     },
     "execution_count": 19,
     "metadata": {},
     "output_type": "execute_result"
    }
   ],
   "source": [
    "pension_recipients.shape"
   ]
  },
  {
   "cell_type": "code",
   "execution_count": 20,
   "metadata": {},
   "outputs": [
    {
     "data": {
      "text/html": [
       "<div>\n",
       "<style scoped>\n",
       "    .dataframe tbody tr th:only-of-type {\n",
       "        vertical-align: middle;\n",
       "    }\n",
       "\n",
       "    .dataframe tbody tr th {\n",
       "        vertical-align: top;\n",
       "    }\n",
       "\n",
       "    .dataframe thead th {\n",
       "        text-align: right;\n",
       "    }\n",
       "</style>\n",
       "<table border=\"1\" class=\"dataframe\">\n",
       "  <thead>\n",
       "    <tr style=\"text-align: right;\">\n",
       "      <th></th>\n",
       "      <th>DOCREFID</th>\n",
       "      <th>MESSAGE_ID</th>\n",
       "      <th>CORRDOCREFID</th>\n",
       "      <th>PEN_RECIPIENT_ID</th>\n",
       "      <th>NATURAL_PERSON_ID</th>\n",
       "      <th>REPRESENTATIVE_ID</th>\n",
       "      <th>CREATED_BY</th>\n",
       "      <th>CREATED_ON</th>\n",
       "      <th>MODIFIED_BY</th>\n",
       "      <th>MODIFIED_ON</th>\n",
       "      <th>RECIPIENT_NUMBER</th>\n",
       "      <th>INFORMATION_STATUS</th>\n",
       "    </tr>\n",
       "  </thead>\n",
       "  <tbody>\n",
       "    <tr>\n",
       "      <th>0</th>\n",
       "      <td>PEN_NSSI2014-12-31536</td>\n",
       "      <td>203</td>\n",
       "      <td>NaN</td>\n",
       "      <td>203</td>\n",
       "      <td>203</td>\n",
       "      <td>NaN</td>\n",
       "      <td>NSSI_PEN</td>\n",
       "      <td>2015-05-18 16:42:19.000000</td>\n",
       "      <td>NaN</td>\n",
       "      <td>NaN</td>\n",
       "      <td>3201034369</td>\n",
       "      <td>new</td>\n",
       "    </tr>\n",
       "    <tr>\n",
       "      <th>1</th>\n",
       "      <td>PEN_NSSI2014-12-31537</td>\n",
       "      <td>204</td>\n",
       "      <td>NaN</td>\n",
       "      <td>204</td>\n",
       "      <td>204</td>\n",
       "      <td>NaN</td>\n",
       "      <td>NSSI_PEN</td>\n",
       "      <td>2015-05-18 16:42:19.000000</td>\n",
       "      <td>NaN</td>\n",
       "      <td>NaN</td>\n",
       "      <td>4807314376</td>\n",
       "      <td>new</td>\n",
       "    </tr>\n",
       "    <tr>\n",
       "      <th>2</th>\n",
       "      <td>PEN_NSSI2014-12-31538</td>\n",
       "      <td>205</td>\n",
       "      <td>NaN</td>\n",
       "      <td>205</td>\n",
       "      <td>205</td>\n",
       "      <td>NaN</td>\n",
       "      <td>NSSI_PEN</td>\n",
       "      <td>2015-05-18 16:42:19.000000</td>\n",
       "      <td>NaN</td>\n",
       "      <td>NaN</td>\n",
       "      <td>4807314376</td>\n",
       "      <td>new</td>\n",
       "    </tr>\n",
       "    <tr>\n",
       "      <th>3</th>\n",
       "      <td>PEN_NSSI2014-12-31539</td>\n",
       "      <td>206</td>\n",
       "      <td>NaN</td>\n",
       "      <td>206</td>\n",
       "      <td>206</td>\n",
       "      <td>NaN</td>\n",
       "      <td>NSSI_PEN</td>\n",
       "      <td>2015-05-18 16:42:19.000000</td>\n",
       "      <td>NaN</td>\n",
       "      <td>NaN</td>\n",
       "      <td>4807314376</td>\n",
       "      <td>new</td>\n",
       "    </tr>\n",
       "    <tr>\n",
       "      <th>4</th>\n",
       "      <td>PEN_NSSI2014-12-31540</td>\n",
       "      <td>207</td>\n",
       "      <td>NaN</td>\n",
       "      <td>207</td>\n",
       "      <td>207</td>\n",
       "      <td>NaN</td>\n",
       "      <td>NSSI_PEN</td>\n",
       "      <td>2015-05-18 16:42:19.000000</td>\n",
       "      <td>NaN</td>\n",
       "      <td>NaN</td>\n",
       "      <td>3606184474</td>\n",
       "      <td>new</td>\n",
       "    </tr>\n",
       "  </tbody>\n",
       "</table>\n",
       "</div>"
      ],
      "text/plain": [
       "                DOCREFID  MESSAGE_ID  CORRDOCREFID  PEN_RECIPIENT_ID  \\\n",
       "0  PEN_NSSI2014-12-31536         203           NaN               203   \n",
       "1  PEN_NSSI2014-12-31537         204           NaN               204   \n",
       "2  PEN_NSSI2014-12-31538         205           NaN               205   \n",
       "3  PEN_NSSI2014-12-31539         206           NaN               206   \n",
       "4  PEN_NSSI2014-12-31540         207           NaN               207   \n",
       "\n",
       "   NATURAL_PERSON_ID  REPRESENTATIVE_ID CREATED_BY  \\\n",
       "0                203                NaN   NSSI_PEN   \n",
       "1                204                NaN   NSSI_PEN   \n",
       "2                205                NaN   NSSI_PEN   \n",
       "3                206                NaN   NSSI_PEN   \n",
       "4                207                NaN   NSSI_PEN   \n",
       "\n",
       "                   CREATED_ON  MODIFIED_BY  MODIFIED_ON  RECIPIENT_NUMBER  \\\n",
       "0  2015-05-18 16:42:19.000000          NaN          NaN        3201034369   \n",
       "1  2015-05-18 16:42:19.000000          NaN          NaN        4807314376   \n",
       "2  2015-05-18 16:42:19.000000          NaN          NaN        4807314376   \n",
       "3  2015-05-18 16:42:19.000000          NaN          NaN        4807314376   \n",
       "4  2015-05-18 16:42:19.000000          NaN          NaN        3606184474   \n",
       "\n",
       "  INFORMATION_STATUS  \n",
       "0                new  \n",
       "1                new  \n",
       "2                new  \n",
       "3                new  \n",
       "4                new  "
      ]
     },
     "execution_count": 20,
     "metadata": {},
     "output_type": "execute_result"
    }
   ],
   "source": [
    "pension_recipients.head()"
   ]
  },
  {
   "cell_type": "code",
   "execution_count": 21,
   "metadata": {},
   "outputs": [
    {
     "data": {
      "text/plain": [
       "DOCREFID               object\n",
       "MESSAGE_ID              int64\n",
       "CORRDOCREFID          float64\n",
       "PEN_RECIPIENT_ID        int64\n",
       "NATURAL_PERSON_ID       int64\n",
       "REPRESENTATIVE_ID     float64\n",
       "CREATED_BY             object\n",
       "CREATED_ON             object\n",
       "MODIFIED_BY           float64\n",
       "MODIFIED_ON           float64\n",
       "RECIPIENT_NUMBER        int64\n",
       "INFORMATION_STATUS     object\n",
       "dtype: object"
      ]
     },
     "execution_count": 21,
     "metadata": {},
     "output_type": "execute_result"
    }
   ],
   "source": [
    "pension_recipients.dtypes"
   ]
  },
  {
   "cell_type": "code",
   "execution_count": 22,
   "metadata": {},
   "outputs": [
    {
     "data": {
      "text/plain": [
       "DOCREFID              False\n",
       "MESSAGE_ID            False\n",
       "CORRDOCREFID           True\n",
       "PEN_RECIPIENT_ID      False\n",
       "NATURAL_PERSON_ID     False\n",
       "REPRESENTATIVE_ID      True\n",
       "CREATED_BY            False\n",
       "CREATED_ON            False\n",
       "MODIFIED_BY            True\n",
       "MODIFIED_ON            True\n",
       "RECIPIENT_NUMBER      False\n",
       "INFORMATION_STATUS    False\n",
       "dtype: bool"
      ]
     },
     "execution_count": 22,
     "metadata": {},
     "output_type": "execute_result"
    }
   ],
   "source": [
    "pension_recipients.isna().any()"
   ]
  },
  {
   "cell_type": "code",
   "execution_count": 23,
   "metadata": {},
   "outputs": [
    {
     "data": {
      "text/plain": [
       "array([nan])"
      ]
     },
     "execution_count": 23,
     "metadata": {},
     "output_type": "execute_result"
    }
   ],
   "source": [
    "pension_recipients.CORRDOCREFID.unique()"
   ]
  },
  {
   "cell_type": "code",
   "execution_count": 24,
   "metadata": {},
   "outputs": [
    {
     "data": {
      "text/plain": [
       "array([nan])"
      ]
     },
     "execution_count": 24,
     "metadata": {},
     "output_type": "execute_result"
    }
   ],
   "source": [
    "pension_recipients.REPRESENTATIVE_ID.unique()"
   ]
  },
  {
   "cell_type": "code",
   "execution_count": 25,
   "metadata": {},
   "outputs": [
    {
     "data": {
      "text/plain": [
       "array([nan])"
      ]
     },
     "execution_count": 25,
     "metadata": {},
     "output_type": "execute_result"
    }
   ],
   "source": [
    "pension_recipients.MODIFIED_BY.unique()"
   ]
  },
  {
   "cell_type": "code",
   "execution_count": 26,
   "metadata": {},
   "outputs": [
    {
     "data": {
      "text/plain": [
       "array([nan])"
      ]
     },
     "execution_count": 26,
     "metadata": {},
     "output_type": "execute_result"
    }
   ],
   "source": [
    "pension_recipients.MODIFIED_ON.unique()"
   ]
  },
  {
   "cell_type": "code",
   "execution_count": 27,
   "metadata": {},
   "outputs": [
    {
     "data": {
      "text/plain": [
       "array(['new'], dtype=object)"
      ]
     },
     "execution_count": 27,
     "metadata": {},
     "output_type": "execute_result"
    }
   ],
   "source": [
    "pension_recipients.INFORMATION_STATUS.unique()"
   ]
  },
  {
   "cell_type": "code",
   "execution_count": 28,
   "metadata": {},
   "outputs": [
    {
     "data": {
      "text/plain": [
       "array(['NSSI_PEN'], dtype=object)"
      ]
     },
     "execution_count": 28,
     "metadata": {},
     "output_type": "execute_result"
    }
   ],
   "source": [
    "pension_recipients.CREATED_BY.unique()"
   ]
  },
  {
   "cell_type": "markdown",
   "metadata": {},
   "source": [
    "It seems that a lof of the columns are either full with NaN values only or with just a single value which is not relevant to our study. Also I will not use the column DOCREFID as I don't have access to the docs send. Also the columns MESSAGE_ID, PEN_RECIPIENT_ID and NATURAL_PERSON_ID are with the same value and can be combined into one feature:"
   ]
  },
  {
   "cell_type": "code",
   "execution_count": 29,
   "metadata": {},
   "outputs": [
    {
     "data": {
      "image/png": "[encoded data removed]",
      "text/plain": [
       "<Figure size 432x288 with 1 Axes>"
      ]
     },
     "metadata": {
      "needs_background": "light"
     },
     "output_type": "display_data"
    }
   ],
   "source": [
    "plt.plot(pension_recipients.NATURAL_PERSON_ID, pension_recipients.REPRESENTATIVE_ID, pension_recipients.MESSAGE_ID)\n",
    "plt.title(\"Checking if there are any differences between the 3 columns\")\n",
    "plt.xlabel(\"person_id\")\n",
    "plt.ylabel(\"person_id\")\n",
    "plt.show()"
   ]
  },
  {
   "cell_type": "code",
   "execution_count": 30,
   "metadata": {},
   "outputs": [],
   "source": [
    "pension_recipients_renamed = pension_recipients.drop(['MESSAGE_ID', 'DOCREFID', 'CORRDOCREFID', 'NATURAL_PERSON_ID', 'REPRESENTATIVE_ID', 'CREATED_BY', 'MODIFIED_BY', 'MODIFIED_ON', 'INFORMATION_STATUS'], axis=1)"
   ]
  },
  {
   "cell_type": "code",
   "execution_count": 31,
   "metadata": {},
   "outputs": [
    {
     "data": {
      "text/plain": [
       "Index(['PEN_RECIPIENT_ID', 'CREATED_ON', 'RECIPIENT_NUMBER'], dtype='object')"
      ]
     },
     "execution_count": 31,
     "metadata": {},
     "output_type": "execute_result"
    }
   ],
   "source": [
    "pension_recipients_renamed.columns"
   ]
  },
  {
   "cell_type": "code",
   "execution_count": 32,
   "metadata": {},
   "outputs": [],
   "source": [
    "pension_recipients_renamed.columns = [\"retiring_person_id\", \"created_on\", \"EGN\"]"
   ]
  },
  {
   "cell_type": "code",
   "execution_count": 33,
   "metadata": {},
   "outputs": [
    {
     "data": {
      "text/html": [
       "<div>\n",
       "<style scoped>\n",
       "    .dataframe tbody tr th:only-of-type {\n",
       "        vertical-align: middle;\n",
       "    }\n",
       "\n",
       "    .dataframe tbody tr th {\n",
       "        vertical-align: top;\n",
       "    }\n",
       "\n",
       "    .dataframe thead th {\n",
       "        text-align: right;\n",
       "    }\n",
       "</style>\n",
       "<table border=\"1\" class=\"dataframe\">\n",
       "  <thead>\n",
       "    <tr style=\"text-align: right;\">\n",
       "      <th></th>\n",
       "      <th>retiring_person_id</th>\n",
       "      <th>created_on</th>\n",
       "      <th>EGN</th>\n",
       "    </tr>\n",
       "  </thead>\n",
       "  <tbody>\n",
       "    <tr>\n",
       "      <th>0</th>\n",
       "      <td>203</td>\n",
       "      <td>2015-05-18 16:42:19.000000</td>\n",
       "      <td>3201034369</td>\n",
       "    </tr>\n",
       "    <tr>\n",
       "      <th>1</th>\n",
       "      <td>204</td>\n",
       "      <td>2015-05-18 16:42:19.000000</td>\n",
       "      <td>4807314376</td>\n",
       "    </tr>\n",
       "    <tr>\n",
       "      <th>2</th>\n",
       "      <td>205</td>\n",
       "      <td>2015-05-18 16:42:19.000000</td>\n",
       "      <td>4807314376</td>\n",
       "    </tr>\n",
       "    <tr>\n",
       "      <th>3</th>\n",
       "      <td>206</td>\n",
       "      <td>2015-05-18 16:42:19.000000</td>\n",
       "      <td>4807314376</td>\n",
       "    </tr>\n",
       "    <tr>\n",
       "      <th>4</th>\n",
       "      <td>207</td>\n",
       "      <td>2015-05-18 16:42:19.000000</td>\n",
       "      <td>3606184474</td>\n",
       "    </tr>\n",
       "  </tbody>\n",
       "</table>\n",
       "</div>"
      ],
      "text/plain": [
       "   retiring_person_id                  created_on         EGN\n",
       "0                 203  2015-05-18 16:42:19.000000  3201034369\n",
       "1                 204  2015-05-18 16:42:19.000000  4807314376\n",
       "2                 205  2015-05-18 16:42:19.000000  4807314376\n",
       "3                 206  2015-05-18 16:42:19.000000  4807314376\n",
       "4                 207  2015-05-18 16:42:19.000000  3606184474"
      ]
     },
     "execution_count": 33,
     "metadata": {},
     "output_type": "execute_result"
    }
   ],
   "source": [
    "pension_recipients_renamed.head()"
   ]
  },
  {
   "cell_type": "markdown",
   "metadata": {},
   "source": [
    "According to the laws and rules in Bulgaria regarding the citizen's unique id number (the so called EGN) the numbers are formulated like this:\n",
    "- the first 2 digits are the year of birth. Both 1900 and 2000 are with digits 00\n",
    "- the 3rd and 4th digits are the month of birth. If you're born before 1st of January 1900, the number 20 is added to your month digits (i.e. if you're born on April 1890, you get 9025 as starting 4 digits of your EGN). If you're born after 31th of Deceber 1999, the number 40 is added to your month digits (i.e. if you're born on April 2008, you get 0845 as starting 4 digits of your EGN))\n",
    "- the 5th and the 6th digits are the day of birth.\n",
    "- the 7th, 8th and 9th digits are holding information about the region in Bulgaria where the birth took place. The 7th and the 8th digits are randomly generated and the 9th digit is even for boys and odd for girls.\n",
    "- the last 10th number is \"control number\" and is calculated following this algorithm:\n",
    "    - there is a weighted number for each 9 positions previously explained. Each of this weighted number is multiplied with the number of a concrete person (on the concrete positions). The result is divided by 11 and the remainder is taken (like n % 11 in most coding languages). If the result is < 10, it is taken as a control number, otherwise the number 0 is taken. Because I'm working with real people's data and EGN I feel morally obligated to test and demonstrate this number with my own EGN, which is 8504027065:\n",
    "\n",
    "| Position | Weight | My EGN numbers | Multiplication result |\n",
    "|----------|--------|----------------|-----------------------|\n",
    "| 1        | 2      | 8              | 16                    |\n",
    "| 2        | 4      | 5              | 20                    |\n",
    "| 3        | 8      | 0              | 0                     |\n",
    "| 4        | 5      | 4              | 20                    |\n",
    "| 5        | 10     | 0              | 0                     |\n",
    "| 6        | 9      | 2              | 18                    |\n",
    "| 7        | 7      | 7              | 49                    |\n",
    "| 8        | 3      | 0              | 0                     |\n",
    "| 9        | 6      | 6              | 36                    |\n",
    "\n",
    "        The sum is 159 and:"
   ]
  },
  {
   "cell_type": "code",
   "execution_count": 34,
   "metadata": {},
   "outputs": [
    {
     "data": {
      "text/plain": [
       "5"
      ]
     },
     "execution_count": 34,
     "metadata": {},
     "output_type": "execute_result"
    }
   ],
   "source": [
    "159 % 11"
   ]
  },
  {
   "cell_type": "markdown",
   "metadata": {},
   "source": [
    "And it turnes out that my EGN in relation to this algorithm is correct, thanks god! Also there are strange EGN values as min and max. Maybe the max value is for some kid with health problems that gets some pension - I don't have any  other explanation. Regarding the min value - it is some mistake in my opinion - there cannot be 6-digit EGNs:"
   ]
  },
  {
   "cell_type": "code",
   "execution_count": 35,
   "metadata": {},
   "outputs": [
    {
     "data": {
      "text/plain": [
       "9911264386"
      ]
     },
     "execution_count": 35,
     "metadata": {},
     "output_type": "execute_result"
    }
   ],
   "source": [
    "pension_recipients_renamed.EGN.max()"
   ]
  },
  {
   "cell_type": "code",
   "execution_count": 36,
   "metadata": {},
   "outputs": [
    {
     "data": {
      "text/plain": [
       "171171"
      ]
     },
     "execution_count": 36,
     "metadata": {},
     "output_type": "execute_result"
    }
   ],
   "source": [
    "pension_recipients_renamed.EGN.min()"
   ]
  },
  {
   "cell_type": "code",
   "execution_count": 37,
   "metadata": {},
   "outputs": [
    {
     "data": {
      "text/plain": [
       "4600648945.152133"
      ]
     },
     "execution_count": 37,
     "metadata": {},
     "output_type": "execute_result"
    }
   ],
   "source": [
    "pension_recipients_renamed.EGN.mean()"
   ]
  },
  {
   "cell_type": "code",
   "execution_count": 38,
   "metadata": {},
   "outputs": [
    {
     "data": {
      "text/plain": [
       "4610176249.0"
      ]
     },
     "execution_count": 38,
     "metadata": {},
     "output_type": "execute_result"
    }
   ],
   "source": [
    "pension_recipients_renamed.EGN.median()"
   ]
  },
  {
   "cell_type": "code",
   "execution_count": 39,
   "metadata": {},
   "outputs": [
    {
     "data": {
      "text/plain": [
       "0    4001160079\n",
       "dtype: int64"
      ]
     },
     "execution_count": 39,
     "metadata": {},
     "output_type": "execute_result"
    }
   ],
   "source": [
    "pension_recipients_renamed.EGN.mode()"
   ]
  },
  {
   "cell_type": "code",
   "execution_count": 40,
   "metadata": {},
   "outputs": [
    {
     "data": {
      "text/plain": [
       "0.5181221263498235"
      ]
     },
     "execution_count": 40,
     "metadata": {},
     "output_type": "execute_result"
    }
   ],
   "source": [
    "pension_recipients_renamed.EGN.skew()"
   ]
  },
  {
   "cell_type": "code",
   "execution_count": 41,
   "metadata": {},
   "outputs": [],
   "source": [
    "def show_histogram(dataframe, column, binZ):\n",
    "    plt.figure(figsize = (12, 6))\n",
    "    plt.hist(dataframe[column], bins = binZ)\n",
    "    plt.title(\"{} distribution amongst the retired people on 18.05.2015\".format(column))\n",
    "    plt.xlabel(\"{} as a real number\".format(column))\n",
    "    plt.ylabel(\"Count\")\n",
    "    plt.show()"
   ]
  },
  {
   "cell_type": "code",
   "execution_count": 42,
   "metadata": {},
   "outputs": [
    {
     "data": {
      "image/png": "[encoded data removed]",
      "text/plain": [
       "<Figure size 864x432 with 1 Axes>"
      ]
     },
     "metadata": {
      "needs_background": "light"
     },
     "output_type": "display_data"
    }
   ],
   "source": [
    "show_histogram(pension_recipients_renamed, \"EGN\", 100)"
   ]
  },
  {
   "cell_type": "markdown",
   "metadata": {},
   "source": [
    "The results are very interesting for me.\n",
    "- First: there are obviously more wrong data in the left part of the distribution (EGNs with number of digits < 10) I will try to filter them\n",
    "- Second: there are some pentions for very young people (with EGN starting with 90) - maybe I have to make firther investigation on that fact\n",
    "- Thired: there is very small skew and this distribution is very close to normal distribution.\n",
    "- Fourth: I never thought before but actually the left shift is very logical. The people to the right are maybe people from category 1 and 2 that can retire at much younger age. There are some but not so far away. On the left side however there are much more people. This means that people, much more older than 60/63 years old have made a decision for late retirement (later than their age requirement). This could be because they were missing points (they had the age but were missing the labor service years) OR they have the points and everything but just decided not to retire and continue working for much higher income. We can check this second theory by taking a look at the income from the first table and making connection between the two tables.\n",
    "But before mixing tables I'll try to extract the gender and make some function for birth year extraction as well as it is the most relevant for me. I plan to ignore the rest of the EGN data later on."
   ]
  },
  {
   "cell_type": "code",
   "execution_count": 43,
   "metadata": {},
   "outputs": [],
   "source": [
    "MINIMUM_EGN_VALUE = 1000000000"
   ]
  },
  {
   "cell_type": "code",
   "execution_count": 44,
   "metadata": {},
   "outputs": [],
   "source": [
    "pension_recipients_filtered = pension_recipients_renamed.loc[pension_recipients_renamed.EGN >= MINIMUM_EGN_VALUE]"
   ]
  },
  {
   "cell_type": "code",
   "execution_count": 45,
   "metadata": {},
   "outputs": [
    {
     "data": {
      "text/plain": [
       "(17603, 3)"
      ]
     },
     "execution_count": 45,
     "metadata": {},
     "output_type": "execute_result"
    }
   ],
   "source": [
    "pension_recipients_renamed.shape"
   ]
  },
  {
   "cell_type": "code",
   "execution_count": 46,
   "metadata": {},
   "outputs": [
    {
     "data": {
      "text/plain": [
       "(17475, 3)"
      ]
     },
     "execution_count": 46,
     "metadata": {},
     "output_type": "execute_result"
    }
   ],
   "source": [
    "pension_recipients_filtered.shape"
   ]
  },
  {
   "cell_type": "code",
   "execution_count": 47,
   "metadata": {},
   "outputs": [
    {
     "data": {
      "image/png": "[encoded data removed]",
      "text/plain": [
       "<Figure size 864x432 with 1 Axes>"
      ]
     },
     "metadata": {
      "needs_background": "light"
     },
     "output_type": "display_data"
    }
   ],
   "source": [
    "show_histogram(pension_recipients_filtered, \"EGN\", 90)"
   ]
  },
  {
   "cell_type": "code",
   "execution_count": 48,
   "metadata": {},
   "outputs": [
    {
     "name": "stdout",
     "output_type": "stream",
     "text": [
      "The deleted data by filtered wrong EGNs is 0.73%\n"
     ]
    }
   ],
   "source": [
    "filtered_data = 100 * (pension_recipients_renamed.shape[0] - pension_recipients_filtered.shape[0]) / pension_recipients_renamed.shape[0]\n",
    "print(\"The deleted data by filtered wrong EGNs is {:.2f}%\".format(filtered_data))"
   ]
  },
  {
   "cell_type": "markdown",
   "metadata": {},
   "source": [
    "Ok, after filtering the wrong data we can take a closer look at the younger people (I will take the threshold 80's because this means 35 years in 2015, maybe reasonable for some miners or other people with category 1):"
   ]
  },
  {
   "cell_type": "code",
   "execution_count": 49,
   "metadata": {},
   "outputs": [],
   "source": [
    "THRESHOLD_FOR_RIGHT_OUTLIERS = 8000000000\n",
    "young_retired_people = pension_recipients_filtered[pension_recipients_filtered.EGN > THRESHOLD_FOR_RIGHT_OUTLIERS]\n",
    "retired_with_regular_age = pension_recipients_filtered[pension_recipients_filtered.EGN <= THRESHOLD_FOR_RIGHT_OUTLIERS]"
   ]
  },
  {
   "cell_type": "code",
   "execution_count": 50,
   "metadata": {},
   "outputs": [
    {
     "data": {
      "image/png": "[encoded data removed]",
      "text/plain": [
       "<Figure size 864x432 with 1 Axes>"
      ]
     },
     "metadata": {
      "needs_background": "light"
     },
     "output_type": "display_data"
    }
   ],
   "source": [
    "show_histogram(young_retired_people, \"EGN\", 'fd')"
   ]
  },
  {
   "cell_type": "code",
   "execution_count": 51,
   "metadata": {},
   "outputs": [
    {
     "data": {
      "text/plain": [
       "(128, 3)"
      ]
     },
     "execution_count": 51,
     "metadata": {},
     "output_type": "execute_result"
    }
   ],
   "source": [
    "pension_recipients_renamed[pension_recipients_renamed.EGN <= MINIMUM_EGN_VALUE].shape"
   ]
  },
  {
   "cell_type": "markdown",
   "metadata": {},
   "source": [
    "So my theory is that these 128 entries with EGN with number of digits < 10 are not incorrect, but are rather with leading zeroes (and from NAP did not take adequate decision making the EGN values int64 and losing these leading digits). So I will try to modify the EGN column by leaving only years"
   ]
  },
  {
   "cell_type": "code",
   "execution_count": 52,
   "metadata": {},
   "outputs": [],
   "source": [
    "def get_year_XX_century(EGN):\n",
    "    year = 1900 + np.floor(EGN / 100000000)\n",
    "    return year"
   ]
  },
  {
   "cell_type": "code",
   "execution_count": 53,
   "metadata": {},
   "outputs": [],
   "source": [
    "def get_year_XIX_century(EGN):\n",
    "    year = 1800 + np.floor(EGN / 100000000)\n",
    "    return year"
   ]
  },
  {
   "cell_type": "code",
   "execution_count": 54,
   "metadata": {},
   "outputs": [],
   "source": [
    "def get_year_XXI_century(EGN):\n",
    "    year = 2000 + np.floor(EGN / 100000000)\n",
    "    return year"
   ]
  },
  {
   "cell_type": "code",
   "execution_count": 55,
   "metadata": {},
   "outputs": [],
   "source": [
    "def zero_year_correction(EGN, zeroes, century):\n",
    "    if zeroes == 1:\n",
    "        return century + np.floor(EGN / 100000000)\n",
    "    elif zeroes == 2:\n",
    "        return century + np.floor(EGN / 10000000)\n",
    "    else:\n",
    "        return century + np.floor(EGN / 1000000)"
   ]
  },
  {
   "cell_type": "code",
   "execution_count": 56,
   "metadata": {},
   "outputs": [],
   "source": [
    "def zero_year_check(EGN, century):\n",
    "    if EGN < 10000000:\n",
    "        return zero_year_correction(EGN, 3, century)\n",
    "    elif EGN < 100000000:\n",
    "        return zero_year_correction(EGN, 2, century)\n",
    "    else:\n",
    "        return zero_year_correction(EGN, 1, century)"
   ]
  },
  {
   "cell_type": "code",
   "execution_count": 57,
   "metadata": {},
   "outputs": [],
   "source": [
    "def get_year_from_EGN(EGN):\n",
    "    months = np.floor(EGN / 1000000) % 100\n",
    "    if EGN >= 1000000000:\n",
    "        if months < 20:\n",
    "            year = get_year_XX_century(EGN)\n",
    "        elif months > 40:\n",
    "            year = get_year_XXI_century(EGN)\n",
    "        else:\n",
    "            year = get_year_XIX_century(EGN)\n",
    "    else:\n",
    "        if months < 20:\n",
    "            year = zero_year_check(EGN, 1900)\n",
    "        elif months > 40:\n",
    "            year = zero_year_check(EGN, 2000)\n",
    "        else:\n",
    "            year = zero_year_check(EGN, 1800)\n",
    "    return year"
   ]
  },
  {
   "cell_type": "code",
   "execution_count": 63,
   "metadata": {},
   "outputs": [
    {
     "ename": "AssertionError",
     "evalue": "1900 != 1901.0",
     "output_type": "error",
     "traceback": [
      "\u001b[1;31m---------------------------------------------------------------------------\u001b[0m",
      "\u001b[1;31mAssertionError\u001b[0m                            Traceback (most recent call last)",
      "\u001b[1;32m<ipython-input-63-ce7165a5c29a>\u001b[0m in \u001b[0;36m<module>\u001b[1;34m\u001b[0m\n\u001b[0;32m      5\u001b[0m \u001b[0massert_equal\u001b[0m\u001b[1;33m(\u001b[0m\u001b[1;36m1805\u001b[0m\u001b[1;33m,\u001b[0m \u001b[0mget_year_from_EGN\u001b[0m\u001b[1;33m(\u001b[0m\u001b[1;36m530027065\u001b[0m\u001b[1;33m)\u001b[0m\u001b[1;33m)\u001b[0m\u001b[1;33m\u001b[0m\u001b[1;33m\u001b[0m\u001b[0m\n\u001b[0;32m      6\u001b[0m \u001b[0massert_equal\u001b[0m\u001b[1;33m(\u001b[0m\u001b[1;36m2005\u001b[0m\u001b[1;33m,\u001b[0m \u001b[0mget_year_from_EGN\u001b[0m\u001b[1;33m(\u001b[0m\u001b[1;36m550027065\u001b[0m\u001b[1;33m)\u001b[0m\u001b[1;33m)\u001b[0m\u001b[1;33m\u001b[0m\u001b[1;33m\u001b[0m\u001b[0m\n\u001b[1;32m----> 7\u001b[1;33m \u001b[0massert_equal\u001b[0m\u001b[1;33m(\u001b[0m\u001b[1;36m1900\u001b[0m\u001b[1;33m,\u001b[0m \u001b[0mget_year_from_EGN\u001b[0m\u001b[1;33m(\u001b[0m\u001b[1;36m10027065\u001b[0m\u001b[1;33m)\u001b[0m\u001b[1;33m)\u001b[0m\u001b[1;33m\u001b[0m\u001b[1;33m\u001b[0m\u001b[0m\n\u001b[0m",
      "\u001b[1;32m~\\AppData\\Local\\Continuum\\anaconda3\\lib\\unittest\\case.py\u001b[0m in \u001b[0;36massertEqual\u001b[1;34m(self, first, second, msg)\u001b[0m\n\u001b[0;32m    837\u001b[0m         \"\"\"\n\u001b[0;32m    838\u001b[0m         \u001b[0massertion_func\u001b[0m \u001b[1;33m=\u001b[0m \u001b[0mself\u001b[0m\u001b[1;33m.\u001b[0m\u001b[0m_getAssertEqualityFunc\u001b[0m\u001b[1;33m(\u001b[0m\u001b[0mfirst\u001b[0m\u001b[1;33m,\u001b[0m \u001b[0msecond\u001b[0m\u001b[1;33m)\u001b[0m\u001b[1;33m\u001b[0m\u001b[1;33m\u001b[0m\u001b[0m\n\u001b[1;32m--> 839\u001b[1;33m         \u001b[0massertion_func\u001b[0m\u001b[1;33m(\u001b[0m\u001b[0mfirst\u001b[0m\u001b[1;33m,\u001b[0m \u001b[0msecond\u001b[0m\u001b[1;33m,\u001b[0m \u001b[0mmsg\u001b[0m\u001b[1;33m=\u001b[0m\u001b[0mmsg\u001b[0m\u001b[1;33m)\u001b[0m\u001b[1;33m\u001b[0m\u001b[1;33m\u001b[0m\u001b[0m\n\u001b[0m\u001b[0;32m    840\u001b[0m \u001b[1;33m\u001b[0m\u001b[0m\n\u001b[0;32m    841\u001b[0m     \u001b[1;32mdef\u001b[0m \u001b[0massertNotEqual\u001b[0m\u001b[1;33m(\u001b[0m\u001b[0mself\u001b[0m\u001b[1;33m,\u001b[0m \u001b[0mfirst\u001b[0m\u001b[1;33m,\u001b[0m \u001b[0msecond\u001b[0m\u001b[1;33m,\u001b[0m \u001b[0mmsg\u001b[0m\u001b[1;33m=\u001b[0m\u001b[1;32mNone\u001b[0m\u001b[1;33m)\u001b[0m\u001b[1;33m:\u001b[0m\u001b[1;33m\u001b[0m\u001b[1;33m\u001b[0m\u001b[0m\n",
      "\u001b[1;32m~\\AppData\\Local\\Continuum\\anaconda3\\lib\\unittest\\case.py\u001b[0m in \u001b[0;36m_baseAssertEqual\u001b[1;34m(self, first, second, msg)\u001b[0m\n\u001b[0;32m    830\u001b[0m             \u001b[0mstandardMsg\u001b[0m \u001b[1;33m=\u001b[0m \u001b[1;34m'%s != %s'\u001b[0m \u001b[1;33m%\u001b[0m \u001b[0m_common_shorten_repr\u001b[0m\u001b[1;33m(\u001b[0m\u001b[0mfirst\u001b[0m\u001b[1;33m,\u001b[0m \u001b[0msecond\u001b[0m\u001b[1;33m)\u001b[0m\u001b[1;33m\u001b[0m\u001b[1;33m\u001b[0m\u001b[0m\n\u001b[0;32m    831\u001b[0m             \u001b[0mmsg\u001b[0m \u001b[1;33m=\u001b[0m \u001b[0mself\u001b[0m\u001b[1;33m.\u001b[0m\u001b[0m_formatMessage\u001b[0m\u001b[1;33m(\u001b[0m\u001b[0mmsg\u001b[0m\u001b[1;33m,\u001b[0m \u001b[0mstandardMsg\u001b[0m\u001b[1;33m)\u001b[0m\u001b[1;33m\u001b[0m\u001b[1;33m\u001b[0m\u001b[0m\n\u001b[1;32m--> 832\u001b[1;33m             \u001b[1;32mraise\u001b[0m \u001b[0mself\u001b[0m\u001b[1;33m.\u001b[0m\u001b[0mfailureException\u001b[0m\u001b[1;33m(\u001b[0m\u001b[0mmsg\u001b[0m\u001b[1;33m)\u001b[0m\u001b[1;33m\u001b[0m\u001b[1;33m\u001b[0m\u001b[0m\n\u001b[0m\u001b[0;32m    833\u001b[0m \u001b[1;33m\u001b[0m\u001b[0m\n\u001b[0;32m    834\u001b[0m     \u001b[1;32mdef\u001b[0m \u001b[0massertEqual\u001b[0m\u001b[1;33m(\u001b[0m\u001b[0mself\u001b[0m\u001b[1;33m,\u001b[0m \u001b[0mfirst\u001b[0m\u001b[1;33m,\u001b[0m \u001b[0msecond\u001b[0m\u001b[1;33m,\u001b[0m \u001b[0mmsg\u001b[0m\u001b[1;33m=\u001b[0m\u001b[1;32mNone\u001b[0m\u001b[1;33m)\u001b[0m\u001b[1;33m:\u001b[0m\u001b[1;33m\u001b[0m\u001b[1;33m\u001b[0m\u001b[0m\n",
      "\u001b[1;31mAssertionError\u001b[0m: 1900 != 1901.0"
     ]
    }
   ],
   "source": [
    "assert_equal(1985, get_year_from_EGN(8504027065))\n",
    "assert_equal(1885, get_year_from_EGN(8524027065))\n",
    "assert_equal(2085, get_year_from_EGN(8544027065))\n",
    "assert_equal(1905, get_year_from_EGN(510027065))\n",
    "assert_equal(1805, get_year_from_EGN(530027065))\n",
    "assert_equal(2005, get_year_from_EGN(550027065))\n",
    "assert_equal(1900, get_year_from_EGN(10027065))"
   ]
  },
  {
   "cell_type": "markdown",
   "metadata": {},
   "source": [
    "### Resources:\n",
    "- http://trudipravo.bg/index.php/znanie-za-vas/1053-tablitzi-za-usloviyata-za-pridobivane-pravo-na-pensiya-za-osiguritelen-stazh-i-vazrast \n",
    "- https://bg.wikipedia.org/wiki/%D0%95%D0%B4%D0%B8%D0%BD%D0%B5%D0%BD_%D0%B3%D1%80%D0%B0%D0%B6%D0%B4%D0%B0%D0%BD%D1%81%D0%BA%D0%B8_%D0%BD%D0%BE%D0%BC%D0%B5%D1%80"
   ]
  },
  {
   "cell_type": "code",
   "execution_count": null,
   "metadata": {},
   "outputs": [],
   "source": []
  }
 ],
 "metadata": {
  "kernelspec": {
   "display_name": "Python 3",
   "language": "python",
   "name": "python3"
  },
  "language_info": {
   "codemirror_mode": {
    "name": "ipython",
    "version": 3
   },
   "file_extension": ".py",
   "mimetype": "text/x-python",
   "name": "python",
   "nbconvert_exporter": "python",
   "pygments_lexer": "ipython3",
   "version": "3.7.1"
  }
 },
 "nbformat": 4,
 "nbformat_minor": 2
}
